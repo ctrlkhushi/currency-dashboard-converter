{
 "cells": [
  {
   "cell_type": "code",
   "execution_count": 145,
   "metadata": {},
   "outputs": [],
   "source": [
    "import pandas as pd\r\n",
    "import numpy as np\r\n",
    "from requests import api \r\n",
    "from pycoingecko import CoinGeckoAPI\r\n",
    "import plotly.graph_objects as go\r\n",
    "\r\n"
   ]
  },
  {
   "cell_type": "markdown",
   "metadata": {},
   "source": [
    "## Defining the dataframes to store the status updates"
   ]
  },
  {
   "cell_type": "code",
   "execution_count": 146,
   "metadata": {},
   "outputs": [
    {
     "data": {
      "text/plain": [
       "Index(['Category', 'Thumb_url', 'Symbol', 'Description', 'Created_at', 'User'], dtype='object')"
      ]
     },
     "execution_count": 146,
     "metadata": {},
     "output_type": "execute_result"
    }
   ],
   "source": [
    "df_status_updates = pd.DataFrame(columns=['Category', 'Thumb_url', 'Symbol', 'Description', 'Created_at', 'User'], index=None)\r\n",
    "df_status_updates.columns"
   ]
  },
  {
   "cell_type": "markdown",
   "metadata": {},
   "source": [
    "## Initialise the coingecko API and request the status_updates endpoint"
   ]
  },
  {
   "cell_type": "code",
   "execution_count": 150,
   "metadata": {},
   "outputs": [],
   "source": [
    "category = ['general', 'software_release', 'milestone', 'exchange_listing' ]\r\n",
    "\r\n",
    "for cat in category:\r\n",
    "\r\n",
    "    enpoint_url = f\"https://api.coingecko.com/api/v3/status_updates?category={cat}&project_type=coin&per_page=20&page=1\"\r\n",
    "    status_upd_json = api.get(enpoint_url).json()\r\n",
    "    status_upd = status_upd_json['status_updates']\r\n",
    "\r\n",
    "    for status in status_upd:\r\n",
    "        # print(status)\r\n",
    "        user_name = status['user']\r\n",
    "        user_title = status['user_title']\r\n",
    "        user = f'{user_name} ({user_title})'\r\n",
    "\r\n",
    "        image_txt = status['project']['symbol']\r\n",
    "        image_url = status['project']['image']['thumb']\r\n",
    "        thumb = f'![{image_txt}]({image_url})'\r\n",
    "\r\n",
    "        df_status_updates = df_status_updates.append(pd.Series([\r\n",
    "            status['category'],\r\n",
    "            thumb,              #status['project']['image']['thumb'],\r\n",
    "            status['project']['symbol'],\r\n",
    "            status['description'],\r\n",
    "            status['created_at'],\r\n",
    "            user\r\n",
    "            ], index=df_status_updates.columns), ignore_index=True)\r\n",
    "    \r\n"
   ]
  },
  {
   "cell_type": "markdown",
   "metadata": {},
   "source": [
    "## Data Cleansing - Check for null values"
   ]
  },
  {
   "cell_type": "code",
   "execution_count": 149,
   "metadata": {},
   "outputs": [
    {
     "data": {
      "text/plain": [
       "Category       0\n",
       "Thumb_url      0\n",
       "Symbol         0\n",
       "Description    0\n",
       "Created_at     0\n",
       "User           0\n",
       "dtype: int64"
      ]
     },
     "execution_count": 149,
     "metadata": {},
     "output_type": "execute_result"
    }
   ],
   "source": [
    "df_status_updates.isnull().sum()"
   ]
  },
  {
   "cell_type": "code",
   "execution_count": 144,
   "metadata": {},
   "outputs": [
    {
     "data": {
      "text/html": [
       "<div>\n",
       "<style scoped>\n",
       "    .dataframe tbody tr th:only-of-type {\n",
       "        vertical-align: middle;\n",
       "    }\n",
       "\n",
       "    .dataframe tbody tr th {\n",
       "        vertical-align: top;\n",
       "    }\n",
       "\n",
       "    .dataframe thead th {\n",
       "        text-align: right;\n",
       "    }\n",
       "</style>\n",
       "<table border=\"1\" class=\"dataframe\">\n",
       "  <thead>\n",
       "    <tr style=\"text-align: right;\">\n",
       "      <th></th>\n",
       "      <th>Category</th>\n",
       "      <th>Thumb_url</th>\n",
       "      <th>Symbol</th>\n",
       "      <th>Description</th>\n",
       "      <th>Created_at</th>\n",
       "      <th>User</th>\n",
       "    </tr>\n",
       "  </thead>\n",
       "  <tbody>\n",
       "    <tr>\n",
       "      <th>0</th>\n",
       "      <td>general</td>\n",
       "      <td>https://assets.coingecko.com/coins/images/479/...</td>\n",
       "      <td>firo</td>\n",
       "      <td>Firo now is listed on Polarity (https://polari...</td>\n",
       "      <td>2021-07-08T19:28:12.181Z</td>\n",
       "      <td>None (Community Lead)</td>\n",
       "    </tr>\n",
       "    <tr>\n",
       "      <th>1</th>\n",
       "      <td>general</td>\n",
       "      <td>https://assets.coingecko.com/coins/images/479/...</td>\n",
       "      <td>firo</td>\n",
       "      <td>A quick video update from Firo's Project Stewa...</td>\n",
       "      <td>2021-07-08T19:27:59.419Z</td>\n",
       "      <td>None (Community Lead)</td>\n",
       "    </tr>\n",
       "    <tr>\n",
       "      <th>2</th>\n",
       "      <td>general</td>\n",
       "      <td>https://assets.coingecko.com/coins/images/860/...</td>\n",
       "      <td>dime</td>\n",
       "      <td>Attention: Dimecoin is not currently conductin...</td>\n",
       "      <td>2021-07-08T18:01:54.743Z</td>\n",
       "      <td>Douglas Hopping | Dimecoin Network (COO)</td>\n",
       "    </tr>\n",
       "    <tr>\n",
       "      <th>3</th>\n",
       "      <td>general</td>\n",
       "      <td>https://assets.coingecko.com/coins/images/1348...</td>\n",
       "      <td>dyp</td>\n",
       "      <td>#DeFiYieldProtocol yield farming is live on #A...</td>\n",
       "      <td>2021-07-08T16:48:27.672Z</td>\n",
       "      <td>None (CEO &amp; Product Manager)</td>\n",
       "    </tr>\n",
       "    <tr>\n",
       "      <th>4</th>\n",
       "      <td>general</td>\n",
       "      <td>https://assets.coingecko.com/coins/images/756/...</td>\n",
       "      <td>nano</td>\n",
       "      <td>Great news Argentina &amp; Venezuela! NANO is now ...</td>\n",
       "      <td>2021-07-08T16:41:33.669Z</td>\n",
       "      <td>Naome Jones (Communications Manager)</td>\n",
       "    </tr>\n",
       "  </tbody>\n",
       "</table>\n",
       "</div>"
      ],
      "text/plain": [
       "  Category                                          Thumb_url Symbol  \\\n",
       "0  general  https://assets.coingecko.com/coins/images/479/...   firo   \n",
       "1  general  https://assets.coingecko.com/coins/images/479/...   firo   \n",
       "2  general  https://assets.coingecko.com/coins/images/860/...   dime   \n",
       "3  general  https://assets.coingecko.com/coins/images/1348...    dyp   \n",
       "4  general  https://assets.coingecko.com/coins/images/756/...   nano   \n",
       "\n",
       "                                         Description  \\\n",
       "0  Firo now is listed on Polarity (https://polari...   \n",
       "1  A quick video update from Firo's Project Stewa...   \n",
       "2  Attention: Dimecoin is not currently conductin...   \n",
       "3  #DeFiYieldProtocol yield farming is live on #A...   \n",
       "4  Great news Argentina & Venezuela! NANO is now ...   \n",
       "\n",
       "                 Created_at                                      User  \n",
       "0  2021-07-08T19:28:12.181Z                     None (Community Lead)  \n",
       "1  2021-07-08T19:27:59.419Z                     None (Community Lead)  \n",
       "2  2021-07-08T18:01:54.743Z  Douglas Hopping | Dimecoin Network (COO)  \n",
       "3  2021-07-08T16:48:27.672Z              None (CEO & Product Manager)  \n",
       "4  2021-07-08T16:41:33.669Z      Naome Jones (Communications Manager)  "
      ]
     },
     "execution_count": 144,
     "metadata": {},
     "output_type": "execute_result"
    }
   ],
   "source": [
    "df_status_updates.head()"
   ]
  },
  {
   "cell_type": "code",
   "execution_count": 137,
   "metadata": {},
   "outputs": [
    {
     "data": {
      "text/html": [
       "<div>\n",
       "<style scoped>\n",
       "    .dataframe tbody tr th:only-of-type {\n",
       "        vertical-align: middle;\n",
       "    }\n",
       "\n",
       "    .dataframe tbody tr th {\n",
       "        vertical-align: top;\n",
       "    }\n",
       "\n",
       "    .dataframe thead th {\n",
       "        text-align: right;\n",
       "    }\n",
       "</style>\n",
       "<table border=\"1\" class=\"dataframe\">\n",
       "  <thead>\n",
       "    <tr style=\"text-align: right;\">\n",
       "      <th></th>\n",
       "      <th>Category</th>\n",
       "      <th>Thumb_url</th>\n",
       "      <th>Symbol</th>\n",
       "      <th>Description</th>\n",
       "      <th>Created_at</th>\n",
       "      <th>User</th>\n",
       "    </tr>\n",
       "  </thead>\n",
       "  <tbody>\n",
       "    <tr>\n",
       "      <th>5</th>\n",
       "      <td>software_release</td>\n",
       "      <td>https://assets.coingecko.com/coins/images/548/...</td>\n",
       "      <td>pivx</td>\n",
       "      <td>PIVX v5.2.0 core desktop wallet has just been ...</td>\n",
       "      <td>2021-06-28T00:43:47.172Z</td>\n",
       "      <td>Jay Kim (Chief Advisor)</td>\n",
       "    </tr>\n",
       "    <tr>\n",
       "      <th>6</th>\n",
       "      <td>software_release</td>\n",
       "      <td>https://assets.coingecko.com/coins/images/71/t...</td>\n",
       "      <td>grs</td>\n",
       "      <td>≡ Groestlcoin Development Release ≡ 22nd June ...</td>\n",
       "      <td>2021-06-22T19:42:55.817Z</td>\n",
       "      <td>Jackie (Lead Developer)</td>\n",
       "    </tr>\n",
       "    <tr>\n",
       "      <th>7</th>\n",
       "      <td>software_release</td>\n",
       "      <td>https://assets.coingecko.com/coins/images/548/...</td>\n",
       "      <td>pivx</td>\n",
       "      <td>We are excited to announce the imminent releas...</td>\n",
       "      <td>2021-06-21T13:06:46.283Z</td>\n",
       "      <td>Jay Kim (Chief Advisor)</td>\n",
       "    </tr>\n",
       "    <tr>\n",
       "      <th>8</th>\n",
       "      <td>software_release</td>\n",
       "      <td>https://assets.coingecko.com/coins/images/2372...</td>\n",
       "      <td>adm</td>\n",
       "      <td>New release: v2.0.0 ADAMANT Pool https://githu...</td>\n",
       "      <td>2021-06-19T14:27:25.154Z</td>\n",
       "      <td>Aleksei Lebedev (Founder)</td>\n",
       "    </tr>\n",
       "    <tr>\n",
       "      <th>9</th>\n",
       "      <td>software_release</td>\n",
       "      <td>https://assets.coingecko.com/coins/images/1148...</td>\n",
       "      <td>onion</td>\n",
       "      <td>Version 2.3.0.1 is a mandatory release with th...</td>\n",
       "      <td>2021-06-18T11:00:06.772Z</td>\n",
       "      <td>DeepOnion (Developer)</td>\n",
       "    </tr>\n",
       "  </tbody>\n",
       "</table>\n",
       "</div>"
      ],
      "text/plain": [
       "           Category                                          Thumb_url Symbol  \\\n",
       "5  software_release  https://assets.coingecko.com/coins/images/548/...   pivx   \n",
       "6  software_release  https://assets.coingecko.com/coins/images/71/t...    grs   \n",
       "7  software_release  https://assets.coingecko.com/coins/images/548/...   pivx   \n",
       "8  software_release  https://assets.coingecko.com/coins/images/2372...    adm   \n",
       "9  software_release  https://assets.coingecko.com/coins/images/1148...  onion   \n",
       "\n",
       "                                         Description  \\\n",
       "5  PIVX v5.2.0 core desktop wallet has just been ...   \n",
       "6  ≡ Groestlcoin Development Release ≡ 22nd June ...   \n",
       "7  We are excited to announce the imminent releas...   \n",
       "8  New release: v2.0.0 ADAMANT Pool https://githu...   \n",
       "9  Version 2.3.0.1 is a mandatory release with th...   \n",
       "\n",
       "                 Created_at                       User  \n",
       "5  2021-06-28T00:43:47.172Z    Jay Kim (Chief Advisor)  \n",
       "6  2021-06-22T19:42:55.817Z    Jackie (Lead Developer)  \n",
       "7  2021-06-21T13:06:46.283Z    Jay Kim (Chief Advisor)  \n",
       "8  2021-06-19T14:27:25.154Z  Aleksei Lebedev (Founder)  \n",
       "9  2021-06-18T11:00:06.772Z      DeepOnion (Developer)  "
      ]
     },
     "execution_count": 137,
     "metadata": {},
     "output_type": "execute_result"
    }
   ],
   "source": [
    "df_filtered = df_status_updates.loc[ df_status_updates['Category'] == 'software_release'  ]\r\n",
    "df_filtered.head()"
   ]
  }
 ],
 "metadata": {
  "interpreter": {
   "hash": "b1e821121f0c08743987dc62d8d21526602e0b8c1004a3750493d43aff4e0d27"
  },
  "kernelspec": {
   "display_name": "Python 3.7.10 64-bit ('pyvizenv': conda)",
   "name": "python3"
  },
  "language_info": {
   "name": "python",
   "version": ""
  },
  "orig_nbformat": 4
 },
 "nbformat": 4,
 "nbformat_minor": 2
}