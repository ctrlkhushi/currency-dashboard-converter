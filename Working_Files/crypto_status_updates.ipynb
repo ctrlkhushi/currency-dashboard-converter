{
 "cells": [
  {
   "cell_type": "code",
   "execution_count": 130,
   "metadata": {},
   "outputs": [],
   "source": [
    "import pandas as pd\r\n",
    "import numpy as np\r\n",
    "from requests import api \r\n",
    "from pycoingecko import CoinGeckoAPI\r\n",
    "import plotly.graph_objects as go\r\n",
    "\r\n"
   ]
  },
  {
   "cell_type": "markdown",
   "metadata": {},
   "source": [
    "## Defining the dataframes to store the status updates"
   ]
  },
  {
   "cell_type": "code",
   "execution_count": 131,
   "metadata": {},
   "outputs": [
    {
     "data": {
      "text/plain": [
       "Index(['Category', 'Thumb_url', 'Symbol', 'Description', 'Created_at', 'User'], dtype='object')"
      ]
     },
     "execution_count": 131,
     "metadata": {},
     "output_type": "execute_result"
    }
   ],
   "source": [
    "df_status_updates = pd.DataFrame(columns=['Category', 'Thumb_url', 'Symbol', 'Description', 'Created_at', 'User'], index=None)\r\n",
    "df_status_updates.columns"
   ]
  },
  {
   "cell_type": "markdown",
   "metadata": {},
   "source": [
    "## Initialise the coingecko API and request the status_updates endpoint"
   ]
  },
  {
   "cell_type": "code",
   "execution_count": null,
   "metadata": {},
   "outputs": [],
   "source": [
    "category = ['general', 'software_release', 'milestone', 'exchange_listing', ]\r\n",
    "\r\n",
    "for cat in category:\r\n",
    "\r\n",
    "    enpoint_url = f\"https://api.coingecko.com/api/v3/status_updates?category={cat}&project_type=coin&per_page=20&page=1\"\r\n",
    "    status_upd_json = api.get(enpoint_url).json()\r\n",
    "    status_upd = status_upd_json['status_updates']\r\n",
    "\r\n",
    "    for status in status_upd:\r\n",
    "        # print(status)\r\n",
    "        user_name = status['user']\r\n",
    "        user_title = status['user_title']\r\n",
    "        user = f'{user_name} ({user_title})'\r\n",
    "\r\n",
    "        image_txt = status['project']['symbol']\r\n",
    "        image_url = status['project']['image']['thumb']\r\n",
    "        thumb = f'![{image_txt}]({image_url})'\r\n",
    "\r\n",
    "        df_status_updates = df_status_updates.append(pd.Series([\r\n",
    "            status['category'],\r\n",
    "            thumb,              #status['project']['image']['thumb'],\r\n",
    "            status['project']['symbol'],\r\n",
    "            status['description'],\r\n",
    "            status['created_at'],\r\n",
    "            user\r\n",
    "            ], index=df_status_updates.columns), ignore_index=True)\r\n",
    "        # print(thumb)\r\n",
    "    \r\n"
   ]
  },
  {
   "cell_type": "code",
   "execution_count": 144,
   "metadata": {},
   "outputs": [
    {
     "data": {
      "text/html": [
       "<div>\n",
       "<style scoped>\n",
       "    .dataframe tbody tr th:only-of-type {\n",
       "        vertical-align: middle;\n",
       "    }\n",
       "\n",
       "    .dataframe tbody tr th {\n",
       "        vertical-align: top;\n",
       "    }\n",
       "\n",
       "    .dataframe thead th {\n",
       "        text-align: right;\n",
       "    }\n",
       "</style>\n",
       "<table border=\"1\" class=\"dataframe\">\n",
       "  <thead>\n",
       "    <tr style=\"text-align: right;\">\n",
       "      <th></th>\n",
       "      <th>Category</th>\n",
       "      <th>Thumb_url</th>\n",
       "      <th>Symbol</th>\n",
       "      <th>Description</th>\n",
       "      <th>Created_at</th>\n",
       "      <th>User</th>\n",
       "    </tr>\n",
       "  </thead>\n",
       "  <tbody>\n",
       "    <tr>\n",
       "      <th>0</th>\n",
       "      <td>general</td>\n",
       "      <td>https://assets.coingecko.com/coins/images/479/...</td>\n",
       "      <td>firo</td>\n",
       "      <td>Firo now is listed on Polarity (https://polari...</td>\n",
       "      <td>2021-07-08T19:28:12.181Z</td>\n",
       "      <td>None (Community Lead)</td>\n",
       "    </tr>\n",
       "    <tr>\n",
       "      <th>1</th>\n",
       "      <td>general</td>\n",
       "      <td>https://assets.coingecko.com/coins/images/479/...</td>\n",
       "      <td>firo</td>\n",
       "      <td>A quick video update from Firo's Project Stewa...</td>\n",
       "      <td>2021-07-08T19:27:59.419Z</td>\n",
       "      <td>None (Community Lead)</td>\n",
       "    </tr>\n",
       "    <tr>\n",
       "      <th>2</th>\n",
       "      <td>general</td>\n",
       "      <td>https://assets.coingecko.com/coins/images/860/...</td>\n",
       "      <td>dime</td>\n",
       "      <td>Attention: Dimecoin is not currently conductin...</td>\n",
       "      <td>2021-07-08T18:01:54.743Z</td>\n",
       "      <td>Douglas Hopping | Dimecoin Network (COO)</td>\n",
       "    </tr>\n",
       "    <tr>\n",
       "      <th>3</th>\n",
       "      <td>general</td>\n",
       "      <td>https://assets.coingecko.com/coins/images/1348...</td>\n",
       "      <td>dyp</td>\n",
       "      <td>#DeFiYieldProtocol yield farming is live on #A...</td>\n",
       "      <td>2021-07-08T16:48:27.672Z</td>\n",
       "      <td>None (CEO &amp; Product Manager)</td>\n",
       "    </tr>\n",
       "    <tr>\n",
       "      <th>4</th>\n",
       "      <td>general</td>\n",
       "      <td>https://assets.coingecko.com/coins/images/756/...</td>\n",
       "      <td>nano</td>\n",
       "      <td>Great news Argentina &amp; Venezuela! NANO is now ...</td>\n",
       "      <td>2021-07-08T16:41:33.669Z</td>\n",
       "      <td>Naome Jones (Communications Manager)</td>\n",
       "    </tr>\n",
       "  </tbody>\n",
       "</table>\n",
       "</div>"
      ],
      "text/plain": [
       "  Category                                          Thumb_url Symbol  \\\n",
       "0  general  https://assets.coingecko.com/coins/images/479/...   firo   \n",
       "1  general  https://assets.coingecko.com/coins/images/479/...   firo   \n",
       "2  general  https://assets.coingecko.com/coins/images/860/...   dime   \n",
       "3  general  https://assets.coingecko.com/coins/images/1348...    dyp   \n",
       "4  general  https://assets.coingecko.com/coins/images/756/...   nano   \n",
       "\n",
       "                                         Description  \\\n",
       "0  Firo now is listed on Polarity (https://polari...   \n",
       "1  A quick video update from Firo's Project Stewa...   \n",
       "2  Attention: Dimecoin is not currently conductin...   \n",
       "3  #DeFiYieldProtocol yield farming is live on #A...   \n",
       "4  Great news Argentina & Venezuela! NANO is now ...   \n",
       "\n",
       "                 Created_at                                      User  \n",
       "0  2021-07-08T19:28:12.181Z                     None (Community Lead)  \n",
       "1  2021-07-08T19:27:59.419Z                     None (Community Lead)  \n",
       "2  2021-07-08T18:01:54.743Z  Douglas Hopping | Dimecoin Network (COO)  \n",
       "3  2021-07-08T16:48:27.672Z              None (CEO & Product Manager)  \n",
       "4  2021-07-08T16:41:33.669Z      Naome Jones (Communications Manager)  "
      ]
     },
     "execution_count": 144,
     "metadata": {},
     "output_type": "execute_result"
    }
   ],
   "source": [
    "df_status_updates.head()"
   ]
  },
  {
   "cell_type": "code",
   "execution_count": 137,
   "metadata": {},
   "outputs": [
    {
     "data": {
      "text/html": [
       "<div>\n",
       "<style scoped>\n",
       "    .dataframe tbody tr th:only-of-type {\n",
       "        vertical-align: middle;\n",
       "    }\n",
       "\n",
       "    .dataframe tbody tr th {\n",
       "        vertical-align: top;\n",
       "    }\n",
       "\n",
       "    .dataframe thead th {\n",
       "        text-align: right;\n",
       "    }\n",
       "</style>\n",
       "<table border=\"1\" class=\"dataframe\">\n",
       "  <thead>\n",
       "    <tr style=\"text-align: right;\">\n",
       "      <th></th>\n",
       "      <th>Category</th>\n",
       "      <th>Thumb_url</th>\n",
       "      <th>Symbol</th>\n",
       "      <th>Description</th>\n",
       "      <th>Created_at</th>\n",
       "      <th>User</th>\n",
       "    </tr>\n",
       "  </thead>\n",
       "  <tbody>\n",
       "    <tr>\n",
       "      <th>5</th>\n",
       "      <td>software_release</td>\n",
       "      <td>https://assets.coingecko.com/coins/images/548/...</td>\n",
       "      <td>pivx</td>\n",
       "      <td>PIVX v5.2.0 core desktop wallet has just been ...</td>\n",
       "      <td>2021-06-28T00:43:47.172Z</td>\n",
       "      <td>Jay Kim (Chief Advisor)</td>\n",
       "    </tr>\n",
       "    <tr>\n",
       "      <th>6</th>\n",
       "      <td>software_release</td>\n",
       "      <td>https://assets.coingecko.com/coins/images/71/t...</td>\n",
       "      <td>grs</td>\n",
       "      <td>≡ Groestlcoin Development Release ≡ 22nd June ...</td>\n",
       "      <td>2021-06-22T19:42:55.817Z</td>\n",
       "      <td>Jackie (Lead Developer)</td>\n",
       "    </tr>\n",
       "    <tr>\n",
       "      <th>7</th>\n",
       "      <td>software_release</td>\n",
       "      <td>https://assets.coingecko.com/coins/images/548/...</td>\n",
       "      <td>pivx</td>\n",
       "      <td>We are excited to announce the imminent releas...</td>\n",
       "      <td>2021-06-21T13:06:46.283Z</td>\n",
       "      <td>Jay Kim (Chief Advisor)</td>\n",
       "    </tr>\n",
       "    <tr>\n",
       "      <th>8</th>\n",
       "      <td>software_release</td>\n",
       "      <td>https://assets.coingecko.com/coins/images/2372...</td>\n",
       "      <td>adm</td>\n",
       "      <td>New release: v2.0.0 ADAMANT Pool https://githu...</td>\n",
       "      <td>2021-06-19T14:27:25.154Z</td>\n",
       "      <td>Aleksei Lebedev (Founder)</td>\n",
       "    </tr>\n",
       "    <tr>\n",
       "      <th>9</th>\n",
       "      <td>software_release</td>\n",
       "      <td>https://assets.coingecko.com/coins/images/1148...</td>\n",
       "      <td>onion</td>\n",
       "      <td>Version 2.3.0.1 is a mandatory release with th...</td>\n",
       "      <td>2021-06-18T11:00:06.772Z</td>\n",
       "      <td>DeepOnion (Developer)</td>\n",
       "    </tr>\n",
       "  </tbody>\n",
       "</table>\n",
       "</div>"
      ],
      "text/plain": [
       "           Category                                          Thumb_url Symbol  \\\n",
       "5  software_release  https://assets.coingecko.com/coins/images/548/...   pivx   \n",
       "6  software_release  https://assets.coingecko.com/coins/images/71/t...    grs   \n",
       "7  software_release  https://assets.coingecko.com/coins/images/548/...   pivx   \n",
       "8  software_release  https://assets.coingecko.com/coins/images/2372...    adm   \n",
       "9  software_release  https://assets.coingecko.com/coins/images/1148...  onion   \n",
       "\n",
       "                                         Description  \\\n",
       "5  PIVX v5.2.0 core desktop wallet has just been ...   \n",
       "6  ≡ Groestlcoin Development Release ≡ 22nd June ...   \n",
       "7  We are excited to announce the imminent releas...   \n",
       "8  New release: v2.0.0 ADAMANT Pool https://githu...   \n",
       "9  Version 2.3.0.1 is a mandatory release with th...   \n",
       "\n",
       "                 Created_at                       User  \n",
       "5  2021-06-28T00:43:47.172Z    Jay Kim (Chief Advisor)  \n",
       "6  2021-06-22T19:42:55.817Z    Jackie (Lead Developer)  \n",
       "7  2021-06-21T13:06:46.283Z    Jay Kim (Chief Advisor)  \n",
       "8  2021-06-19T14:27:25.154Z  Aleksei Lebedev (Founder)  \n",
       "9  2021-06-18T11:00:06.772Z      DeepOnion (Developer)  "
      ]
     },
     "execution_count": 137,
     "metadata": {},
     "output_type": "execute_result"
    }
   ],
   "source": [
    "df_filtered = df_status_updates.loc[ df_status_updates['Category'] == 'software_release'  ]\r\n",
    "df_filtered.head()"
   ]
  },
  {
   "cell_type": "code",
   "execution_count": 108,
   "metadata": {},
   "outputs": [],
   "source": [
    "fig = go.Figure(data=[go.Table(\r\n",
    "  columnorder = [1,2,3,4,5,6],\r\n",
    "  columnwidth = [40,40,120, 80,80,80],\r\n",
    "  # header = dict(\r\n",
    "  #   values = [ ['<b>Category</b>'],['<b>Symbol</b>'], ['<b>Description</b>'], ['<b>Created at</b>'], ['<b>User</b>'], ['<b>Thumb_URL</b>'] ]\r\n",
    "  #   # line_color='darkslategray',\r\n",
    "  #   # fill_color='royalblue',\r\n",
    "  #   # align=['left', 'left', 'left', 'left', 'left', 'left']\r\n",
    "  #   # font=dict(color='white', size=12),\r\n",
    "  #   # height=40\r\n",
    "  # ),\r\n",
    "  cells=dict(\r\n",
    "    # values= df_status_updates,              #The dataframe\r\n",
    "    values= df_status_updates\r\n",
    "    # line_color='darkslategray',\r\n",
    "    # fill=dict(color='paleturquoise'),\r\n",
    "    # align= 'left',\r\n",
    "    # font_size=12,\r\n",
    "    # height=30\r\n",
    "    )\r\n",
    "    )\r\n",
    "])"
   ]
  },
  {
   "cell_type": "code",
   "execution_count": 109,
   "metadata": {},
   "outputs": [
    {
     "data": {
      "application/vnd.plotly.v1+json": {
       "config": {
        "plotlyServerURL": "https://plot.ly"
       },
       "data": [
        {
         "cells": {
          "values": [
           [
            "general",
            "https://assets.coingecko.com/coins/images/479/thumb/firo.jpg?1606730284",
            "firo",
            "Firo now is listed on Polarity (https://polarity.exchange), a popular DEX for many privacy coins. Check out the launch trading competition too! \r\n\r\nhttps://medium.com/polarity-exchange/firo-is-now-listed-trading-on-polarity-exchange-ce81cc5071c6",
            "2021-07-08T19:28:12.181Z",
            "None (Community Lead)"
           ],
           [
            "general",
            "https://assets.coingecko.com/coins/images/479/thumb/firo.jpg?1606730284",
            "firo",
            "A quick video update from Firo's Project Steward, Reuben, about Firo's Research\r\n\r\nhttps://www.youtube.com/watch?v=AbM0VXxNJq8",
            "2021-07-08T19:27:59.419Z",
            "None (Community Lead)"
           ],
           [
            "general",
            "https://assets.coingecko.com/coins/images/860/thumb/logo3white.png?1547034664",
            "dime",
            "Attention: Dimecoin is not currently conducting any sort of giveaways. Please be advised there is a fake account on Facebook attempting to impersonate Dimecoin in an effort to obtain access to your myetherwallet.\r\n\r\nPlease DO NOT give any of your personal details or follow the link in the message!\r\n\r\nIf you happen to receive this message, please report the account and mark the message as fraud/spam. Thank you",
            "2021-07-08T18:01:54.743Z",
            "Douglas Hopping | Dimecoin Network (COO)"
           ],
           [
            "general",
            "https://assets.coingecko.com/coins/images/13480/thumb/dyp_logo.png?1608971751",
            "dyp",
            "#DeFiYieldProtocol yield farming is live on #Avalanche \r\n\r\nYou can swap #DYP tokens from #Ethereum to #Avalanche Network using our Bridge, or buy it directly from Pangolin DEX \r\n\r\nThe #YieldFarming dApp can be found at https://dyp.finance/farm\r\n\r\nhttps://dypfinance.medium.com/defi-yield-protocol-community-update-yield-farming-tutorial-on-avalanche-9c0053593cd8\r\n\r\n👉 Retweet https://twitter.com/dypfinance/status/1413176606068203520?s=20",
            "2021-07-08T16:48:27.672Z",
            "None (CEO & Product Manager)"
           ],
           [
            "general",
            "https://assets.coingecko.com/coins/images/756/thumb/nano-coin-logo.png?1547034501",
            "nano",
            "Great news Argentina & Venezuela! NANO is now available on the Airtm P2P Marketplace!\r\n\r\nhttps://medium.com/nanocurrency/nano-is-now-available-on-airtm-p2p-marketplace-28ad9acfc856",
            "2021-07-08T16:41:33.669Z",
            "Naome Jones (Communications Manager)"
           ],
           [
            "software_release",
            "https://assets.coingecko.com/coins/images/548/thumb/PIVX-Shield.png?1609817792",
            "pivx",
            "PIVX v5.2.0 core desktop wallet has just been released and is now available for download! This wallet will re-activate Cold Staking!\r\n\r\nThis is a mandatory wallet upgrade. Network enforcement to protocol version 70922 is scheduled to take effect from block height 2,927,000 on mainnet, expected to happen at approx. July 9th, 2021. \r\n\r\nFore more info: https://pivx.org/news/pivx-v5-2-0-wallet-release-and-network-upgrade-announcement",
            "2021-06-28T00:43:47.172Z",
            "Jay Kim (Chief Advisor)"
           ],
           [
            "software_release",
            "https://assets.coingecko.com/coins/images/71/thumb/image001.png?1547033733",
            "grs",
            "≡ Groestlcoin Development Release ≡ 22nd June 2021 ≡\r\n\r\nWe have been working on a vast amount of new technology during these uncertain periods which we would like to share with you today.\r\n\r\nHere's our last 3 months of work: https://www.groestlcoin.org/22-june-2021-release/",
            "2021-06-22T19:42:55.817Z",
            "Jackie (Lead Developer)"
           ],
           [
            "software_release",
            "https://assets.coingecko.com/coins/images/548/thumb/PIVX-Shield.png?1609817792",
            "pivx",
            "We are excited to announce the imminent release schedule of v5.2 core desktop wallet, that will implement the necessary network hardening measures, and allow the re-activation of the Cold Staking feature!\r\n\r\nCheck the official announcement for more info on the roll out schedule: https://pivx.org/news/pivx-to-soon-release-v5-2-mandatory-core-wallet-update",
            "2021-06-21T13:06:46.283Z",
            "Jay Kim (Chief Advisor)"
           ],
           [
            "software_release",
            "https://assets.coingecko.com/coins/images/2372/thumb/adamant.png?1586835505",
            "adm",
            "New release: v2.0.0 ADAMANT Pool https://github.com/Adamant-im/adamant-pool/releases/tag/v2.0.0",
            "2021-06-19T14:27:25.154Z",
            "Aleksei Lebedev (Founder)"
           ],
           [
            "software_release",
            "https://assets.coingecko.com/coins/images/1148/thumb/deeponion-circle-icon.png?1554961318",
            "onion",
            "Version 2.3.0.1 is a mandatory release with the following improvements:\r\nCSV Fork Configured\r\nTor Upgrade\r\nTor v3 Address Support\r\nTor v2 support until CSV fork\r\nDeepSend Protocol improvements\r\nUpdated Checkpoints\r\n\r\nThe fork is set for the 1st of July 2021. \r\nhttps://deeponion.org/community/threads/new-release-2-3-0-1-mandatory-upgrade-1st-july-fork.45850/",
            "2021-06-18T11:00:06.772Z",
            "DeepOnion (Developer)"
           ],
           [
            "milestone",
            "https://assets.coingecko.com/coins/images/1102/thumb/enjin-coin-logo.png?1547035078",
            "enj",
            "We're proud to join the Crypto Climate Accord and announce that our JumpNet blockchain is now carbon negative!\r\n\r\nLearn more about our efforts toward sustainable NFTs: enjin.io/blog/crypto-climate-accord",
            "2021-06-24T14:07:46.978Z",
            "Maxim Blagov (CEO)"
           ],
           [
            "milestone",
            "https://assets.coingecko.com/coins/images/18/thumb/vertcoin-logo-2018.png?1547033643",
            "vtc",
            "Taproot PR is merged and 0.18-rc1 is tagged\r\nhttps://github.com/vertcoin-project/vertcoin-core/releases/tag/0.18.0-rc1\r\n\r\nHere’s the finalized deployment timeline :\r\nStartTime // July 1, 2021\r\nTimeout // August 14, 2021\r\nmin_activation_height // Approximately September 1, 2021",
            "2021-06-21T14:03:00.086Z",
            "Canen (Vertcoin Core Team)"
           ],
           [
            "milestone",
            "https://assets.coingecko.com/coins/images/248/thumb/Hs4mfPc_-_Imgur.png?1623868102",
            "troll",
            "Trollcoin is now available as a wrapped token on Binance Smart Chain!\r\nVisit https://trollcoin.com/wtroll for more information on wTROLL\r\n\r\nHuge thank you to the developers of Monetary Unit [MUE] for making this possible!\r\nVisit https://wrapping.services to learn more about what they have to offer.",
            "2021-06-16T18:05:02.082Z",
            "Karl Wickman (Project Manager)"
           ],
           [
            "milestone",
            "https://assets.coingecko.com/coins/images/839/thumb/Particl.png?1558053958",
            "part",
            "✅ Decentralized Treasury Model Proposal Approved ✅\r\n\r\nThe proposal to introduce a new decentralized treasury model has been overwhelmingly approved by Particl stakeholders with a majority vote of 96.6% and a participation rate of 70.6%. This successfully makes the Particl ecosystem entirely self-funded and will provide startup capital to community-approved projects aiming at growing and expanding the ecosystem.\r\n\r\n👉 https://particl.news/decentralized-treasury-proposal-results",
            "2021-06-14T01:57:28.223Z",
            "Cryptoguard (Lead Community Manager)"
           ],
           [
            "milestone",
            "https://assets.coingecko.com/coins/images/4949/thumb/cma.png?1547040370",
            "cma",
            "IMPORTANT! \r\nChange of Subscription and Pricing!\r\nSubscribe Before June 30, 2021 and get 20% Discount!\r\nIf you have a FREE subscription, you need to go to NEW SUBSCRIPTION on your Dashboard and Upgrade your Account before June 30, 2021!\r\nIf you do not upgrade, your account will expire on July 1, 2021 and ALL YOUR DATA WILL BE LOST!!!\r\nThank you for using CoinMarketAlert.com ",
            "2021-06-06T04:04:54.261Z",
            "Roderick Warren (Founder )"
           ],
           [
            "exchange_listing",
            "https://assets.coingecko.com/coins/images/966/thumb/colossusxt.png?1547034843",
            "colx",
            "$COLX has come to Binance Smart Chain 💚\r\n\r\nUsing the trusted platform Anyswap, any $COLX holders can swap to $bCOLX ready for trading on PancakeSwap 🥞\r\n\r\nThis brings $COLX to the masses, and a step closer to our goals. Details and Instructions here: https://bit.ly/Introducing_bCOLX\r\n\r\nRetweet/Like: https://twitter.com/ColossusCoinXT/status/1410303667971018754",
            "2021-06-30T19:58:52.982Z",
            "ColossusXT (ColossusXT Business Team)"
           ],
           [
            "exchange_listing",
            "https://assets.coingecko.com/coins/images/743/thumb/image004.png?1612246988",
            "iop",
            "🔥 XT Will Hold HYD Trading Competition 🔥 \r\n\r\n⏰  Time Period: 00:00 on June 30 - 00:00 on July 15, 2021 (UTC+8)\r\n\r\n💎 Activity 1: Trading HYD on XT.COM, Win a Share of 60,000 HYD!\r\n\r\n💎 Activity 2: HYD Holdings on XT.COM, Win a Share of 160,000 HYD！\r\n\r\nDetails:\r\nhttps://xtsupport.zendesk.com/hc/en-us/articles/4402955314841-XT-Will-Hold-HYD-Trading-Competition",
            "2021-06-30T12:41:27.871Z",
            "Dieter Klomfass (Co-Founder)"
           ],
           [
            "exchange_listing",
            "https://assets.coingecko.com/coins/images/329/thumb/decred.png?1547034093",
            "dcr",
            "We are very happy to announce Decred is now available on WazirX.\r\n\r\nThis is our first listing in India and will allow users to trade DCR using Indian rupees.",
            "2021-06-30T02:22:07.965Z",
            "jz (International Ops Lead)"
           ],
           [
            "exchange_listing",
            "https://assets.coingecko.com/coins/images/18/thumb/vertcoin-logo-2018.png?1547033643",
            "vtc",
            "Vertcoin is now listed on Changelly Pro\r\n\r\nThe following pairs are supported: \r\n\r\nVTC/BTC\r\nhttps://pro.changelly.com/vtc-to-btc\r\n\r\nVTC/BUSD\r\nhttps://pro.changelly.com/vtc-to-busd\r\n\r\nNot an endorsement; DYOR.\r\n\r\nhttps://changelly.com/blog/changelly-pro-lists-vtc/",
            "2021-06-22T17:54:04.396Z",
            "Canen (Vertcoin Core Team)"
           ],
           [
            "exchange_listing",
            "https://assets.coingecko.com/coins/images/1102/thumb/enjin-coin-logo.png?1547035078",
            "enj",
            "ENJ is now available on Revolut, one of the world's largest personal finance apps with more than 15 million customers!\r\n\r\nhttps://enj.in/Revolut-Listing-CG",
            "2021-06-15T21:38:09.976Z",
            "Maxim Blagov (CEO)"
           ]
          ]
         },
         "columnorder": [
          1,
          2,
          3,
          4,
          5,
          6
         ],
         "columnwidth": [
          40,
          40,
          120,
          80,
          80,
          80
         ],
         "type": "table"
        }
       ],
       "layout": {
        "template": {
         "data": {
          "bar": [
           {
            "error_x": {
             "color": "#2a3f5f"
            },
            "error_y": {
             "color": "#2a3f5f"
            },
            "marker": {
             "line": {
              "color": "#E5ECF6",
              "width": 0.5
             },
             "pattern": {
              "fillmode": "overlay",
              "size": 10,
              "solidity": 0.2
             }
            },
            "type": "bar"
           }
          ],
          "barpolar": [
           {
            "marker": {
             "line": {
              "color": "#E5ECF6",
              "width": 0.5
             },
             "pattern": {
              "fillmode": "overlay",
              "size": 10,
              "solidity": 0.2
             }
            },
            "type": "barpolar"
           }
          ],
          "carpet": [
           {
            "aaxis": {
             "endlinecolor": "#2a3f5f",
             "gridcolor": "white",
             "linecolor": "white",
             "minorgridcolor": "white",
             "startlinecolor": "#2a3f5f"
            },
            "baxis": {
             "endlinecolor": "#2a3f5f",
             "gridcolor": "white",
             "linecolor": "white",
             "minorgridcolor": "white",
             "startlinecolor": "#2a3f5f"
            },
            "type": "carpet"
           }
          ],
          "choropleth": [
           {
            "colorbar": {
             "outlinewidth": 0,
             "ticks": ""
            },
            "type": "choropleth"
           }
          ],
          "contour": [
           {
            "colorbar": {
             "outlinewidth": 0,
             "ticks": ""
            },
            "colorscale": [
             [
              0,
              "#0d0887"
             ],
             [
              0.1111111111111111,
              "#46039f"
             ],
             [
              0.2222222222222222,
              "#7201a8"
             ],
             [
              0.3333333333333333,
              "#9c179e"
             ],
             [
              0.4444444444444444,
              "#bd3786"
             ],
             [
              0.5555555555555556,
              "#d8576b"
             ],
             [
              0.6666666666666666,
              "#ed7953"
             ],
             [
              0.7777777777777778,
              "#fb9f3a"
             ],
             [
              0.8888888888888888,
              "#fdca26"
             ],
             [
              1,
              "#f0f921"
             ]
            ],
            "type": "contour"
           }
          ],
          "contourcarpet": [
           {
            "colorbar": {
             "outlinewidth": 0,
             "ticks": ""
            },
            "type": "contourcarpet"
           }
          ],
          "heatmap": [
           {
            "colorbar": {
             "outlinewidth": 0,
             "ticks": ""
            },
            "colorscale": [
             [
              0,
              "#0d0887"
             ],
             [
              0.1111111111111111,
              "#46039f"
             ],
             [
              0.2222222222222222,
              "#7201a8"
             ],
             [
              0.3333333333333333,
              "#9c179e"
             ],
             [
              0.4444444444444444,
              "#bd3786"
             ],
             [
              0.5555555555555556,
              "#d8576b"
             ],
             [
              0.6666666666666666,
              "#ed7953"
             ],
             [
              0.7777777777777778,
              "#fb9f3a"
             ],
             [
              0.8888888888888888,
              "#fdca26"
             ],
             [
              1,
              "#f0f921"
             ]
            ],
            "type": "heatmap"
           }
          ],
          "heatmapgl": [
           {
            "colorbar": {
             "outlinewidth": 0,
             "ticks": ""
            },
            "colorscale": [
             [
              0,
              "#0d0887"
             ],
             [
              0.1111111111111111,
              "#46039f"
             ],
             [
              0.2222222222222222,
              "#7201a8"
             ],
             [
              0.3333333333333333,
              "#9c179e"
             ],
             [
              0.4444444444444444,
              "#bd3786"
             ],
             [
              0.5555555555555556,
              "#d8576b"
             ],
             [
              0.6666666666666666,
              "#ed7953"
             ],
             [
              0.7777777777777778,
              "#fb9f3a"
             ],
             [
              0.8888888888888888,
              "#fdca26"
             ],
             [
              1,
              "#f0f921"
             ]
            ],
            "type": "heatmapgl"
           }
          ],
          "histogram": [
           {
            "marker": {
             "pattern": {
              "fillmode": "overlay",
              "size": 10,
              "solidity": 0.2
             }
            },
            "type": "histogram"
           }
          ],
          "histogram2d": [
           {
            "colorbar": {
             "outlinewidth": 0,
             "ticks": ""
            },
            "colorscale": [
             [
              0,
              "#0d0887"
             ],
             [
              0.1111111111111111,
              "#46039f"
             ],
             [
              0.2222222222222222,
              "#7201a8"
             ],
             [
              0.3333333333333333,
              "#9c179e"
             ],
             [
              0.4444444444444444,
              "#bd3786"
             ],
             [
              0.5555555555555556,
              "#d8576b"
             ],
             [
              0.6666666666666666,
              "#ed7953"
             ],
             [
              0.7777777777777778,
              "#fb9f3a"
             ],
             [
              0.8888888888888888,
              "#fdca26"
             ],
             [
              1,
              "#f0f921"
             ]
            ],
            "type": "histogram2d"
           }
          ],
          "histogram2dcontour": [
           {
            "colorbar": {
             "outlinewidth": 0,
             "ticks": ""
            },
            "colorscale": [
             [
              0,
              "#0d0887"
             ],
             [
              0.1111111111111111,
              "#46039f"
             ],
             [
              0.2222222222222222,
              "#7201a8"
             ],
             [
              0.3333333333333333,
              "#9c179e"
             ],
             [
              0.4444444444444444,
              "#bd3786"
             ],
             [
              0.5555555555555556,
              "#d8576b"
             ],
             [
              0.6666666666666666,
              "#ed7953"
             ],
             [
              0.7777777777777778,
              "#fb9f3a"
             ],
             [
              0.8888888888888888,
              "#fdca26"
             ],
             [
              1,
              "#f0f921"
             ]
            ],
            "type": "histogram2dcontour"
           }
          ],
          "mesh3d": [
           {
            "colorbar": {
             "outlinewidth": 0,
             "ticks": ""
            },
            "type": "mesh3d"
           }
          ],
          "parcoords": [
           {
            "line": {
             "colorbar": {
              "outlinewidth": 0,
              "ticks": ""
             }
            },
            "type": "parcoords"
           }
          ],
          "pie": [
           {
            "automargin": true,
            "type": "pie"
           }
          ],
          "scatter": [
           {
            "marker": {
             "colorbar": {
              "outlinewidth": 0,
              "ticks": ""
             }
            },
            "type": "scatter"
           }
          ],
          "scatter3d": [
           {
            "line": {
             "colorbar": {
              "outlinewidth": 0,
              "ticks": ""
             }
            },
            "marker": {
             "colorbar": {
              "outlinewidth": 0,
              "ticks": ""
             }
            },
            "type": "scatter3d"
           }
          ],
          "scattercarpet": [
           {
            "marker": {
             "colorbar": {
              "outlinewidth": 0,
              "ticks": ""
             }
            },
            "type": "scattercarpet"
           }
          ],
          "scattergeo": [
           {
            "marker": {
             "colorbar": {
              "outlinewidth": 0,
              "ticks": ""
             }
            },
            "type": "scattergeo"
           }
          ],
          "scattergl": [
           {
            "marker": {
             "colorbar": {
              "outlinewidth": 0,
              "ticks": ""
             }
            },
            "type": "scattergl"
           }
          ],
          "scattermapbox": [
           {
            "marker": {
             "colorbar": {
              "outlinewidth": 0,
              "ticks": ""
             }
            },
            "type": "scattermapbox"
           }
          ],
          "scatterpolar": [
           {
            "marker": {
             "colorbar": {
              "outlinewidth": 0,
              "ticks": ""
             }
            },
            "type": "scatterpolar"
           }
          ],
          "scatterpolargl": [
           {
            "marker": {
             "colorbar": {
              "outlinewidth": 0,
              "ticks": ""
             }
            },
            "type": "scatterpolargl"
           }
          ],
          "scatterternary": [
           {
            "marker": {
             "colorbar": {
              "outlinewidth": 0,
              "ticks": ""
             }
            },
            "type": "scatterternary"
           }
          ],
          "surface": [
           {
            "colorbar": {
             "outlinewidth": 0,
             "ticks": ""
            },
            "colorscale": [
             [
              0,
              "#0d0887"
             ],
             [
              0.1111111111111111,
              "#46039f"
             ],
             [
              0.2222222222222222,
              "#7201a8"
             ],
             [
              0.3333333333333333,
              "#9c179e"
             ],
             [
              0.4444444444444444,
              "#bd3786"
             ],
             [
              0.5555555555555556,
              "#d8576b"
             ],
             [
              0.6666666666666666,
              "#ed7953"
             ],
             [
              0.7777777777777778,
              "#fb9f3a"
             ],
             [
              0.8888888888888888,
              "#fdca26"
             ],
             [
              1,
              "#f0f921"
             ]
            ],
            "type": "surface"
           }
          ],
          "table": [
           {
            "cells": {
             "fill": {
              "color": "#EBF0F8"
             },
             "line": {
              "color": "white"
             }
            },
            "header": {
             "fill": {
              "color": "#C8D4E3"
             },
             "line": {
              "color": "white"
             }
            },
            "type": "table"
           }
          ]
         },
         "layout": {
          "annotationdefaults": {
           "arrowcolor": "#2a3f5f",
           "arrowhead": 0,
           "arrowwidth": 1
          },
          "autotypenumbers": "strict",
          "coloraxis": {
           "colorbar": {
            "outlinewidth": 0,
            "ticks": ""
           }
          },
          "colorscale": {
           "diverging": [
            [
             0,
             "#8e0152"
            ],
            [
             0.1,
             "#c51b7d"
            ],
            [
             0.2,
             "#de77ae"
            ],
            [
             0.3,
             "#f1b6da"
            ],
            [
             0.4,
             "#fde0ef"
            ],
            [
             0.5,
             "#f7f7f7"
            ],
            [
             0.6,
             "#e6f5d0"
            ],
            [
             0.7,
             "#b8e186"
            ],
            [
             0.8,
             "#7fbc41"
            ],
            [
             0.9,
             "#4d9221"
            ],
            [
             1,
             "#276419"
            ]
           ],
           "sequential": [
            [
             0,
             "#0d0887"
            ],
            [
             0.1111111111111111,
             "#46039f"
            ],
            [
             0.2222222222222222,
             "#7201a8"
            ],
            [
             0.3333333333333333,
             "#9c179e"
            ],
            [
             0.4444444444444444,
             "#bd3786"
            ],
            [
             0.5555555555555556,
             "#d8576b"
            ],
            [
             0.6666666666666666,
             "#ed7953"
            ],
            [
             0.7777777777777778,
             "#fb9f3a"
            ],
            [
             0.8888888888888888,
             "#fdca26"
            ],
            [
             1,
             "#f0f921"
            ]
           ],
           "sequentialminus": [
            [
             0,
             "#0d0887"
            ],
            [
             0.1111111111111111,
             "#46039f"
            ],
            [
             0.2222222222222222,
             "#7201a8"
            ],
            [
             0.3333333333333333,
             "#9c179e"
            ],
            [
             0.4444444444444444,
             "#bd3786"
            ],
            [
             0.5555555555555556,
             "#d8576b"
            ],
            [
             0.6666666666666666,
             "#ed7953"
            ],
            [
             0.7777777777777778,
             "#fb9f3a"
            ],
            [
             0.8888888888888888,
             "#fdca26"
            ],
            [
             1,
             "#f0f921"
            ]
           ]
          },
          "colorway": [
           "#636efa",
           "#EF553B",
           "#00cc96",
           "#ab63fa",
           "#FFA15A",
           "#19d3f3",
           "#FF6692",
           "#B6E880",
           "#FF97FF",
           "#FECB52"
          ],
          "font": {
           "color": "#2a3f5f"
          },
          "geo": {
           "bgcolor": "white",
           "lakecolor": "white",
           "landcolor": "#E5ECF6",
           "showlakes": true,
           "showland": true,
           "subunitcolor": "white"
          },
          "hoverlabel": {
           "align": "left"
          },
          "hovermode": "closest",
          "mapbox": {
           "style": "light"
          },
          "paper_bgcolor": "white",
          "plot_bgcolor": "#E5ECF6",
          "polar": {
           "angularaxis": {
            "gridcolor": "white",
            "linecolor": "white",
            "ticks": ""
           },
           "bgcolor": "#E5ECF6",
           "radialaxis": {
            "gridcolor": "white",
            "linecolor": "white",
            "ticks": ""
           }
          },
          "scene": {
           "xaxis": {
            "backgroundcolor": "#E5ECF6",
            "gridcolor": "white",
            "gridwidth": 2,
            "linecolor": "white",
            "showbackground": true,
            "ticks": "",
            "zerolinecolor": "white"
           },
           "yaxis": {
            "backgroundcolor": "#E5ECF6",
            "gridcolor": "white",
            "gridwidth": 2,
            "linecolor": "white",
            "showbackground": true,
            "ticks": "",
            "zerolinecolor": "white"
           },
           "zaxis": {
            "backgroundcolor": "#E5ECF6",
            "gridcolor": "white",
            "gridwidth": 2,
            "linecolor": "white",
            "showbackground": true,
            "ticks": "",
            "zerolinecolor": "white"
           }
          },
          "shapedefaults": {
           "line": {
            "color": "#2a3f5f"
           }
          },
          "ternary": {
           "aaxis": {
            "gridcolor": "white",
            "linecolor": "white",
            "ticks": ""
           },
           "baxis": {
            "gridcolor": "white",
            "linecolor": "white",
            "ticks": ""
           },
           "bgcolor": "#E5ECF6",
           "caxis": {
            "gridcolor": "white",
            "linecolor": "white",
            "ticks": ""
           }
          },
          "title": {
           "x": 0.05
          },
          "xaxis": {
           "automargin": true,
           "gridcolor": "white",
           "linecolor": "white",
           "ticks": "",
           "title": {
            "standoff": 15
           },
           "zerolinecolor": "white",
           "zerolinewidth": 2
          },
          "yaxis": {
           "automargin": true,
           "gridcolor": "white",
           "linecolor": "white",
           "ticks": "",
           "title": {
            "standoff": 15
           },
           "zerolinecolor": "white",
           "zerolinewidth": 2
          }
         }
        }
       }
      }
     },
     "metadata": {},
     "output_type": "display_data"
    }
   ],
   "source": [
    "fig.show()"
   ]
  },
  {
   "cell_type": "code",
   "execution_count": 44,
   "metadata": {},
   "outputs": [],
   "source": [
    "import dash\r\n",
    "import dash_core_components as dcc\r\n",
    "import dash_html_components as html\r\n",
    "from dash.dependencies import Input, Output\r\n",
    "import dash_table\r\n",
    "import pandas as pd\r\n"
   ]
  },
  {
   "cell_type": "code",
   "execution_count": null,
   "metadata": {},
   "outputs": [],
   "source": [
    "# app = dash.Dash(__name__)\r\n",
    "\r\n",
    "# app.layout = html.Div([\r\n",
    "#     dcc.Graph(figure=fig)\r\n",
    "\r\n",
    "# app.layout = html.Div([\r\n",
    "#     dash_table.DataTable(\r\n",
    "#         id='table',\r\n",
    "#         columns=[{\"name\": i.str.upper(), \"id\": i} \r\n",
    "#                  for i in df_status_updates.columns],\r\n",
    "#         data=df_status_updates.to_dict('records'),\r\n",
    "#         style_cell=dict(textAlign='left'),\r\n",
    "#         style_header=dict(backgroundColor=\"paleturquoise\"),\r\n",
    "#         style_data=dict(backgroundColor=\"lavender\")\r\n",
    "#     )\r\n",
    "# ])\r\n",
    "\r\n",
    "# app.run_server(debug=True)\r\n"
   ]
  },
  {
   "cell_type": "code",
   "execution_count": null,
   "metadata": {},
   "outputs": [],
   "source": [
    "app = dash.Dash(__name__)\r\n",
    "app.layout = html.Div([\r\n",
    "\r\n",
    "    # For the dropdown\r\n",
    "    html.Div([\r\n",
    "        html.H3('Select the category to view the corresponding updates'),\r\n",
    "        html.Div( [\r\n",
    "            dcc.Dropdown(id='linedropdown',\r\n",
    "                    options=[\r\n",
    "                            {'label': 'General', 'value': 'general'},\r\n",
    "                            {'label': 'Software Release', 'value': 'software_release'},\r\n",
    "                            {'label': 'Milestone', 'value': 'milestone'},\r\n",
    "                            {'label': 'Exchange Listing', 'value': 'exchange_listing'}\r\n",
    "                    ],\r\n",
    "                    value='general',\r\n",
    "                    multi=False,\r\n",
    "                    clearable=False\r\n",
    "                ),\r\n",
    "            ], style={'width': '10%', 'display': 'inline-block', 'marginBottom': 50, 'marginTop': 5},\r\n",
    "            className='six columns'),\r\n",
    "\r\n",
    "        ],className='row'),\r\n",
    "\r\n",
    "    # For the datatable\r\n",
    "    html.Div([\r\n",
    "        html.H3(''),\r\n",
    "        dash_table.DataTable(\r\n",
    "            id='datatable_id',\r\n",
    "            data=df_status_updates.to_dict('records'),\r\n",
    "            columns=[\r\n",
    "                {\"name\": i, \"id\": i, \"deletable\": False, \"selectable\": False} for i in df_status_updates.columns\r\n",
    "            ],\r\n",
    "            editable=False,\r\n",
    "            filter_action=\"native\",\r\n",
    "            sort_action=\"native\",\r\n",
    "            sort_mode=\"multi\",\r\n",
    "            # row_selectable=\"multi\",\r\n",
    "            row_deletable=False,\r\n",
    "            # selected_rows=[],\r\n",
    "            page_action=\"native\",\r\n",
    "            page_current= 0,\r\n",
    "            page_size= 6,\r\n",
    "            # page_action='none',\r\n",
    "            # style_cell={\r\n",
    "            # 'whiteSpace': 'normal'\r\n",
    "            # },\r\n",
    "            # fixed_rows={ 'headers': True, 'data': 0 },\r\n",
    "            # virtualization=False,\r\n",
    "            style_cell_conditional=[\r\n",
    "                {'if': {'column_id': 'Category'},\r\n",
    "                 'width': '12%', 'textAlign': 'left'},\r\n",
    "                {'if': {'column_id': 'Thumb_url'},\r\n",
    "                 'width': '12%', 'textAlign': 'left'},\r\n",
    "                {'if': {'column_id': 'Symbol'},\r\n",
    "                 'width': '12%', 'textAlign': 'left'},\r\n",
    "                {'if': {'column_id': 'Description'},\r\n",
    "                 'width': '40%', 'textAlign': 'left'},\r\n",
    "                {'if': {'column_id': 'Created_at'},\r\n",
    "                 'width': '12%', 'textAlign': 'left'},\r\n",
    "                {'if': {'column_id': 'User'},\r\n",
    "                 'width': '12%', 'textAlign': 'left'},\r\n",
    "            ],\r\n",
    "        ),\r\n",
    "    ],className='row'),\r\n",
    "\r\n",
    "])\r\n",
    "\r\n",
    "\r\n",
    "if __name__ == '__main__':\r\n",
    "    app.run_server(debug=True)"
   ]
  }
 ],
 "metadata": {
  "interpreter": {
   "hash": "b1e821121f0c08743987dc62d8d21526602e0b8c1004a3750493d43aff4e0d27"
  },
  "kernelspec": {
   "display_name": "Python 3.7.10 64-bit ('pyvizenv': conda)",
   "name": "python3"
  },
  "language_info": {
   "codemirror_mode": {
    "name": "ipython",
    "version": 3
   },
   "file_extension": ".py",
   "mimetype": "text/x-python",
   "name": "python",
   "nbconvert_exporter": "python",
   "pygments_lexer": "ipython3",
   "version": "3.7.10"
  },
  "orig_nbformat": 4
 },
 "nbformat": 4,
 "nbformat_minor": 2
}