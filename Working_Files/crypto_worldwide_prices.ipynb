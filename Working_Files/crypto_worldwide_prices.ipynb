{
 "cells": [
  {
   "cell_type": "code",
   "execution_count": 1,
   "metadata": {},
   "outputs": [
    {
     "data": {
      "application/javascript": "\n(function(root) {\n  function now() {\n    return new Date();\n  }\n\n  var force = true;\n\n  if (typeof root._bokeh_onload_callbacks === \"undefined\" || force === true) {\n    root._bokeh_onload_callbacks = [];\n    root._bokeh_is_loading = undefined;\n  }\n\n  if (typeof (root._bokeh_timeout) === \"undefined\" || force === true) {\n    root._bokeh_timeout = Date.now() + 5000;\n    root._bokeh_failed_load = false;\n  }\n\n  function run_callbacks() {\n    try {\n      root._bokeh_onload_callbacks.forEach(function(callback) {\n        if (callback != null)\n          callback();\n      });\n    } finally {\n      delete root._bokeh_onload_callbacks\n    }\n    console.debug(\"Bokeh: all callbacks have finished\");\n  }\n\n  function load_libs(css_urls, js_urls, js_modules, callback) {\n    if (css_urls == null) css_urls = [];\n    if (js_urls == null) js_urls = [];\n    if (js_modules == null) js_modules = [];\n\n    root._bokeh_onload_callbacks.push(callback);\n    if (root._bokeh_is_loading > 0) {\n      console.debug(\"Bokeh: BokehJS is being loaded, scheduling callback at\", now());\n      return null;\n    }\n    if (js_urls.length === 0 && js_modules.length === 0) {\n      run_callbacks();\n      return null;\n    }\n    console.debug(\"Bokeh: BokehJS not loaded, scheduling load and callback at\", now());\n    root._bokeh_is_loading = css_urls.length + js_urls.length + js_modules.length;\n\n    function on_load() {\n      root._bokeh_is_loading--;\n      if (root._bokeh_is_loading === 0) {\n        console.debug(\"Bokeh: all BokehJS libraries/stylesheets loaded\");\n        run_callbacks()\n      }\n    }\n\n    function on_error() {\n      console.error(\"failed to load \" + url);\n    }\n\n    for (var i = 0; i < css_urls.length; i++) {\n      var url = css_urls[i];\n      const element = document.createElement(\"link\");\n      element.onload = on_load;\n      element.onerror = on_error;\n      element.rel = \"stylesheet\";\n      element.type = \"text/css\";\n      element.href = url;\n      console.debug(\"Bokeh: injecting link tag for BokehJS stylesheet: \", url);\n      document.body.appendChild(element);\n    }\n\n    var skip = [];\n    if (window.requirejs) {\n      window.requirejs.config({'paths': {'tabulator': 'https://unpkg.com/tabulator-tables@4.9.3/dist/js/tabulator'}});\n      window.requirejs.config({'paths': {'plotly': 'https://cdn.plot.ly/plotly-latest.min'}});\n      require([\"tabulator\", \"plotly\"], function(Tabulator,Plotly,) {\n        window.Tabulator = Tabulator;\n        window.Plotly = Plotly;\n      })\n    }\n    if (((window['tabulator'] !== undefined) && (!(window['tabulator'] instanceof HTMLElement))) || window.requirejs) {\n      var urls = ['https://unpkg.com/tabulator-tables@4.9.3/dist/js/tabulator.js', 'https://unpkg.com/moment@2.27.0/moment.js'];\n      for (var i = 0; i < urls.length; i++) {\n        skip.push(urls[i])\n      }\n    }\n    if (((window['Plotly'] !== undefined) && (!(window['Plotly'] instanceof HTMLElement))) || window.requirejs) {\n      var urls = ['https://cdn.plot.ly/plotly-latest.min.js'];\n      for (var i = 0; i < urls.length; i++) {\n        skip.push(urls[i])\n      }\n    }\n    for (var i = 0; i < js_urls.length; i++) {\n      var url = js_urls[i];\n      if (skip.indexOf(url) >= 0) { on_load(); continue; }\n      var element = document.createElement('script');\n      element.onload = on_load;\n      element.onerror = on_error;\n      element.async = false;\n      element.src = url;\n      console.debug(\"Bokeh: injecting script tag for BokehJS library: \", url);\n      document.head.appendChild(element);\n    }\n    for (var i = 0; i < js_modules.length; i++) {\n      var url = js_modules[i];\n      if (skip.indexOf(url) >= 0) { on_load(); continue; }\n      var element = document.createElement('script');\n      element.onload = on_load;\n      element.onerror = on_error;\n      element.async = false;\n      element.src = url;\n      element.type = \"module\";\n      console.debug(\"Bokeh: injecting script tag for BokehJS library: \", url);\n      document.head.appendChild(element);\n    }\n    if (!js_urls.length && !js_modules.length) {\n      on_load()\n    }\n  };\n\n  function inject_raw_css(css) {\n    const element = document.createElement(\"style\");\n    element.appendChild(document.createTextNode(css));\n    document.body.appendChild(element);\n  }\n\n  var js_urls = [\"https://code.jquery.com/jquery-3.4.1.min.js\", \"https://cdn.plot.ly/plotly-latest.min.js\", \"https://unpkg.com/tabulator-tables@4.9.3/dist/js/tabulator.js\", \"https://unpkg.com/moment@2.27.0/moment.js\", \"https://cdn.bokeh.org/bokeh/release/bokeh-2.3.2.min.js\", \"https://cdn.bokeh.org/bokeh/release/bokeh-widgets-2.3.2.min.js\", \"https://cdn.bokeh.org/bokeh/release/bokeh-tables-2.3.2.min.js\", \"https://unpkg.com/@holoviz/panel@^0.11.3/dist/panel.min.js\"];\n  var js_modules = [];\n  var css_urls = [\"https://unpkg.com/tabulator-tables@4.9.3/dist/css/tabulator_simple.min.css\", \"https://unpkg.com/@holoviz/panel@0.11.3/dist/css/alerts.css\", \"https://unpkg.com/@holoviz/panel@0.11.3/dist/css/card.css\", \"https://unpkg.com/@holoviz/panel@0.11.3/dist/css/dataframe.css\", \"https://unpkg.com/@holoviz/panel@0.11.3/dist/css/json.css\", \"https://unpkg.com/@holoviz/panel@0.11.3/dist/css/loading.css\", \"https://unpkg.com/@holoviz/panel@0.11.3/dist/css/markdown.css\", \"https://unpkg.com/@holoviz/panel@0.11.3/dist/css/widgets.css\"];\n  var inline_js = [\n    function(Bokeh) {\n      inject_raw_css(\"\\n    .bk.pn-loading.arcs:before {\\n      background-image: url(\\\"data:image/svg+xml;base64,PHN2ZyB4bWxucz0iaHR0cDovL3d3dy53My5vcmcvMjAwMC9zdmciIHhtbG5zOnhsaW5rPSJodHRwOi8vd3d3LnczLm9yZy8xOTk5L3hsaW5rIiBzdHlsZT0ibWFyZ2luOiBhdXRvOyBiYWNrZ3JvdW5kOiBub25lOyBkaXNwbGF5OiBibG9jazsgc2hhcGUtcmVuZGVyaW5nOiBhdXRvOyIgdmlld0JveD0iMCAwIDEwMCAxMDAiIHByZXNlcnZlQXNwZWN0UmF0aW89InhNaWRZTWlkIj4gIDxjaXJjbGUgY3g9IjUwIiBjeT0iNTAiIHI9IjMyIiBzdHJva2Utd2lkdGg9IjgiIHN0cm9rZT0iI2MzYzNjMyIgc3Ryb2tlLWRhc2hhcnJheT0iNTAuMjY1NDgyNDU3NDM2NjkgNTAuMjY1NDgyNDU3NDM2NjkiIGZpbGw9Im5vbmUiIHN0cm9rZS1saW5lY2FwPSJyb3VuZCI+ICAgIDxhbmltYXRlVHJhbnNmb3JtIGF0dHJpYnV0ZU5hbWU9InRyYW5zZm9ybSIgdHlwZT0icm90YXRlIiByZXBlYXRDb3VudD0iaW5kZWZpbml0ZSIgZHVyPSIxcyIga2V5VGltZXM9IjA7MSIgdmFsdWVzPSIwIDUwIDUwOzM2MCA1MCA1MCI+PC9hbmltYXRlVHJhbnNmb3JtPiAgPC9jaXJjbGU+PC9zdmc+\\\")\\n    }\\n    \");\n    },\n    function(Bokeh) {\n      Bokeh.set_log_level(\"info\");\n    },\n    function(Bokeh) {} // ensure no trailing comma for IE\n  ];\n\n  function run_inline_js() {\n    if ((root.Bokeh !== undefined) || (force === true)) {\n      for (var i = 0; i < inline_js.length; i++) {\n        inline_js[i].call(root, root.Bokeh);\n      }} else if (Date.now() < root._bokeh_timeout) {\n      setTimeout(run_inline_js, 100);\n    } else if (!root._bokeh_failed_load) {\n      console.log(\"Bokeh: BokehJS failed to load within specified timeout.\");\n      root._bokeh_failed_load = true;\n    }\n  }\n\n  if (root._bokeh_is_loading === 0) {\n    console.debug(\"Bokeh: BokehJS loaded, going straight to plotting\");\n    run_inline_js();\n  } else {\n    load_libs(css_urls, js_urls, js_modules, function() {\n      console.debug(\"Bokeh: BokehJS plotting callback run at\", now());\n      run_inline_js();\n    });\n  }\n}(window));",
      "application/vnd.holoviews_load.v0+json": ""
     },
     "metadata": {},
     "output_type": "display_data"
    },
    {
     "data": {
      "application/javascript": "\nif ((window.PyViz === undefined) || (window.PyViz instanceof HTMLElement)) {\n  window.PyViz = {comms: {}, comm_status:{}, kernels:{}, receivers: {}, plot_index: []}\n}\n\n\n    function JupyterCommManager() {\n    }\n\n    JupyterCommManager.prototype.register_target = function(plot_id, comm_id, msg_handler) {\n      if (window.comm_manager || ((window.Jupyter !== undefined) && (Jupyter.notebook.kernel != null))) {\n        var comm_manager = window.comm_manager || Jupyter.notebook.kernel.comm_manager;\n        comm_manager.register_target(comm_id, function(comm) {\n          comm.on_msg(msg_handler);\n        });\n      } else if ((plot_id in window.PyViz.kernels) && (window.PyViz.kernels[plot_id])) {\n        window.PyViz.kernels[plot_id].registerCommTarget(comm_id, function(comm) {\n          comm.onMsg = msg_handler;\n        });\n      } else if (typeof google != 'undefined' && google.colab.kernel != null) {\n        google.colab.kernel.comms.registerTarget(comm_id, (comm) => {\n          var messages = comm.messages[Symbol.asyncIterator]();\n          function processIteratorResult(result) {\n            var message = result.value;\n            console.log(message)\n            var content = {data: message.data, comm_id};\n            var buffers = []\n            for (var buffer of message.buffers || []) {\n              buffers.push(new DataView(buffer))\n            }\n            var metadata = message.metadata || {};\n            var msg = {content, buffers, metadata}\n            msg_handler(msg);\n            return messages.next().then(processIteratorResult);\n          }\n          return messages.next().then(processIteratorResult);\n        })\n      }\n    }\n\n    JupyterCommManager.prototype.get_client_comm = function(plot_id, comm_id, msg_handler) {\n      if (comm_id in window.PyViz.comms) {\n        return window.PyViz.comms[comm_id];\n      } else if (window.comm_manager || ((window.Jupyter !== undefined) && (Jupyter.notebook.kernel != null))) {\n        var comm_manager = window.comm_manager || Jupyter.notebook.kernel.comm_manager;\n        var comm = comm_manager.new_comm(comm_id, {}, {}, {}, comm_id);\n        if (msg_handler) {\n          comm.on_msg(msg_handler);\n        }\n      } else if ((plot_id in window.PyViz.kernels) && (window.PyViz.kernels[plot_id])) {\n        var comm = window.PyViz.kernels[plot_id].connectToComm(comm_id);\n        comm.open();\n        if (msg_handler) {\n          comm.onMsg = msg_handler;\n        }\n      } else if (typeof google != 'undefined' && google.colab.kernel != null) {\n        var comm_promise = google.colab.kernel.comms.open(comm_id)\n        comm_promise.then((comm) => {\n          window.PyViz.comms[comm_id] = comm;\n          if (msg_handler) {\n            var messages = comm.messages[Symbol.asyncIterator]();\n            function processIteratorResult(result) {\n              var message = result.value;\n              var content = {data: message.data};\n              var metadata = message.metadata || {comm_id};\n              var msg = {content, metadata}\n              msg_handler(msg);\n              return messages.next().then(processIteratorResult);\n            }\n            return messages.next().then(processIteratorResult);\n          }\n        }) \n        var sendClosure = (data, metadata, buffers, disposeOnDone) => {\n          return comm_promise.then((comm) => {\n            comm.send(data, metadata, buffers, disposeOnDone);\n          });\n        };\n        var comm = {\n          send: sendClosure\n        };\n      }\n      window.PyViz.comms[comm_id] = comm;\n      return comm;\n    }\n    window.PyViz.comm_manager = new JupyterCommManager();\n    \n\n\nvar JS_MIME_TYPE = 'application/javascript';\nvar HTML_MIME_TYPE = 'text/html';\nvar EXEC_MIME_TYPE = 'application/vnd.holoviews_exec.v0+json';\nvar CLASS_NAME = 'output';\n\n/**\n * Render data to the DOM node\n */\nfunction render(props, node) {\n  var div = document.createElement(\"div\");\n  var script = document.createElement(\"script\");\n  node.appendChild(div);\n  node.appendChild(script);\n}\n\n/**\n * Handle when a new output is added\n */\nfunction handle_add_output(event, handle) {\n  var output_area = handle.output_area;\n  var output = handle.output;\n  if ((output.data == undefined) || (!output.data.hasOwnProperty(EXEC_MIME_TYPE))) {\n    return\n  }\n  var id = output.metadata[EXEC_MIME_TYPE][\"id\"];\n  var toinsert = output_area.element.find(\".\" + CLASS_NAME.split(' ')[0]);\n  if (id !== undefined) {\n    var nchildren = toinsert.length;\n    var html_node = toinsert[nchildren-1].children[0];\n    html_node.innerHTML = output.data[HTML_MIME_TYPE];\n    var scripts = [];\n    var nodelist = html_node.querySelectorAll(\"script\");\n    for (var i in nodelist) {\n      if (nodelist.hasOwnProperty(i)) {\n        scripts.push(nodelist[i])\n      }\n    }\n\n    scripts.forEach( function (oldScript) {\n      var newScript = document.createElement(\"script\");\n      var attrs = [];\n      var nodemap = oldScript.attributes;\n      for (var j in nodemap) {\n        if (nodemap.hasOwnProperty(j)) {\n          attrs.push(nodemap[j])\n        }\n      }\n      attrs.forEach(function(attr) { newScript.setAttribute(attr.name, attr.value) });\n      newScript.appendChild(document.createTextNode(oldScript.innerHTML));\n      oldScript.parentNode.replaceChild(newScript, oldScript);\n    });\n    if (JS_MIME_TYPE in output.data) {\n      toinsert[nchildren-1].children[1].textContent = output.data[JS_MIME_TYPE];\n    }\n    output_area._hv_plot_id = id;\n    if ((window.Bokeh !== undefined) && (id in Bokeh.index)) {\n      window.PyViz.plot_index[id] = Bokeh.index[id];\n    } else {\n      window.PyViz.plot_index[id] = null;\n    }\n  } else if (output.metadata[EXEC_MIME_TYPE][\"server_id\"] !== undefined) {\n    var bk_div = document.createElement(\"div\");\n    bk_div.innerHTML = output.data[HTML_MIME_TYPE];\n    var script_attrs = bk_div.children[0].attributes;\n    for (var i = 0; i < script_attrs.length; i++) {\n      toinsert[toinsert.length - 1].childNodes[1].setAttribute(script_attrs[i].name, script_attrs[i].value);\n    }\n    // store reference to server id on output_area\n    output_area._bokeh_server_id = output.metadata[EXEC_MIME_TYPE][\"server_id\"];\n  }\n}\n\n/**\n * Handle when an output is cleared or removed\n */\nfunction handle_clear_output(event, handle) {\n  var id = handle.cell.output_area._hv_plot_id;\n  var server_id = handle.cell.output_area._bokeh_server_id;\n  if (((id === undefined) || !(id in PyViz.plot_index)) && (server_id !== undefined)) { return; }\n  var comm = window.PyViz.comm_manager.get_client_comm(\"hv-extension-comm\", \"hv-extension-comm\", function () {});\n  if (server_id !== null) {\n    comm.send({event_type: 'server_delete', 'id': server_id});\n    return;\n  } else if (comm !== null) {\n    comm.send({event_type: 'delete', 'id': id});\n  }\n  delete PyViz.plot_index[id];\n  if ((window.Bokeh !== undefined) & (id in window.Bokeh.index)) {\n    var doc = window.Bokeh.index[id].model.document\n    doc.clear();\n    const i = window.Bokeh.documents.indexOf(doc);\n    if (i > -1) {\n      window.Bokeh.documents.splice(i, 1);\n    }\n  }\n}\n\n/**\n * Handle kernel restart event\n */\nfunction handle_kernel_cleanup(event, handle) {\n  delete PyViz.comms[\"hv-extension-comm\"];\n  window.PyViz.plot_index = {}\n}\n\n/**\n * Handle update_display_data messages\n */\nfunction handle_update_output(event, handle) {\n  handle_clear_output(event, {cell: {output_area: handle.output_area}})\n  handle_add_output(event, handle)\n}\n\nfunction register_renderer(events, OutputArea) {\n  function append_mime(data, metadata, element) {\n    // create a DOM node to render to\n    var toinsert = this.create_output_subarea(\n    metadata,\n    CLASS_NAME,\n    EXEC_MIME_TYPE\n    );\n    this.keyboard_manager.register_events(toinsert);\n    // Render to node\n    var props = {data: data, metadata: metadata[EXEC_MIME_TYPE]};\n    render(props, toinsert[0]);\n    element.append(toinsert);\n    return toinsert\n  }\n\n  events.on('output_added.OutputArea', handle_add_output);\n  events.on('output_updated.OutputArea', handle_update_output);\n  events.on('clear_output.CodeCell', handle_clear_output);\n  events.on('delete.Cell', handle_clear_output);\n  events.on('kernel_ready.Kernel', handle_kernel_cleanup);\n\n  OutputArea.prototype.register_mime_type(EXEC_MIME_TYPE, append_mime, {\n    safe: true,\n    index: 0\n  });\n}\n\nif (window.Jupyter !== undefined) {\n  try {\n    var events = require('base/js/events');\n    var OutputArea = require('notebook/js/outputarea').OutputArea;\n    if (OutputArea.prototype.mime_types().indexOf(EXEC_MIME_TYPE) == -1) {\n      register_renderer(events, OutputArea);\n    }\n  } catch(err) {\n  }\n}\n",
      "application/vnd.holoviews_load.v0+json": ""
     },
     "metadata": {},
     "output_type": "display_data"
    }
   ],
   "source": [
    "import pandas as pd\n",
    "import numpy as np\n",
    "import yfinance as yf\n",
    "import panel as pn\n",
    "import plotly.express as px\n",
    "import os\n",
    "from requests import api \n",
    "from dotenv import load_dotenv\n",
    "from pycoingecko import CoinGeckoAPI\n",
    "\n",
    "\n",
    "pn.extension(\"plotly\")"
   ]
  },
  {
   "cell_type": "markdown",
   "metadata": {},
   "source": [
    "## Get the national currencies for countries"
   ]
  },
  {
   "cell_type": "code",
   "execution_count": 2,
   "metadata": {},
   "outputs": [],
   "source": [
    "country_currency = api.get('http://country.io/currency.json').json()\n",
    "\n",
    "# countries2 = api.get('https://restcountries.eu/rest/v2/').json()\n",
    "# countries2"
   ]
  },
  {
   "cell_type": "code",
   "execution_count": 3,
   "metadata": {},
   "outputs": [],
   "source": [
    "df_country_currency = pd.DataFrame(columns=['Code', 'Curr_code'], dtype=object)\n",
    "for key,value in country_currency.items():\n",
    "    df_country_currency = df_country_currency.append(pd.Series(\n",
    "    [\n",
    "        key,\n",
    "        value\n",
    "    ], index= df_country_currency.columns ), ignore_index=True)"
   ]
  },
  {
   "cell_type": "code",
   "execution_count": 4,
   "metadata": {},
   "outputs": [
    {
     "data": {
      "text/html": [
       "<div>\n",
       "<style scoped>\n",
       "    .dataframe tbody tr th:only-of-type {\n",
       "        vertical-align: middle;\n",
       "    }\n",
       "\n",
       "    .dataframe tbody tr th {\n",
       "        vertical-align: top;\n",
       "    }\n",
       "\n",
       "    .dataframe thead th {\n",
       "        text-align: right;\n",
       "    }\n",
       "</style>\n",
       "<table border=\"1\" class=\"dataframe\">\n",
       "  <thead>\n",
       "    <tr style=\"text-align: right;\">\n",
       "      <th></th>\n",
       "      <th>Curr_code</th>\n",
       "    </tr>\n",
       "    <tr>\n",
       "      <th>Code</th>\n",
       "      <th></th>\n",
       "    </tr>\n",
       "  </thead>\n",
       "  <tbody>\n",
       "    <tr>\n",
       "      <th>BD</th>\n",
       "      <td>BDT</td>\n",
       "    </tr>\n",
       "    <tr>\n",
       "      <th>BE</th>\n",
       "      <td>EUR</td>\n",
       "    </tr>\n",
       "    <tr>\n",
       "      <th>BF</th>\n",
       "      <td>XOF</td>\n",
       "    </tr>\n",
       "    <tr>\n",
       "      <th>BG</th>\n",
       "      <td>BGN</td>\n",
       "    </tr>\n",
       "    <tr>\n",
       "      <th>BA</th>\n",
       "      <td>BAM</td>\n",
       "    </tr>\n",
       "  </tbody>\n",
       "</table>\n",
       "</div>"
      ],
      "text/plain": [
       "     Curr_code\n",
       "Code          \n",
       "BD         BDT\n",
       "BE         EUR\n",
       "BF         XOF\n",
       "BG         BGN\n",
       "BA         BAM"
      ]
     },
     "execution_count": 4,
     "metadata": {},
     "output_type": "execute_result"
    }
   ],
   "source": [
    "df_country_currency.set_index('Code',inplace=True)\n",
    "df_country_currency.head()"
   ]
  },
  {
   "cell_type": "markdown",
   "metadata": {},
   "source": [
    "# Get the countries data - geocodes, currency codes, etc, saved in a CSV - concap.csv"
   ]
  },
  {
   "cell_type": "code",
   "execution_count": 5,
   "metadata": {},
   "outputs": [],
   "source": [
    "df_country_geocodes = pd.read_csv('Data/concap.csv', index_col=None)\n",
    "df_country_geocodes.dropna(inplace=True)\n",
    "df_country_geocodes.set_index('CountryCode', inplace=True)"
   ]
  },
  {
   "cell_type": "markdown",
   "metadata": {},
   "source": [
    "# Concatenate the 2 DFs together to have the data in the foll, format:\n",
    "CountryCode|CountryName|CapitalName|CapitalLatitude|CapitalLongitude|ContinentName|Curr_code\n",
    "---|---|---|---|---|---|---|\n",
    "AU|Australia|Canberra|-35.2667|149.133|Australia|AUD"
   ]
  },
  {
   "cell_type": "code",
   "execution_count": 6,
   "metadata": {},
   "outputs": [
    {
     "data": {
      "text/plain": [
       "CountryName         Australia\n",
       "CapitalName          Canberra\n",
       "CapitalLatitude      -35.2667\n",
       "CapitalLongitude      149.133\n",
       "ContinentName       Australia\n",
       "Curr_code                 AUD\n",
       "Name: AU, dtype: object"
      ]
     },
     "execution_count": 6,
     "metadata": {},
     "output_type": "execute_result"
    }
   ],
   "source": [
    "df_country_data = pd.concat([df_country_geocodes, df_country_currency], axis='columns', join='inner')\n",
    "df_country_data.loc['AU']"
   ]
  },
  {
   "cell_type": "code",
   "execution_count": 7,
   "metadata": {},
   "outputs": [],
   "source": [
    "# Saving the data to CSV, we can just start with the CSVs in the final project code\n",
    "df_country_data.to_csv('Data/Country_data.csv')"
   ]
  },
  {
   "cell_type": "markdown",
   "metadata": {},
   "source": [
    "## Just a test to display the data obtained so far"
   ]
  },
  {
   "cell_type": "code",
   "execution_count": 8,
   "metadata": {},
   "outputs": [],
   "source": [
    "load_dotenv()\n",
    "map_box_api = os.getenv(\"MAPBOX_PUBLIC\")\n",
    "\n",
    "# Set the Mapbox API\n",
    "px.set_mapbox_access_token(map_box_api)"
   ]
  },
  {
   "cell_type": "code",
   "execution_count": 9,
   "metadata": {},
   "outputs": [
    {
     "data": {
      "application/vnd.plotly.v1+json": {
       "config": {
        "plotlyServerURL": "https://plot.ly"
       },
       "data": [
        {
         "customdata": [
          [
           "Antarctica",
           "South Georgia and South Sandwich Islands",
           -54.283333,
           -36.5,
           "GBP"
          ],
          [
           "Antarctica",
           "French Southern and Antarctic Lands",
           -49.35,
           70.216667,
           "EUR"
          ]
         ],
         "hovertemplate": "<b>%{hovertext}</b><br><br>Curr_code=%{customdata[4]}<extra></extra>",
         "hovertext": [
          "South Georgia and South Sandwich Islands",
          "French Southern and Antarctic Lands"
         ],
         "lat": [
          -54.283333,
          -49.35
         ],
         "legendgroup": "Antarctica",
         "lon": [
          -36.5,
          70.216667
         ],
         "marker": {
          "color": "#636efa"
         },
         "mode": "markers",
         "name": "Antarctica",
         "showlegend": true,
         "subplot": "mapbox",
         "type": "scattermapbox"
        },
        {
         "customdata": [
          [
           "Asia",
           "Palestine",
           31.76666667,
           35.233333,
           "ILS"
          ],
          [
           "Asia",
           "Afghanistan",
           34.51666667,
           69.18333299999999,
           "AFN"
          ],
          [
           "Asia",
           "Bahrain",
           26.23333333,
           50.566666999999995,
           "BHD"
          ],
          [
           "Asia",
           "Bangladesh",
           23.71666667,
           90.4,
           "BDT"
          ],
          [
           "Asia",
           "Bhutan",
           27.46666667,
           89.633333,
           "BTN"
          ],
          [
           "Asia",
           "Brunei Darussalam",
           4.883333333,
           114.933333,
           "BND"
          ],
          [
           "Asia",
           "Myanmar",
           16.8,
           96.15,
           "MMK"
          ],
          [
           "Asia",
           "Cambodia",
           11.55,
           104.91666699999999,
           "KHR"
          ],
          [
           "Asia",
           "China",
           39.91666667,
           116.38333300000001,
           "CNY"
          ],
          [
           "Asia",
           "India",
           28.6,
           77.2,
           "INR"
          ],
          [
           "Asia",
           "Indonesia",
           -6.166666667,
           106.816667,
           "IDR"
          ],
          [
           "Asia",
           "Iran",
           35.7,
           51.416667,
           "IRR"
          ],
          [
           "Asia",
           "Iraq",
           33.33333333,
           44.4,
           "IQD"
          ],
          [
           "Asia",
           "Israel",
           31.76666667,
           35.233333,
           "ILS"
          ],
          [
           "Asia",
           "Japan",
           35.68333333,
           139.75,
           "JPY"
          ],
          [
           "Asia",
           "Jordan",
           31.95,
           35.933333000000005,
           "JOD"
          ],
          [
           "Asia",
           "Kazakhstan",
           51.16666667,
           71.416667,
           "KZT"
          ],
          [
           "Asia",
           "North Korea",
           39.01666667,
           125.75,
           "KPW"
          ],
          [
           "Asia",
           "South Korea",
           37.55,
           126.983333,
           "KRW"
          ],
          [
           "Asia",
           "Kuwait",
           29.36666667,
           47.966667,
           "KWD"
          ],
          [
           "Asia",
           "Kyrgyzstan",
           42.86666667,
           74.6,
           "KGS"
          ],
          [
           "Asia",
           "Laos",
           17.96666667,
           102.6,
           "LAK"
          ],
          [
           "Asia",
           "Lebanon",
           33.86666667,
           35.5,
           "LBP"
          ],
          [
           "Asia",
           "Malaysia",
           3.166666667,
           101.7,
           "MYR"
          ],
          [
           "Asia",
           "Maldives",
           4.166666667,
           73.5,
           "MVR"
          ],
          [
           "Asia",
           "Mongolia",
           47.91666667,
           106.91666699999999,
           "MNT"
          ],
          [
           "Asia",
           "Nepal",
           27.71666667,
           85.31666700000001,
           "NPR"
          ],
          [
           "Asia",
           "Oman",
           23.61666667,
           58.583332999999996,
           "OMR"
          ],
          [
           "Asia",
           "Pakistan",
           33.68333333,
           73.05,
           "PKR"
          ],
          [
           "Asia",
           "Philippines",
           14.6,
           120.96666699999999,
           "PHP"
          ],
          [
           "Asia",
           "Qatar",
           25.28333333,
           51.533333,
           "QAR"
          ],
          [
           "Asia",
           "Saudi Arabia",
           24.65,
           46.7,
           "SAR"
          ],
          [
           "Asia",
           "Singapore",
           1.283333333,
           103.85,
           "SGD"
          ],
          [
           "Asia",
           "Sri Lanka",
           6.916666667,
           79.833333,
           "LKR"
          ],
          [
           "Asia",
           "Syria",
           33.5,
           36.3,
           "SYP"
          ],
          [
           "Asia",
           "Taiwan",
           25.03333333,
           121.516667,
           "TWD"
          ],
          [
           "Asia",
           "Tajikistan",
           38.55,
           68.766667,
           "TJS"
          ],
          [
           "Asia",
           "Thailand",
           13.75,
           100.516667,
           "THB"
          ],
          [
           "Asia",
           "Timor-Leste",
           -8.583333332999999,
           125.6,
           "USD"
          ],
          [
           "Asia",
           "Turkmenistan",
           37.95,
           58.38333299999999,
           "TMT"
          ],
          [
           "Asia",
           "United Arab Emirates",
           24.46666667,
           54.36666700000001,
           "AED"
          ],
          [
           "Asia",
           "Uzbekistan",
           41.31666667,
           69.25,
           "UZS"
          ],
          [
           "Asia",
           "Vietnam",
           21.03333333,
           105.85,
           "VND"
          ],
          [
           "Asia",
           "Yemen",
           15.35,
           44.2,
           "YER"
          ]
         ],
         "hovertemplate": "<b>%{hovertext}</b><br><br>Curr_code=%{customdata[4]}<extra></extra>",
         "hovertext": [
          "Palestine",
          "Afghanistan",
          "Bahrain",
          "Bangladesh",
          "Bhutan",
          "Brunei Darussalam",
          "Myanmar",
          "Cambodia",
          "China",
          "India",
          "Indonesia",
          "Iran",
          "Iraq",
          "Israel",
          "Japan",
          "Jordan",
          "Kazakhstan",
          "North Korea",
          "South Korea",
          "Kuwait",
          "Kyrgyzstan",
          "Laos",
          "Lebanon",
          "Malaysia",
          "Maldives",
          "Mongolia",
          "Nepal",
          "Oman",
          "Pakistan",
          "Philippines",
          "Qatar",
          "Saudi Arabia",
          "Singapore",
          "Sri Lanka",
          "Syria",
          "Taiwan",
          "Tajikistan",
          "Thailand",
          "Timor-Leste",
          "Turkmenistan",
          "United Arab Emirates",
          "Uzbekistan",
          "Vietnam",
          "Yemen"
         ],
         "lat": [
          31.76666667,
          34.51666667,
          26.23333333,
          23.71666667,
          27.46666667,
          4.883333333,
          16.8,
          11.55,
          39.91666667,
          28.6,
          -6.166666667,
          35.7,
          33.33333333,
          31.76666667,
          35.68333333,
          31.95,
          51.16666667,
          39.01666667,
          37.55,
          29.36666667,
          42.86666667,
          17.96666667,
          33.86666667,
          3.166666667,
          4.166666667,
          47.91666667,
          27.71666667,
          23.61666667,
          33.68333333,
          14.6,
          25.28333333,
          24.65,
          1.283333333,
          6.916666667,
          33.5,
          25.03333333,
          38.55,
          13.75,
          -8.583333332999999,
          37.95,
          24.46666667,
          41.31666667,
          21.03333333,
          15.35
         ],
         "legendgroup": "Asia",
         "lon": [
          35.233333,
          69.18333299999999,
          50.566666999999995,
          90.4,
          89.633333,
          114.933333,
          96.15,
          104.91666699999999,
          116.38333300000001,
          77.2,
          106.816667,
          51.416667,
          44.4,
          35.233333,
          139.75,
          35.933333000000005,
          71.416667,
          125.75,
          126.983333,
          47.966667,
          74.6,
          102.6,
          35.5,
          101.7,
          73.5,
          106.91666699999999,
          85.31666700000001,
          58.583332999999996,
          73.05,
          120.96666699999999,
          51.533333,
          46.7,
          103.85,
          79.833333,
          36.3,
          121.516667,
          68.766667,
          100.516667,
          125.6,
          58.38333299999999,
          54.36666700000001,
          69.25,
          105.85,
          44.2
         ],
         "marker": {
          "color": "#EF553B"
         },
         "mode": "markers",
         "name": "Asia",
         "showlegend": true,
         "subplot": "mapbox",
         "type": "scattermapbox"
        },
        {
         "customdata": [
          [
           "Europe",
           "Aland Islands",
           60.11666700000001,
           19.9,
           "EUR"
          ],
          [
           "Europe",
           "Albania",
           41.31666667,
           19.816667000000002,
           "ALL"
          ],
          [
           "Europe",
           "Andorra",
           42.5,
           1.516667,
           "EUR"
          ],
          [
           "Europe",
           "Armenia",
           40.16666667,
           44.5,
           "AMD"
          ],
          [
           "Europe",
           "Austria",
           48.2,
           16.366667,
           "EUR"
          ],
          [
           "Europe",
           "Azerbaijan",
           40.38333333,
           49.866667,
           "AZN"
          ],
          [
           "Europe",
           "Belarus",
           53.9,
           27.566667,
           "BYR"
          ],
          [
           "Europe",
           "Belgium",
           50.83333333,
           4.3333330000000005,
           "EUR"
          ],
          [
           "Europe",
           "Bosnia and Herzegovina",
           43.86666667,
           18.416667,
           "BAM"
          ],
          [
           "Europe",
           "Bulgaria",
           42.68333333,
           23.316667000000002,
           "BGN"
          ],
          [
           "Europe",
           "Croatia",
           45.8,
           16,
           "HRK"
          ],
          [
           "Europe",
           "Cyprus",
           35.16666667,
           33.366667,
           "EUR"
          ],
          [
           "Europe",
           "Czech Republic",
           50.08333333,
           14.466667000000001,
           "CZK"
          ],
          [
           "Europe",
           "Denmark",
           55.66666667,
           12.583333,
           "DKK"
          ],
          [
           "Europe",
           "Estonia",
           59.43333333,
           24.716667,
           "EUR"
          ],
          [
           "Europe",
           "Faroe Islands",
           62,
           -6.766667,
           "DKK"
          ],
          [
           "Europe",
           "Finland",
           60.16666667,
           24.933332999999998,
           "EUR"
          ],
          [
           "Europe",
           "France",
           48.86666667,
           2.333333,
           "EUR"
          ],
          [
           "Europe",
           "Georgia",
           41.68333333,
           44.833333,
           "GEL"
          ],
          [
           "Europe",
           "Germany",
           52.51666667,
           13.4,
           "EUR"
          ],
          [
           "Europe",
           "Gibraltar",
           36.13333333,
           -5.35,
           "GIP"
          ],
          [
           "Europe",
           "Greece",
           37.98333333,
           23.733333,
           "EUR"
          ],
          [
           "Europe",
           "Guernsey",
           49.45,
           -2.5333330000000003,
           "GBP"
          ],
          [
           "Europe",
           "Vatican City",
           41.9,
           12.45,
           "EUR"
          ],
          [
           "Europe",
           "Hungary",
           47.5,
           19.083333,
           "HUF"
          ],
          [
           "Europe",
           "Iceland",
           64.15,
           -21.95,
           "ISK"
          ],
          [
           "Europe",
           "Ireland",
           53.31666667,
           -6.233333,
           "EUR"
          ],
          [
           "Europe",
           "Isle of Man",
           54.15,
           -4.483333,
           "GBP"
          ],
          [
           "Europe",
           "Italy",
           41.9,
           12.483333,
           "EUR"
          ],
          [
           "Europe",
           "Jersey",
           49.18333333,
           -2.1,
           "GBP"
          ],
          [
           "Europe",
           "Latvia",
           56.95,
           24.1,
           "EUR"
          ],
          [
           "Europe",
           "Liechtenstein",
           47.13333333,
           9.516667,
           "CHF"
          ],
          [
           "Europe",
           "Lithuania",
           54.68333333,
           25.316667000000002,
           "LTL"
          ],
          [
           "Europe",
           "Luxembourg",
           49.6,
           6.116667,
           "EUR"
          ],
          [
           "Europe",
           "Macedonia",
           42,
           21.433332999999998,
           "MKD"
          ],
          [
           "Europe",
           "Malta",
           35.88333333,
           14.5,
           "EUR"
          ],
          [
           "Europe",
           "Moldova",
           47,
           28.85,
           "MDL"
          ],
          [
           "Europe",
           "Monaco",
           43.73333333,
           7.4166669999999995,
           "EUR"
          ],
          [
           "Europe",
           "Montenegro",
           42.43333333,
           19.266667,
           "EUR"
          ],
          [
           "Europe",
           "Netherlands",
           52.35,
           4.9166669999999995,
           "EUR"
          ],
          [
           "Europe",
           "Norway",
           59.91666667,
           10.75,
           "NOK"
          ],
          [
           "Europe",
           "Poland",
           52.25,
           21,
           "PLN"
          ],
          [
           "Europe",
           "Portugal",
           38.71666667,
           -9.133333,
           "EUR"
          ],
          [
           "Europe",
           "Romania",
           44.43333333,
           26.1,
           "RON"
          ],
          [
           "Europe",
           "Russia",
           55.75,
           37.6,
           "RUB"
          ],
          [
           "Europe",
           "San Marino",
           43.93333333,
           12.416667,
           "EUR"
          ],
          [
           "Europe",
           "Serbia",
           44.83333333,
           20.5,
           "RSD"
          ],
          [
           "Europe",
           "Slovakia",
           48.15,
           17.116667,
           "EUR"
          ],
          [
           "Europe",
           "Slovenia",
           46.05,
           14.516667000000002,
           "EUR"
          ],
          [
           "Europe",
           "Spain",
           40.4,
           -3.683333,
           "EUR"
          ],
          [
           "Europe",
           "Svalbard",
           78.21666667,
           15.633332999999999,
           "NOK"
          ],
          [
           "Europe",
           "Sweden",
           59.33333333,
           18.05,
           "SEK"
          ],
          [
           "Europe",
           "Switzerland",
           46.91666667,
           7.466667,
           "CHF"
          ],
          [
           "Europe",
           "Turkey",
           39.93333333,
           32.866667,
           "TRY"
          ],
          [
           "Europe",
           "Ukraine",
           50.43333333,
           30.516666999999998,
           "UAH"
          ],
          [
           "Europe",
           "United Kingdom",
           51.5,
           -0.083333,
           "GBP"
          ]
         ],
         "hovertemplate": "<b>%{hovertext}</b><br><br>Curr_code=%{customdata[4]}<extra></extra>",
         "hovertext": [
          "Aland Islands",
          "Albania",
          "Andorra",
          "Armenia",
          "Austria",
          "Azerbaijan",
          "Belarus",
          "Belgium",
          "Bosnia and Herzegovina",
          "Bulgaria",
          "Croatia",
          "Cyprus",
          "Czech Republic",
          "Denmark",
          "Estonia",
          "Faroe Islands",
          "Finland",
          "France",
          "Georgia",
          "Germany",
          "Gibraltar",
          "Greece",
          "Guernsey",
          "Vatican City",
          "Hungary",
          "Iceland",
          "Ireland",
          "Isle of Man",
          "Italy",
          "Jersey",
          "Latvia",
          "Liechtenstein",
          "Lithuania",
          "Luxembourg",
          "Macedonia",
          "Malta",
          "Moldova",
          "Monaco",
          "Montenegro",
          "Netherlands",
          "Norway",
          "Poland",
          "Portugal",
          "Romania",
          "Russia",
          "San Marino",
          "Serbia",
          "Slovakia",
          "Slovenia",
          "Spain",
          "Svalbard",
          "Sweden",
          "Switzerland",
          "Turkey",
          "Ukraine",
          "United Kingdom"
         ],
         "lat": [
          60.11666700000001,
          41.31666667,
          42.5,
          40.16666667,
          48.2,
          40.38333333,
          53.9,
          50.83333333,
          43.86666667,
          42.68333333,
          45.8,
          35.16666667,
          50.08333333,
          55.66666667,
          59.43333333,
          62,
          60.16666667,
          48.86666667,
          41.68333333,
          52.51666667,
          36.13333333,
          37.98333333,
          49.45,
          41.9,
          47.5,
          64.15,
          53.31666667,
          54.15,
          41.9,
          49.18333333,
          56.95,
          47.13333333,
          54.68333333,
          49.6,
          42,
          35.88333333,
          47,
          43.73333333,
          42.43333333,
          52.35,
          59.91666667,
          52.25,
          38.71666667,
          44.43333333,
          55.75,
          43.93333333,
          44.83333333,
          48.15,
          46.05,
          40.4,
          78.21666667,
          59.33333333,
          46.91666667,
          39.93333333,
          50.43333333,
          51.5
         ],
         "legendgroup": "Europe",
         "lon": [
          19.9,
          19.816667000000002,
          1.516667,
          44.5,
          16.366667,
          49.866667,
          27.566667,
          4.3333330000000005,
          18.416667,
          23.316667000000002,
          16,
          33.366667,
          14.466667000000001,
          12.583333,
          24.716667,
          -6.766667,
          24.933332999999998,
          2.333333,
          44.833333,
          13.4,
          -5.35,
          23.733333,
          -2.5333330000000003,
          12.45,
          19.083333,
          -21.95,
          -6.233333,
          -4.483333,
          12.483333,
          -2.1,
          24.1,
          9.516667,
          25.316667000000002,
          6.116667,
          21.433332999999998,
          14.5,
          28.85,
          7.4166669999999995,
          19.266667,
          4.9166669999999995,
          10.75,
          21,
          -9.133333,
          26.1,
          37.6,
          12.416667,
          20.5,
          17.116667,
          14.516667000000002,
          -3.683333,
          15.633332999999999,
          18.05,
          7.466667,
          32.866667,
          30.516666999999998,
          -0.083333
         ],
         "marker": {
          "color": "#00cc96"
         },
         "mode": "markers",
         "name": "Europe",
         "showlegend": true,
         "subplot": "mapbox",
         "type": "scattermapbox"
        },
        {
         "customdata": [
          [
           "Australia",
           "Nauru",
           -0.5477,
           166.920867,
           "AUD"
          ],
          [
           "Australia",
           "Tokelau",
           -9.166667,
           -171.833333,
           "NZD"
          ],
          [
           "Australia",
           "American Samoa",
           -14.26666667,
           -170.7,
           "USD"
          ],
          [
           "Australia",
           "Australia",
           -35.26666667,
           149.133333,
           "AUD"
          ],
          [
           "Australia",
           "Christmas Island",
           -10.41666667,
           105.71666699999999,
           "AUD"
          ],
          [
           "Australia",
           "Cocos Islands",
           -12.16666667,
           96.833333,
           "AUD"
          ],
          [
           "Australia",
           "Cook Islands",
           -21.2,
           -159.76666699999998,
           "NZD"
          ],
          [
           "Australia",
           "Fiji",
           -18.13333333,
           178.416667,
           "FJD"
          ],
          [
           "Australia",
           "French Polynesia",
           -17.53333333,
           -149.566667,
           "XPF"
          ],
          [
           "Australia",
           "Guam",
           13.46666667,
           144.73333300000002,
           "USD"
          ],
          [
           "Australia",
           "Kiribati",
           -0.8833333329999999,
           169.533333,
           "AUD"
          ],
          [
           "Australia",
           "Marshall Islands",
           7.1,
           171.383333,
           "USD"
          ],
          [
           "Australia",
           "Federated States of Micronesia",
           6.916666667,
           158.15,
           "USD"
          ],
          [
           "Australia",
           "New Caledonia",
           -22.26666667,
           166.45,
           "XPF"
          ],
          [
           "Australia",
           "New Zealand",
           -41.3,
           174.783333,
           "NZD"
          ],
          [
           "Australia",
           "Niue",
           -19.01666667,
           -169.916667,
           "NZD"
          ],
          [
           "Australia",
           "Norfolk Island",
           -29.05,
           167.966667,
           "AUD"
          ],
          [
           "Australia",
           "Northern Mariana Islands",
           15.2,
           145.75,
           "USD"
          ],
          [
           "Australia",
           "Palau",
           7.483333332999999,
           134.633333,
           "USD"
          ],
          [
           "Australia",
           "Papua New Guinea",
           -9.45,
           147.183333,
           "PGK"
          ],
          [
           "Australia",
           "Pitcairn Islands",
           -25.06666667,
           -130.083333,
           "NZD"
          ],
          [
           "Australia",
           "Samoa",
           -13.81666667,
           -171.76666699999998,
           "WST"
          ],
          [
           "Australia",
           "Solomon Islands",
           -9.433333333,
           159.95,
           "SBD"
          ],
          [
           "Australia",
           "Tonga",
           -21.13333333,
           -175.2,
           "TOP"
          ],
          [
           "Australia",
           "Tuvalu",
           -8.516666667,
           179.216667,
           "AUD"
          ],
          [
           "Australia",
           "Vanuatu",
           -17.73333333,
           168.316667,
           "VUV"
          ],
          [
           "Australia",
           "Wallis and Futuna",
           -13.95,
           -171.933333,
           "XPF"
          ],
          [
           "Australia",
           "US Minor Outlying Islands",
           38.883333,
           -77,
           "USD"
          ]
         ],
         "hovertemplate": "<b>%{hovertext}</b><br><br>Curr_code=%{customdata[4]}<extra></extra>",
         "hovertext": [
          "Nauru",
          "Tokelau",
          "American Samoa",
          "Australia",
          "Christmas Island",
          "Cocos Islands",
          "Cook Islands",
          "Fiji",
          "French Polynesia",
          "Guam",
          "Kiribati",
          "Marshall Islands",
          "Federated States of Micronesia",
          "New Caledonia",
          "New Zealand",
          "Niue",
          "Norfolk Island",
          "Northern Mariana Islands",
          "Palau",
          "Papua New Guinea",
          "Pitcairn Islands",
          "Samoa",
          "Solomon Islands",
          "Tonga",
          "Tuvalu",
          "Vanuatu",
          "Wallis and Futuna",
          "US Minor Outlying Islands"
         ],
         "lat": [
          -0.5477,
          -9.166667,
          -14.26666667,
          -35.26666667,
          -10.41666667,
          -12.16666667,
          -21.2,
          -18.13333333,
          -17.53333333,
          13.46666667,
          -0.8833333329999999,
          7.1,
          6.916666667,
          -22.26666667,
          -41.3,
          -19.01666667,
          -29.05,
          15.2,
          7.483333332999999,
          -9.45,
          -25.06666667,
          -13.81666667,
          -9.433333333,
          -21.13333333,
          -8.516666667,
          -17.73333333,
          -13.95,
          38.883333
         ],
         "legendgroup": "Australia",
         "lon": [
          166.920867,
          -171.833333,
          -170.7,
          149.133333,
          105.71666699999999,
          96.833333,
          -159.76666699999998,
          178.416667,
          -149.566667,
          144.73333300000002,
          169.533333,
          171.383333,
          158.15,
          166.45,
          174.783333,
          -169.916667,
          167.966667,
          145.75,
          134.633333,
          147.183333,
          -130.083333,
          -171.76666699999998,
          159.95,
          -175.2,
          179.216667,
          168.316667,
          -171.933333,
          -77
         ],
         "marker": {
          "color": "#ab63fa"
         },
         "mode": "markers",
         "name": "Australia",
         "showlegend": true,
         "subplot": "mapbox",
         "type": "scattermapbox"
        },
        {
         "customdata": [
          [
           "North America",
           "Saint Martin",
           18.0731,
           -63.0822,
           "EUR"
          ],
          [
           "North America",
           "Anguilla",
           18.21666667,
           -63.05,
           "XCD"
          ],
          [
           "North America",
           "Antigua and Barbuda",
           17.11666667,
           -61.85,
           "XCD"
          ],
          [
           "North America",
           "Aruba",
           12.51666667,
           -70.033333,
           "AWG"
          ],
          [
           "North America",
           "Bahamas",
           25.08333333,
           -77.35,
           "BSD"
          ],
          [
           "North America",
           "Barbados",
           13.1,
           -59.61666700000001,
           "BBD"
          ],
          [
           "North America",
           "Bermuda",
           32.28333333,
           -64.783333,
           "BMD"
          ],
          [
           "North America",
           "British Virgin Islands",
           18.41666667,
           -64.616667,
           "USD"
          ],
          [
           "North America",
           "Cayman Islands",
           19.3,
           -81.383333,
           "KYD"
          ],
          [
           "North America",
           "Cuba",
           23.11666667,
           -82.35,
           "CUP"
          ],
          [
           "North America",
           "Curaçao",
           12.1,
           -68.916667,
           "ANG"
          ],
          [
           "North America",
           "Dominica",
           15.3,
           -61.4,
           "XCD"
          ],
          [
           "North America",
           "Dominican Republic",
           18.46666667,
           -69.9,
           "DOP"
          ],
          [
           "North America",
           "Grenada",
           12.05,
           -61.75,
           "XCD"
          ],
          [
           "North America",
           "Haiti",
           18.53333333,
           -72.333333,
           "HTG"
          ],
          [
           "North America",
           "Jamaica",
           18,
           -76.8,
           "JMD"
          ],
          [
           "North America",
           "Montserrat",
           16.7,
           -62.216667,
           "XCD"
          ],
          [
           "North America",
           "Puerto Rico",
           18.46666667,
           -66.116667,
           "USD"
          ],
          [
           "North America",
           "Saint Barthelemy",
           17.88333333,
           -62.85,
           "EUR"
          ],
          [
           "North America",
           "Saint Kitts and Nevis",
           17.3,
           -62.716667,
           "XCD"
          ],
          [
           "North America",
           "Saint Lucia",
           14,
           -61,
           "XCD"
          ],
          [
           "North America",
           "Sint Maarten",
           18.01666667,
           -63.033333,
           "ANG"
          ],
          [
           "North America",
           "Trinidad and Tobago",
           10.65,
           -61.516667000000005,
           "TTD"
          ],
          [
           "North America",
           "Turks and Caicos Islands",
           21.46666667,
           -71.133333,
           "USD"
          ],
          [
           "North America",
           "US Virgin Islands",
           18.35,
           -64.93333299999999,
           "USD"
          ]
         ],
         "hovertemplate": "<b>%{hovertext}</b><br><br>Curr_code=%{customdata[4]}<extra></extra>",
         "hovertext": [
          "Saint Martin",
          "Anguilla",
          "Antigua and Barbuda",
          "Aruba",
          "Bahamas",
          "Barbados",
          "Bermuda",
          "British Virgin Islands",
          "Cayman Islands",
          "Cuba",
          "Curaçao",
          "Dominica",
          "Dominican Republic",
          "Grenada",
          "Haiti",
          "Jamaica",
          "Montserrat",
          "Puerto Rico",
          "Saint Barthelemy",
          "Saint Kitts and Nevis",
          "Saint Lucia",
          "Sint Maarten",
          "Trinidad and Tobago",
          "Turks and Caicos Islands",
          "US Virgin Islands"
         ],
         "lat": [
          18.0731,
          18.21666667,
          17.11666667,
          12.51666667,
          25.08333333,
          13.1,
          32.28333333,
          18.41666667,
          19.3,
          23.11666667,
          12.1,
          15.3,
          18.46666667,
          12.05,
          18.53333333,
          18,
          16.7,
          18.46666667,
          17.88333333,
          17.3,
          14,
          18.01666667,
          10.65,
          21.46666667,
          18.35
         ],
         "legendgroup": "North America",
         "lon": [
          -63.0822,
          -63.05,
          -61.85,
          -70.033333,
          -77.35,
          -59.61666700000001,
          -64.783333,
          -64.616667,
          -81.383333,
          -82.35,
          -68.916667,
          -61.4,
          -69.9,
          -61.75,
          -72.333333,
          -76.8,
          -62.216667,
          -66.116667,
          -62.85,
          -62.716667,
          -61,
          -63.033333,
          -61.516667000000005,
          -71.133333,
          -64.93333299999999
         ],
         "marker": {
          "color": "#FFA15A"
         },
         "mode": "markers",
         "name": "North America",
         "showlegend": true,
         "subplot": "mapbox",
         "type": "scattermapbox"
        },
        {
         "customdata": [
          [
           "Africa",
           "Western Sahara",
           27.153610999999998,
           -13.203332999999999,
           "MAD"
          ],
          [
           "Africa",
           "Algeria",
           36.75,
           3.05,
           "DZD"
          ],
          [
           "Africa",
           "Angola",
           -8.833333332999999,
           13.216667000000001,
           "AOA"
          ],
          [
           "Africa",
           "Benin",
           6.483333332999999,
           2.6166669999999996,
           "XOF"
          ],
          [
           "Africa",
           "Botswana",
           -24.63333333,
           25.9,
           "BWP"
          ],
          [
           "Africa",
           "Burkina Faso",
           12.36666667,
           -1.516667,
           "XOF"
          ],
          [
           "Africa",
           "Burundi",
           -3.366666667,
           29.35,
           "BIF"
          ],
          [
           "Africa",
           "Cameroon",
           3.866666667,
           11.516667,
           "XAF"
          ],
          [
           "Africa",
           "Cape Verde",
           14.91666667,
           -23.516667,
           "CVE"
          ],
          [
           "Africa",
           "Central African Republic",
           4.366666667,
           18.583333,
           "XAF"
          ],
          [
           "Africa",
           "Chad",
           12.1,
           15.033332999999999,
           "XAF"
          ],
          [
           "Africa",
           "Comoros",
           -11.7,
           43.233333,
           "KMF"
          ],
          [
           "Africa",
           "Democratic Republic of the Congo",
           -4.316666667,
           15.3,
           "CDF"
          ],
          [
           "Africa",
           "Republic of Congo",
           -4.25,
           15.283332999999999,
           "XAF"
          ],
          [
           "Africa",
           "Cote d'Ivoire",
           6.816666667000001,
           -5.266667,
           "XOF"
          ],
          [
           "Africa",
           "Djibouti",
           11.58333333,
           43.15,
           "DJF"
          ],
          [
           "Africa",
           "Egypt",
           30.05,
           31.25,
           "EGP"
          ],
          [
           "Africa",
           "Equatorial Guinea",
           3.75,
           8.783333,
           "XAF"
          ],
          [
           "Africa",
           "Eritrea",
           15.33333333,
           38.933333000000005,
           "ERN"
          ],
          [
           "Africa",
           "Ethiopia",
           9.033333333,
           38.7,
           "ETB"
          ],
          [
           "Africa",
           "Gabon",
           0.38333333299999994,
           9.45,
           "XAF"
          ],
          [
           "Africa",
           "The Gambia",
           13.45,
           -16.566667000000002,
           "GMD"
          ],
          [
           "Africa",
           "Ghana",
           5.55,
           -0.216667,
           "GHS"
          ],
          [
           "Africa",
           "Guinea",
           9.5,
           -13.7,
           "GNF"
          ],
          [
           "Africa",
           "Guinea-Bissau",
           11.85,
           -15.583332999999998,
           "XOF"
          ],
          [
           "Africa",
           "Kenya",
           -1.283333333,
           36.816666999999995,
           "KES"
          ],
          [
           "Africa",
           "Lesotho",
           -29.31666667,
           27.483333000000002,
           "LSL"
          ],
          [
           "Africa",
           "Liberia",
           6.3,
           -10.8,
           "LRD"
          ],
          [
           "Africa",
           "Libya",
           32.88333333,
           13.166667000000002,
           "LYD"
          ],
          [
           "Africa",
           "Madagascar",
           -18.91666667,
           47.516667,
           "MGA"
          ],
          [
           "Africa",
           "Malawi",
           -13.96666667,
           33.783333,
           "MWK"
          ],
          [
           "Africa",
           "Mali",
           12.65,
           -8,
           "XOF"
          ],
          [
           "Africa",
           "Mauritania",
           18.06666667,
           -15.966667000000001,
           "MRO"
          ],
          [
           "Africa",
           "Mauritius",
           -20.15,
           57.483332999999995,
           "MUR"
          ],
          [
           "Africa",
           "Morocco",
           34.01666667,
           -6.816667,
           "MAD"
          ],
          [
           "Africa",
           "Mozambique",
           -25.95,
           32.583333,
           "MZN"
          ],
          [
           "Africa",
           "Niger",
           13.51666667,
           2.1166669999999996,
           "XOF"
          ],
          [
           "Africa",
           "Nigeria",
           9.083333332999999,
           7.533333,
           "NGN"
          ],
          [
           "Africa",
           "Rwanda",
           -1.95,
           30.05,
           "RWF"
          ],
          [
           "Africa",
           "Saint Helena",
           -15.93333333,
           -5.716667,
           "SHP"
          ],
          [
           "Africa",
           "Sao Tome and Principe",
           0.333333333,
           6.733333,
           "STD"
          ],
          [
           "Africa",
           "Senegal",
           14.73333333,
           -17.633333,
           "XOF"
          ],
          [
           "Africa",
           "Seychelles",
           -4.616666667,
           55.45,
           "SCR"
          ],
          [
           "Africa",
           "Sierra Leone",
           8.483333333,
           -13.233332999999998,
           "SLL"
          ],
          [
           "Africa",
           "Somalia",
           2.066666667,
           45.333333,
           "SOS"
          ],
          [
           "Africa",
           "South Africa",
           -25.7,
           28.216666999999998,
           "ZAR"
          ],
          [
           "Africa",
           "South Sudan",
           4.85,
           31.616667,
           "SSP"
          ],
          [
           "Africa",
           "Sudan",
           15.6,
           32.533333,
           "SDG"
          ],
          [
           "Africa",
           "Swaziland",
           -26.31666667,
           31.133333,
           "SZL"
          ],
          [
           "Africa",
           "Tanzania",
           -6.8,
           39.283333,
           "TZS"
          ],
          [
           "Africa",
           "Togo",
           6.1166666670000005,
           1.216667,
           "XOF"
          ],
          [
           "Africa",
           "Tunisia",
           36.8,
           10.183333,
           "TND"
          ],
          [
           "Africa",
           "Uganda",
           0.316666667,
           32.55,
           "UGX"
          ],
          [
           "Africa",
           "Zambia",
           -15.41666667,
           28.283333000000002,
           "ZMK"
          ],
          [
           "Africa",
           "Zimbabwe",
           -17.81666667,
           31.033333000000002,
           "ZWL"
          ],
          [
           "Africa",
           "British Indian Ocean Territory",
           -7.3,
           72.4,
           "USD"
          ]
         ],
         "hovertemplate": "<b>%{hovertext}</b><br><br>Curr_code=%{customdata[4]}<extra></extra>",
         "hovertext": [
          "Western Sahara",
          "Algeria",
          "Angola",
          "Benin",
          "Botswana",
          "Burkina Faso",
          "Burundi",
          "Cameroon",
          "Cape Verde",
          "Central African Republic",
          "Chad",
          "Comoros",
          "Democratic Republic of the Congo",
          "Republic of Congo",
          "Cote d'Ivoire",
          "Djibouti",
          "Egypt",
          "Equatorial Guinea",
          "Eritrea",
          "Ethiopia",
          "Gabon",
          "The Gambia",
          "Ghana",
          "Guinea",
          "Guinea-Bissau",
          "Kenya",
          "Lesotho",
          "Liberia",
          "Libya",
          "Madagascar",
          "Malawi",
          "Mali",
          "Mauritania",
          "Mauritius",
          "Morocco",
          "Mozambique",
          "Niger",
          "Nigeria",
          "Rwanda",
          "Saint Helena",
          "Sao Tome and Principe",
          "Senegal",
          "Seychelles",
          "Sierra Leone",
          "Somalia",
          "South Africa",
          "South Sudan",
          "Sudan",
          "Swaziland",
          "Tanzania",
          "Togo",
          "Tunisia",
          "Uganda",
          "Zambia",
          "Zimbabwe",
          "British Indian Ocean Territory"
         ],
         "lat": [
          27.153610999999998,
          36.75,
          -8.833333332999999,
          6.483333332999999,
          -24.63333333,
          12.36666667,
          -3.366666667,
          3.866666667,
          14.91666667,
          4.366666667,
          12.1,
          -11.7,
          -4.316666667,
          -4.25,
          6.816666667000001,
          11.58333333,
          30.05,
          3.75,
          15.33333333,
          9.033333333,
          0.38333333299999994,
          13.45,
          5.55,
          9.5,
          11.85,
          -1.283333333,
          -29.31666667,
          6.3,
          32.88333333,
          -18.91666667,
          -13.96666667,
          12.65,
          18.06666667,
          -20.15,
          34.01666667,
          -25.95,
          13.51666667,
          9.083333332999999,
          -1.95,
          -15.93333333,
          0.333333333,
          14.73333333,
          -4.616666667,
          8.483333333,
          2.066666667,
          -25.7,
          4.85,
          15.6,
          -26.31666667,
          -6.8,
          6.1166666670000005,
          36.8,
          0.316666667,
          -15.41666667,
          -17.81666667,
          -7.3
         ],
         "legendgroup": "Africa",
         "lon": [
          -13.203332999999999,
          3.05,
          13.216667000000001,
          2.6166669999999996,
          25.9,
          -1.516667,
          29.35,
          11.516667,
          -23.516667,
          18.583333,
          15.033332999999999,
          43.233333,
          15.3,
          15.283332999999999,
          -5.266667,
          43.15,
          31.25,
          8.783333,
          38.933333000000005,
          38.7,
          9.45,
          -16.566667000000002,
          -0.216667,
          -13.7,
          -15.583332999999998,
          36.816666999999995,
          27.483333000000002,
          -10.8,
          13.166667000000002,
          47.516667,
          33.783333,
          -8,
          -15.966667000000001,
          57.483332999999995,
          -6.816667,
          32.583333,
          2.1166669999999996,
          7.533333,
          30.05,
          -5.716667,
          6.733333,
          -17.633333,
          55.45,
          -13.233332999999998,
          45.333333,
          28.216666999999998,
          31.616667,
          32.533333,
          31.133333,
          39.283333,
          1.216667,
          10.183333,
          32.55,
          28.283333000000002,
          31.033333000000002,
          72.4
         ],
         "marker": {
          "color": "#19d3f3"
         },
         "mode": "markers",
         "name": "Africa",
         "showlegend": true,
         "subplot": "mapbox",
         "type": "scattermapbox"
        },
        {
         "customdata": [
          [
           "South America",
           "Argentina",
           -34.58333333,
           -58.666667000000004,
           "ARS"
          ],
          [
           "South America",
           "Bolivia",
           -16.5,
           -68.15,
           "BOB"
          ],
          [
           "South America",
           "Brazil",
           -15.78333333,
           -47.916667,
           "BRL"
          ],
          [
           "South America",
           "Chile",
           -33.45,
           -70.666667,
           "CLP"
          ],
          [
           "South America",
           "Colombia",
           4.6,
           -74.083333,
           "COP"
          ],
          [
           "South America",
           "Ecuador",
           -0.21666666699999998,
           -78.5,
           "USD"
          ],
          [
           "South America",
           "Falkland Islands",
           -51.7,
           -57.85,
           "FKP"
          ],
          [
           "South America",
           "Guyana",
           6.8,
           -58.15,
           "GYD"
          ],
          [
           "South America",
           "Paraguay",
           -25.26666667,
           -57.666667000000004,
           "PYG"
          ],
          [
           "South America",
           "Peru",
           -12.05,
           -77.05,
           "PEN"
          ],
          [
           "South America",
           "Suriname",
           5.833333333,
           -55.166667000000004,
           "SRD"
          ],
          [
           "South America",
           "Uruguay",
           -34.85,
           -56.166667000000004,
           "UYU"
          ],
          [
           "South America",
           "Venezuela",
           10.48333333,
           -66.866667,
           "VEF"
          ]
         ],
         "hovertemplate": "<b>%{hovertext}</b><br><br>Curr_code=%{customdata[4]}<extra></extra>",
         "hovertext": [
          "Argentina",
          "Bolivia",
          "Brazil",
          "Chile",
          "Colombia",
          "Ecuador",
          "Falkland Islands",
          "Guyana",
          "Paraguay",
          "Peru",
          "Suriname",
          "Uruguay",
          "Venezuela"
         ],
         "lat": [
          -34.58333333,
          -16.5,
          -15.78333333,
          -33.45,
          4.6,
          -0.21666666699999998,
          -51.7,
          6.8,
          -25.26666667,
          -12.05,
          5.833333333,
          -34.85,
          10.48333333
         ],
         "legendgroup": "South America",
         "lon": [
          -58.666667000000004,
          -68.15,
          -47.916667,
          -70.666667,
          -74.083333,
          -78.5,
          -57.85,
          -58.15,
          -57.666667000000004,
          -77.05,
          -55.166667000000004,
          -56.166667000000004,
          -66.866667
         ],
         "marker": {
          "color": "#FF6692"
         },
         "mode": "markers",
         "name": "South America",
         "showlegend": true,
         "subplot": "mapbox",
         "type": "scattermapbox"
        },
        {
         "customdata": [
          [
           "Central America",
           "Belize",
           17.25,
           -88.766667,
           "BZD"
          ],
          [
           "Central America",
           "Canada",
           45.41666667,
           -75.7,
           "CAD"
          ],
          [
           "Central America",
           "Costa Rica",
           9.933333333,
           -84.083333,
           "CRC"
          ],
          [
           "Central America",
           "El Salvador",
           13.7,
           -89.2,
           "USD"
          ],
          [
           "Central America",
           "Greenland",
           64.18333333,
           -51.75,
           "DKK"
          ],
          [
           "Central America",
           "Guatemala",
           14.61666667,
           -90.516667,
           "GTQ"
          ],
          [
           "Central America",
           "Honduras",
           14.1,
           -87.216667,
           "HNL"
          ],
          [
           "Central America",
           "Mexico",
           19.43333333,
           -99.133333,
           "MXN"
          ],
          [
           "Central America",
           "Nicaragua",
           12.13333333,
           -86.25,
           "NIO"
          ],
          [
           "Central America",
           "Panama",
           8.966666667,
           -79.533333,
           "PAB"
          ],
          [
           "Central America",
           "Saint Pierre and Miquelon",
           46.76666667,
           -56.183333,
           "EUR"
          ],
          [
           "Central America",
           "Saint Vincent and the Grenadines",
           13.13333333,
           -61.216667,
           "XCD"
          ],
          [
           "Central America",
           "United States",
           38.883333,
           -77,
           "USD"
          ]
         ],
         "hovertemplate": "<b>%{hovertext}</b><br><br>Curr_code=%{customdata[4]}<extra></extra>",
         "hovertext": [
          "Belize",
          "Canada",
          "Costa Rica",
          "El Salvador",
          "Greenland",
          "Guatemala",
          "Honduras",
          "Mexico",
          "Nicaragua",
          "Panama",
          "Saint Pierre and Miquelon",
          "Saint Vincent and the Grenadines",
          "United States"
         ],
         "lat": [
          17.25,
          45.41666667,
          9.933333333,
          13.7,
          64.18333333,
          14.61666667,
          14.1,
          19.43333333,
          12.13333333,
          8.966666667,
          46.76666667,
          13.13333333,
          38.883333
         ],
         "legendgroup": "Central America",
         "lon": [
          -88.766667,
          -75.7,
          -84.083333,
          -89.2,
          -51.75,
          -90.516667,
          -87.216667,
          -99.133333,
          -86.25,
          -79.533333,
          -56.183333,
          -61.216667,
          -77
         ],
         "marker": {
          "color": "#B6E880"
         },
         "mode": "markers",
         "name": "Central America",
         "showlegend": true,
         "subplot": "mapbox",
         "type": "scattermapbox"
        }
       ],
       "layout": {
        "legend": {
         "title": {
          "text": "ContinentName"
         },
         "tracegroupgap": 0
        },
        "mapbox": {
         "accesstoken": "pk.eyJ1Ijoic2lkdHVuZyIsImEiOiJja3B0MjdlYW8wazJ0MnZvMWV6NTBrb3k4In0.kXo9vTPDgpSihixZv6ykFA",
         "center": {
          "lat": 17.64752043883122,
          "lon": 12.85338396202532
         },
         "domain": {
          "x": [
           0,
           1
          ],
          "y": [
           0,
           1
          ]
         },
         "style": "basic",
         "zoom": 1
        },
        "margin": {
         "t": 60
        },
        "template": {
         "data": {
          "bar": [
           {
            "error_x": {
             "color": "#2a3f5f"
            },
            "error_y": {
             "color": "#2a3f5f"
            },
            "marker": {
             "line": {
              "color": "#E5ECF6",
              "width": 0.5
             },
             "pattern": {
              "fillmode": "overlay",
              "size": 10,
              "solidity": 0.2
             }
            },
            "type": "bar"
           }
          ],
          "barpolar": [
           {
            "marker": {
             "line": {
              "color": "#E5ECF6",
              "width": 0.5
             },
             "pattern": {
              "fillmode": "overlay",
              "size": 10,
              "solidity": 0.2
             }
            },
            "type": "barpolar"
           }
          ],
          "carpet": [
           {
            "aaxis": {
             "endlinecolor": "#2a3f5f",
             "gridcolor": "white",
             "linecolor": "white",
             "minorgridcolor": "white",
             "startlinecolor": "#2a3f5f"
            },
            "baxis": {
             "endlinecolor": "#2a3f5f",
             "gridcolor": "white",
             "linecolor": "white",
             "minorgridcolor": "white",
             "startlinecolor": "#2a3f5f"
            },
            "type": "carpet"
           }
          ],
          "choropleth": [
           {
            "colorbar": {
             "outlinewidth": 0,
             "ticks": ""
            },
            "type": "choropleth"
           }
          ],
          "contour": [
           {
            "colorbar": {
             "outlinewidth": 0,
             "ticks": ""
            },
            "colorscale": [
             [
              0,
              "#0d0887"
             ],
             [
              0.1111111111111111,
              "#46039f"
             ],
             [
              0.2222222222222222,
              "#7201a8"
             ],
             [
              0.3333333333333333,
              "#9c179e"
             ],
             [
              0.4444444444444444,
              "#bd3786"
             ],
             [
              0.5555555555555556,
              "#d8576b"
             ],
             [
              0.6666666666666666,
              "#ed7953"
             ],
             [
              0.7777777777777778,
              "#fb9f3a"
             ],
             [
              0.8888888888888888,
              "#fdca26"
             ],
             [
              1,
              "#f0f921"
             ]
            ],
            "type": "contour"
           }
          ],
          "contourcarpet": [
           {
            "colorbar": {
             "outlinewidth": 0,
             "ticks": ""
            },
            "type": "contourcarpet"
           }
          ],
          "heatmap": [
           {
            "colorbar": {
             "outlinewidth": 0,
             "ticks": ""
            },
            "colorscale": [
             [
              0,
              "#0d0887"
             ],
             [
              0.1111111111111111,
              "#46039f"
             ],
             [
              0.2222222222222222,
              "#7201a8"
             ],
             [
              0.3333333333333333,
              "#9c179e"
             ],
             [
              0.4444444444444444,
              "#bd3786"
             ],
             [
              0.5555555555555556,
              "#d8576b"
             ],
             [
              0.6666666666666666,
              "#ed7953"
             ],
             [
              0.7777777777777778,
              "#fb9f3a"
             ],
             [
              0.8888888888888888,
              "#fdca26"
             ],
             [
              1,
              "#f0f921"
             ]
            ],
            "type": "heatmap"
           }
          ],
          "heatmapgl": [
           {
            "colorbar": {
             "outlinewidth": 0,
             "ticks": ""
            },
            "colorscale": [
             [
              0,
              "#0d0887"
             ],
             [
              0.1111111111111111,
              "#46039f"
             ],
             [
              0.2222222222222222,
              "#7201a8"
             ],
             [
              0.3333333333333333,
              "#9c179e"
             ],
             [
              0.4444444444444444,
              "#bd3786"
             ],
             [
              0.5555555555555556,
              "#d8576b"
             ],
             [
              0.6666666666666666,
              "#ed7953"
             ],
             [
              0.7777777777777778,
              "#fb9f3a"
             ],
             [
              0.8888888888888888,
              "#fdca26"
             ],
             [
              1,
              "#f0f921"
             ]
            ],
            "type": "heatmapgl"
           }
          ],
          "histogram": [
           {
            "marker": {
             "pattern": {
              "fillmode": "overlay",
              "size": 10,
              "solidity": 0.2
             }
            },
            "type": "histogram"
           }
          ],
          "histogram2d": [
           {
            "colorbar": {
             "outlinewidth": 0,
             "ticks": ""
            },
            "colorscale": [
             [
              0,
              "#0d0887"
             ],
             [
              0.1111111111111111,
              "#46039f"
             ],
             [
              0.2222222222222222,
              "#7201a8"
             ],
             [
              0.3333333333333333,
              "#9c179e"
             ],
             [
              0.4444444444444444,
              "#bd3786"
             ],
             [
              0.5555555555555556,
              "#d8576b"
             ],
             [
              0.6666666666666666,
              "#ed7953"
             ],
             [
              0.7777777777777778,
              "#fb9f3a"
             ],
             [
              0.8888888888888888,
              "#fdca26"
             ],
             [
              1,
              "#f0f921"
             ]
            ],
            "type": "histogram2d"
           }
          ],
          "histogram2dcontour": [
           {
            "colorbar": {
             "outlinewidth": 0,
             "ticks": ""
            },
            "colorscale": [
             [
              0,
              "#0d0887"
             ],
             [
              0.1111111111111111,
              "#46039f"
             ],
             [
              0.2222222222222222,
              "#7201a8"
             ],
             [
              0.3333333333333333,
              "#9c179e"
             ],
             [
              0.4444444444444444,
              "#bd3786"
             ],
             [
              0.5555555555555556,
              "#d8576b"
             ],
             [
              0.6666666666666666,
              "#ed7953"
             ],
             [
              0.7777777777777778,
              "#fb9f3a"
             ],
             [
              0.8888888888888888,
              "#fdca26"
             ],
             [
              1,
              "#f0f921"
             ]
            ],
            "type": "histogram2dcontour"
           }
          ],
          "mesh3d": [
           {
            "colorbar": {
             "outlinewidth": 0,
             "ticks": ""
            },
            "type": "mesh3d"
           }
          ],
          "parcoords": [
           {
            "line": {
             "colorbar": {
              "outlinewidth": 0,
              "ticks": ""
             }
            },
            "type": "parcoords"
           }
          ],
          "pie": [
           {
            "automargin": true,
            "type": "pie"
           }
          ],
          "scatter": [
           {
            "marker": {
             "colorbar": {
              "outlinewidth": 0,
              "ticks": ""
             }
            },
            "type": "scatter"
           }
          ],
          "scatter3d": [
           {
            "line": {
             "colorbar": {
              "outlinewidth": 0,
              "ticks": ""
             }
            },
            "marker": {
             "colorbar": {
              "outlinewidth": 0,
              "ticks": ""
             }
            },
            "type": "scatter3d"
           }
          ],
          "scattercarpet": [
           {
            "marker": {
             "colorbar": {
              "outlinewidth": 0,
              "ticks": ""
             }
            },
            "type": "scattercarpet"
           }
          ],
          "scattergeo": [
           {
            "marker": {
             "colorbar": {
              "outlinewidth": 0,
              "ticks": ""
             }
            },
            "type": "scattergeo"
           }
          ],
          "scattergl": [
           {
            "marker": {
             "colorbar": {
              "outlinewidth": 0,
              "ticks": ""
             }
            },
            "type": "scattergl"
           }
          ],
          "scattermapbox": [
           {
            "marker": {
             "colorbar": {
              "outlinewidth": 0,
              "ticks": ""
             }
            },
            "type": "scattermapbox"
           }
          ],
          "scatterpolar": [
           {
            "marker": {
             "colorbar": {
              "outlinewidth": 0,
              "ticks": ""
             }
            },
            "type": "scatterpolar"
           }
          ],
          "scatterpolargl": [
           {
            "marker": {
             "colorbar": {
              "outlinewidth": 0,
              "ticks": ""
             }
            },
            "type": "scatterpolargl"
           }
          ],
          "scatterternary": [
           {
            "marker": {
             "colorbar": {
              "outlinewidth": 0,
              "ticks": ""
             }
            },
            "type": "scatterternary"
           }
          ],
          "surface": [
           {
            "colorbar": {
             "outlinewidth": 0,
             "ticks": ""
            },
            "colorscale": [
             [
              0,
              "#0d0887"
             ],
             [
              0.1111111111111111,
              "#46039f"
             ],
             [
              0.2222222222222222,
              "#7201a8"
             ],
             [
              0.3333333333333333,
              "#9c179e"
             ],
             [
              0.4444444444444444,
              "#bd3786"
             ],
             [
              0.5555555555555556,
              "#d8576b"
             ],
             [
              0.6666666666666666,
              "#ed7953"
             ],
             [
              0.7777777777777778,
              "#fb9f3a"
             ],
             [
              0.8888888888888888,
              "#fdca26"
             ],
             [
              1,
              "#f0f921"
             ]
            ],
            "type": "surface"
           }
          ],
          "table": [
           {
            "cells": {
             "fill": {
              "color": "#EBF0F8"
             },
             "line": {
              "color": "white"
             }
            },
            "header": {
             "fill": {
              "color": "#C8D4E3"
             },
             "line": {
              "color": "white"
             }
            },
            "type": "table"
           }
          ]
         },
         "layout": {
          "annotationdefaults": {
           "arrowcolor": "#2a3f5f",
           "arrowhead": 0,
           "arrowwidth": 1
          },
          "autotypenumbers": "strict",
          "coloraxis": {
           "colorbar": {
            "outlinewidth": 0,
            "ticks": ""
           }
          },
          "colorscale": {
           "diverging": [
            [
             0,
             "#8e0152"
            ],
            [
             0.1,
             "#c51b7d"
            ],
            [
             0.2,
             "#de77ae"
            ],
            [
             0.3,
             "#f1b6da"
            ],
            [
             0.4,
             "#fde0ef"
            ],
            [
             0.5,
             "#f7f7f7"
            ],
            [
             0.6,
             "#e6f5d0"
            ],
            [
             0.7,
             "#b8e186"
            ],
            [
             0.8,
             "#7fbc41"
            ],
            [
             0.9,
             "#4d9221"
            ],
            [
             1,
             "#276419"
            ]
           ],
           "sequential": [
            [
             0,
             "#0d0887"
            ],
            [
             0.1111111111111111,
             "#46039f"
            ],
            [
             0.2222222222222222,
             "#7201a8"
            ],
            [
             0.3333333333333333,
             "#9c179e"
            ],
            [
             0.4444444444444444,
             "#bd3786"
            ],
            [
             0.5555555555555556,
             "#d8576b"
            ],
            [
             0.6666666666666666,
             "#ed7953"
            ],
            [
             0.7777777777777778,
             "#fb9f3a"
            ],
            [
             0.8888888888888888,
             "#fdca26"
            ],
            [
             1,
             "#f0f921"
            ]
           ],
           "sequentialminus": [
            [
             0,
             "#0d0887"
            ],
            [
             0.1111111111111111,
             "#46039f"
            ],
            [
             0.2222222222222222,
             "#7201a8"
            ],
            [
             0.3333333333333333,
             "#9c179e"
            ],
            [
             0.4444444444444444,
             "#bd3786"
            ],
            [
             0.5555555555555556,
             "#d8576b"
            ],
            [
             0.6666666666666666,
             "#ed7953"
            ],
            [
             0.7777777777777778,
             "#fb9f3a"
            ],
            [
             0.8888888888888888,
             "#fdca26"
            ],
            [
             1,
             "#f0f921"
            ]
           ]
          },
          "colorway": [
           "#636efa",
           "#EF553B",
           "#00cc96",
           "#ab63fa",
           "#FFA15A",
           "#19d3f3",
           "#FF6692",
           "#B6E880",
           "#FF97FF",
           "#FECB52"
          ],
          "font": {
           "color": "#2a3f5f"
          },
          "geo": {
           "bgcolor": "white",
           "lakecolor": "white",
           "landcolor": "#E5ECF6",
           "showlakes": true,
           "showland": true,
           "subunitcolor": "white"
          },
          "hoverlabel": {
           "align": "left"
          },
          "hovermode": "closest",
          "mapbox": {
           "style": "light"
          },
          "paper_bgcolor": "white",
          "plot_bgcolor": "#E5ECF6",
          "polar": {
           "angularaxis": {
            "gridcolor": "white",
            "linecolor": "white",
            "ticks": ""
           },
           "bgcolor": "#E5ECF6",
           "radialaxis": {
            "gridcolor": "white",
            "linecolor": "white",
            "ticks": ""
           }
          },
          "scene": {
           "xaxis": {
            "backgroundcolor": "#E5ECF6",
            "gridcolor": "white",
            "gridwidth": 2,
            "linecolor": "white",
            "showbackground": true,
            "ticks": "",
            "zerolinecolor": "white"
           },
           "yaxis": {
            "backgroundcolor": "#E5ECF6",
            "gridcolor": "white",
            "gridwidth": 2,
            "linecolor": "white",
            "showbackground": true,
            "ticks": "",
            "zerolinecolor": "white"
           },
           "zaxis": {
            "backgroundcolor": "#E5ECF6",
            "gridcolor": "white",
            "gridwidth": 2,
            "linecolor": "white",
            "showbackground": true,
            "ticks": "",
            "zerolinecolor": "white"
           }
          },
          "shapedefaults": {
           "line": {
            "color": "#2a3f5f"
           }
          },
          "ternary": {
           "aaxis": {
            "gridcolor": "white",
            "linecolor": "white",
            "ticks": ""
           },
           "baxis": {
            "gridcolor": "white",
            "linecolor": "white",
            "ticks": ""
           },
           "bgcolor": "#E5ECF6",
           "caxis": {
            "gridcolor": "white",
            "linecolor": "white",
            "ticks": ""
           }
          },
          "title": {
           "x": 0.05
          },
          "xaxis": {
           "automargin": true,
           "gridcolor": "white",
           "linecolor": "white",
           "ticks": "",
           "title": {
            "standoff": 15
           },
           "zerolinecolor": "white",
           "zerolinewidth": 2
          },
          "yaxis": {
           "automargin": true,
           "gridcolor": "white",
           "linecolor": "white",
           "ticks": "",
           "title": {
            "standoff": 15
           },
           "zerolinecolor": "white",
           "zerolinewidth": 2
          }
         }
        }
       }
      }
     },
     "metadata": {},
     "output_type": "display_data"
    }
   ],
   "source": [
    "hover_data = {'ContinentName': False, 'CountryName':False, 'CapitalLatitude':False, 'CapitalLongitude':False, 'Curr_code':True}\n",
    "\n",
    "map1 = px.scatter_mapbox(\n",
    "    df_country_data,\n",
    "    lat=\"CapitalLatitude\",\n",
    "    lon=\"CapitalLongitude\",\n",
    "    color=\"ContinentName\",\n",
    "    hover_name='CountryName',\n",
    "    hover_data= hover_data, #['CapitalName', 'Curr_code' ],\n",
    "    zoom = 1,\n",
    "    mapbox_style='basic'\n",
    ")\n",
    "map1.show()"
   ]
  },
  {
   "cell_type": "code",
   "execution_count": 10,
   "metadata": {},
   "outputs": [
    {
     "data": {
      "text/html": [
       "<div>\n",
       "<style scoped>\n",
       "    .dataframe tbody tr th:only-of-type {\n",
       "        vertical-align: middle;\n",
       "    }\n",
       "\n",
       "    .dataframe tbody tr th {\n",
       "        vertical-align: top;\n",
       "    }\n",
       "\n",
       "    .dataframe thead th {\n",
       "        text-align: right;\n",
       "    }\n",
       "</style>\n",
       "<table border=\"1\" class=\"dataframe\">\n",
       "  <thead>\n",
       "    <tr style=\"text-align: right;\">\n",
       "      <th></th>\n",
       "      <th>CountryName</th>\n",
       "      <th>CapitalName</th>\n",
       "      <th>CapitalLatitude</th>\n",
       "      <th>CapitalLongitude</th>\n",
       "      <th>ContinentName</th>\n",
       "      <th>Curr_code</th>\n",
       "    </tr>\n",
       "  </thead>\n",
       "  <tbody>\n",
       "    <tr>\n",
       "      <th>DO</th>\n",
       "      <td>Dominican Republic</td>\n",
       "      <td>Santo Domingo</td>\n",
       "      <td>18.466667</td>\n",
       "      <td>-69.9</td>\n",
       "      <td>North America</td>\n",
       "      <td>DOP</td>\n",
       "    </tr>\n",
       "  </tbody>\n",
       "</table>\n",
       "</div>"
      ],
      "text/plain": [
       "           CountryName    CapitalName  CapitalLatitude  CapitalLongitude  \\\n",
       "DO  Dominican Republic  Santo Domingo        18.466667             -69.9   \n",
       "\n",
       "    ContinentName Curr_code  \n",
       "DO  North America       DOP  "
      ]
     },
     "execution_count": 10,
     "metadata": {},
     "output_type": "execute_result"
    }
   ],
   "source": [
    "df_country_data.loc[df_country_data.Curr_code == 'DOP']"
   ]
  },
  {
   "cell_type": "markdown",
   "metadata": {},
   "source": [
    "# Getting the crypto data - This will be used in the final project code"
   ]
  },
  {
   "cell_type": "code",
   "execution_count": 11,
   "metadata": {},
   "outputs": [],
   "source": [
    "# form the list of fiat currencies - We need to use this to call the coingecko API\n",
    "fiat = df_country_data.Curr_code.to_list()"
   ]
  },
  {
   "cell_type": "code",
   "execution_count": 12,
   "metadata": {},
   "outputs": [],
   "source": [
    "cryp_curr_list = ['bitcoin','litecoin', 'ripple', 'ethereum']"
   ]
  },
  {
   "cell_type": "code",
   "execution_count": 13,
   "metadata": {},
   "outputs": [],
   "source": [
    "gecko = CoinGeckoAPI()\r\n",
    "crypto_prices = gecko.get_price(ids=cryp_curr_list, vs_currencies=fiat, include_market_cap=True, include_24hr_vol=True, include_24hr_change=True)"
   ]
  },
  {
   "cell_type": "code",
   "execution_count": 14,
   "metadata": {},
   "outputs": [
    {
     "data": {
      "text/html": [
       "<div>\n",
       "<style scoped>\n",
       "    .dataframe tbody tr th:only-of-type {\n",
       "        vertical-align: middle;\n",
       "    }\n",
       "\n",
       "    .dataframe tbody tr th {\n",
       "        vertical-align: top;\n",
       "    }\n",
       "\n",
       "    .dataframe thead th {\n",
       "        text-align: right;\n",
       "    }\n",
       "</style>\n",
       "<table border=\"1\" class=\"dataframe\">\n",
       "  <thead>\n",
       "    <tr style=\"text-align: right;\">\n",
       "      <th></th>\n",
       "      <th>litecoin</th>\n",
       "      <th>bitcoin</th>\n",
       "      <th>ethereum</th>\n",
       "      <th>ripple</th>\n",
       "    </tr>\n",
       "  </thead>\n",
       "  <tbody>\n",
       "    <tr>\n",
       "      <th>AED</th>\n",
       "      <td>4.791800e+02</td>\n",
       "      <td>1.200410e+05</td>\n",
       "      <td>8.004160e+03</td>\n",
       "      <td>2.300000e+00</td>\n",
       "    </tr>\n",
       "    <tr>\n",
       "      <th>AED_24H_CHANGE</th>\n",
       "      <td>-7.677664e+00</td>\n",
       "      <td>-5.685176e+00</td>\n",
       "      <td>-8.218512e+00</td>\n",
       "      <td>-6.207155e+00</td>\n",
       "    </tr>\n",
       "    <tr>\n",
       "      <th>AED_24H_VOL</th>\n",
       "      <td>8.058348e+09</td>\n",
       "      <td>9.506692e+10</td>\n",
       "      <td>8.302614e+10</td>\n",
       "      <td>7.883031e+09</td>\n",
       "    </tr>\n",
       "    <tr>\n",
       "      <th>AED_MARKET_CAP</th>\n",
       "      <td>3.208387e+10</td>\n",
       "      <td>2.252063e+12</td>\n",
       "      <td>9.349455e+11</td>\n",
       "      <td>1.061754e+11</td>\n",
       "    </tr>\n",
       "    <tr>\n",
       "      <th>ARS</th>\n",
       "      <td>1.251564e+04</td>\n",
       "      <td>3.135312e+06</td>\n",
       "      <td>2.090580e+05</td>\n",
       "      <td>6.003000e+01</td>\n",
       "    </tr>\n",
       "  </tbody>\n",
       "</table>\n",
       "</div>"
      ],
      "text/plain": [
       "                    litecoin       bitcoin      ethereum        ripple\n",
       "AED             4.791800e+02  1.200410e+05  8.004160e+03  2.300000e+00\n",
       "AED_24H_CHANGE -7.677664e+00 -5.685176e+00 -8.218512e+00 -6.207155e+00\n",
       "AED_24H_VOL     8.058348e+09  9.506692e+10  8.302614e+10  7.883031e+09\n",
       "AED_MARKET_CAP  3.208387e+10  2.252063e+12  9.349455e+11  1.061754e+11\n",
       "ARS             1.251564e+04  3.135312e+06  2.090580e+05  6.003000e+01"
      ]
     },
     "execution_count": 14,
     "metadata": {},
     "output_type": "execute_result"
    }
   ],
   "source": [
    "df_gecko_data = pd.DataFrame.from_dict(crypto_prices)\r\n",
    "df_gecko_data.index = df_gecko_data.index.str.upper()\r\n",
    "df_gecko_data.head()"
   ]
  },
  {
   "cell_type": "code",
   "execution_count": 15,
   "metadata": {},
   "outputs": [],
   "source": [
    "df_circ_coins = pd.DataFrame(columns=['crypto', 'Circ_coins'], index=None)\r\n",
    "for curr in cryp_curr_list:\r\n",
    "    circ_coins = df_gecko_data.loc['USD_MARKET_CAP', curr] / df_gecko_data.loc['USD', curr]\r\n",
    "    df_circ_coins = df_circ_coins.append(pd.Series([\r\n",
    "        curr,\r\n",
    "        (circ_coins / 1000000)\r\n",
    "    ], index= df_circ_coins.columns), ignore_index= True)\r\n",
    "df_circ_coins.set_index('crypto', inplace=True)\r\n"
   ]
  },
  {
   "cell_type": "code",
   "execution_count": 24,
   "metadata": {},
   "outputs": [],
   "source": [
    "df_circ_coins = df_circ_coins.loc[ df_circ_coins.index != 'ripple']"
   ]
  },
  {
   "cell_type": "code",
   "execution_count": 25,
   "metadata": {},
   "outputs": [],
   "source": [
    "import dash "
   ]
  },
  {
   "cell_type": "code",
   "execution_count": 28,
   "metadata": {},
   "outputs": [
    {
     "ename": "ValueError",
     "evalue": "String 'ylabel' only takes a string value.",
     "output_type": "error",
     "traceback": [
      "\u001b[1;31m---------------------------------------------------------------------------\u001b[0m",
      "\u001b[1;31mValueError\u001b[0m                                Traceback (most recent call last)",
      "\u001b[1;32m~\\anaconda3\\envs\\pyvizenv\\lib\\site-packages\\IPython\\core\\formatters.py\u001b[0m in \u001b[0;36m__call__\u001b[1;34m(self, obj, include, exclude)\u001b[0m\n\u001b[0;32m    968\u001b[0m \u001b[1;33m\u001b[0m\u001b[0m\n\u001b[0;32m    969\u001b[0m             \u001b[1;32mif\u001b[0m \u001b[0mmethod\u001b[0m \u001b[1;32mis\u001b[0m \u001b[1;32mnot\u001b[0m \u001b[1;32mNone\u001b[0m\u001b[1;33m:\u001b[0m\u001b[1;33m\u001b[0m\u001b[1;33m\u001b[0m\u001b[0m\n\u001b[1;32m--> 970\u001b[1;33m                 \u001b[1;32mreturn\u001b[0m \u001b[0mmethod\u001b[0m\u001b[1;33m(\u001b[0m\u001b[0minclude\u001b[0m\u001b[1;33m=\u001b[0m\u001b[0minclude\u001b[0m\u001b[1;33m,\u001b[0m \u001b[0mexclude\u001b[0m\u001b[1;33m=\u001b[0m\u001b[0mexclude\u001b[0m\u001b[1;33m)\u001b[0m\u001b[1;33m\u001b[0m\u001b[1;33m\u001b[0m\u001b[0m\n\u001b[0m\u001b[0;32m    971\u001b[0m             \u001b[1;32mreturn\u001b[0m \u001b[1;32mNone\u001b[0m\u001b[1;33m\u001b[0m\u001b[1;33m\u001b[0m\u001b[0m\n\u001b[0;32m    972\u001b[0m         \u001b[1;32melse\u001b[0m\u001b[1;33m:\u001b[0m\u001b[1;33m\u001b[0m\u001b[1;33m\u001b[0m\u001b[0m\n",
      "\u001b[1;32m~\\anaconda3\\envs\\pyvizenv\\lib\\site-packages\\holoviews\\core\\dimension.py\u001b[0m in \u001b[0;36m_repr_mimebundle_\u001b[1;34m(self, include, exclude)\u001b[0m\n\u001b[0;32m   1315\u001b[0m         \u001b[0mcombined\u001b[0m \u001b[1;32mand\u001b[0m \u001b[0mreturned\u001b[0m\u001b[1;33m.\u001b[0m\u001b[1;33m\u001b[0m\u001b[1;33m\u001b[0m\u001b[0m\n\u001b[0;32m   1316\u001b[0m         \"\"\"\n\u001b[1;32m-> 1317\u001b[1;33m         \u001b[1;32mreturn\u001b[0m \u001b[0mStore\u001b[0m\u001b[1;33m.\u001b[0m\u001b[0mrender\u001b[0m\u001b[1;33m(\u001b[0m\u001b[0mself\u001b[0m\u001b[1;33m)\u001b[0m\u001b[1;33m\u001b[0m\u001b[1;33m\u001b[0m\u001b[0m\n\u001b[0m\u001b[0;32m   1318\u001b[0m \u001b[1;33m\u001b[0m\u001b[0m\n\u001b[0;32m   1319\u001b[0m \u001b[1;33m\u001b[0m\u001b[0m\n",
      "\u001b[1;32m~\\anaconda3\\envs\\pyvizenv\\lib\\site-packages\\holoviews\\core\\options.py\u001b[0m in \u001b[0;36mrender\u001b[1;34m(cls, obj)\u001b[0m\n\u001b[0;32m   1403\u001b[0m         \u001b[0mdata\u001b[0m\u001b[1;33m,\u001b[0m \u001b[0mmetadata\u001b[0m \u001b[1;33m=\u001b[0m \u001b[1;33m{\u001b[0m\u001b[1;33m}\u001b[0m\u001b[1;33m,\u001b[0m \u001b[1;33m{\u001b[0m\u001b[1;33m}\u001b[0m\u001b[1;33m\u001b[0m\u001b[1;33m\u001b[0m\u001b[0m\n\u001b[0;32m   1404\u001b[0m         \u001b[1;32mfor\u001b[0m \u001b[0mhook\u001b[0m \u001b[1;32min\u001b[0m \u001b[0mhooks\u001b[0m\u001b[1;33m:\u001b[0m\u001b[1;33m\u001b[0m\u001b[1;33m\u001b[0m\u001b[0m\n\u001b[1;32m-> 1405\u001b[1;33m             \u001b[0mret\u001b[0m \u001b[1;33m=\u001b[0m \u001b[0mhook\u001b[0m\u001b[1;33m(\u001b[0m\u001b[0mobj\u001b[0m\u001b[1;33m)\u001b[0m\u001b[1;33m\u001b[0m\u001b[1;33m\u001b[0m\u001b[0m\n\u001b[0m\u001b[0;32m   1406\u001b[0m             \u001b[1;32mif\u001b[0m \u001b[0mret\u001b[0m \u001b[1;32mis\u001b[0m \u001b[1;32mNone\u001b[0m\u001b[1;33m:\u001b[0m\u001b[1;33m\u001b[0m\u001b[1;33m\u001b[0m\u001b[0m\n\u001b[0;32m   1407\u001b[0m                 \u001b[1;32mcontinue\u001b[0m\u001b[1;33m\u001b[0m\u001b[1;33m\u001b[0m\u001b[0m\n",
      "\u001b[1;32m~\\anaconda3\\envs\\pyvizenv\\lib\\site-packages\\holoviews\\ipython\\display_hooks.py\u001b[0m in \u001b[0;36mpprint_display\u001b[1;34m(obj)\u001b[0m\n\u001b[0;32m    280\u001b[0m     \u001b[1;32mif\u001b[0m \u001b[1;32mnot\u001b[0m \u001b[0mip\u001b[0m\u001b[1;33m.\u001b[0m\u001b[0mdisplay_formatter\u001b[0m\u001b[1;33m.\u001b[0m\u001b[0mformatters\u001b[0m\u001b[1;33m[\u001b[0m\u001b[1;34m'text/plain'\u001b[0m\u001b[1;33m]\u001b[0m\u001b[1;33m.\u001b[0m\u001b[0mpprint\u001b[0m\u001b[1;33m:\u001b[0m\u001b[1;33m\u001b[0m\u001b[1;33m\u001b[0m\u001b[0m\n\u001b[0;32m    281\u001b[0m         \u001b[1;32mreturn\u001b[0m \u001b[1;32mNone\u001b[0m\u001b[1;33m\u001b[0m\u001b[1;33m\u001b[0m\u001b[0m\n\u001b[1;32m--> 282\u001b[1;33m     \u001b[1;32mreturn\u001b[0m \u001b[0mdisplay\u001b[0m\u001b[1;33m(\u001b[0m\u001b[0mobj\u001b[0m\u001b[1;33m,\u001b[0m \u001b[0mraw_output\u001b[0m\u001b[1;33m=\u001b[0m\u001b[1;32mTrue\u001b[0m\u001b[1;33m)\u001b[0m\u001b[1;33m\u001b[0m\u001b[1;33m\u001b[0m\u001b[0m\n\u001b[0m\u001b[0;32m    283\u001b[0m \u001b[1;33m\u001b[0m\u001b[0m\n\u001b[0;32m    284\u001b[0m \u001b[1;33m\u001b[0m\u001b[0m\n",
      "\u001b[1;32m~\\anaconda3\\envs\\pyvizenv\\lib\\site-packages\\holoviews\\ipython\\display_hooks.py\u001b[0m in \u001b[0;36mdisplay\u001b[1;34m(obj, raw_output, **kwargs)\u001b[0m\n\u001b[0;32m    250\u001b[0m     \u001b[1;32melif\u001b[0m \u001b[0misinstance\u001b[0m\u001b[1;33m(\u001b[0m\u001b[0mobj\u001b[0m\u001b[1;33m,\u001b[0m \u001b[1;33m(\u001b[0m\u001b[0mCompositeOverlay\u001b[0m\u001b[1;33m,\u001b[0m \u001b[0mViewableElement\u001b[0m\u001b[1;33m)\u001b[0m\u001b[1;33m)\u001b[0m\u001b[1;33m:\u001b[0m\u001b[1;33m\u001b[0m\u001b[1;33m\u001b[0m\u001b[0m\n\u001b[0;32m    251\u001b[0m         \u001b[1;32mwith\u001b[0m \u001b[0moption_state\u001b[0m\u001b[1;33m(\u001b[0m\u001b[0mobj\u001b[0m\u001b[1;33m)\u001b[0m\u001b[1;33m:\u001b[0m\u001b[1;33m\u001b[0m\u001b[1;33m\u001b[0m\u001b[0m\n\u001b[1;32m--> 252\u001b[1;33m             \u001b[0moutput\u001b[0m \u001b[1;33m=\u001b[0m \u001b[0melement_display\u001b[0m\u001b[1;33m(\u001b[0m\u001b[0mobj\u001b[0m\u001b[1;33m)\u001b[0m\u001b[1;33m\u001b[0m\u001b[1;33m\u001b[0m\u001b[0m\n\u001b[0m\u001b[0;32m    253\u001b[0m     \u001b[1;32melif\u001b[0m \u001b[0misinstance\u001b[0m\u001b[1;33m(\u001b[0m\u001b[0mobj\u001b[0m\u001b[1;33m,\u001b[0m \u001b[1;33m(\u001b[0m\u001b[0mLayout\u001b[0m\u001b[1;33m,\u001b[0m \u001b[0mNdLayout\u001b[0m\u001b[1;33m,\u001b[0m \u001b[0mAdjointLayout\u001b[0m\u001b[1;33m)\u001b[0m\u001b[1;33m)\u001b[0m\u001b[1;33m:\u001b[0m\u001b[1;33m\u001b[0m\u001b[1;33m\u001b[0m\u001b[0m\n\u001b[0;32m    254\u001b[0m         \u001b[1;32mwith\u001b[0m \u001b[0moption_state\u001b[0m\u001b[1;33m(\u001b[0m\u001b[0mobj\u001b[0m\u001b[1;33m)\u001b[0m\u001b[1;33m:\u001b[0m\u001b[1;33m\u001b[0m\u001b[1;33m\u001b[0m\u001b[0m\n",
      "\u001b[1;32m~\\anaconda3\\envs\\pyvizenv\\lib\\site-packages\\holoviews\\ipython\\display_hooks.py\u001b[0m in \u001b[0;36mwrapped\u001b[1;34m(element)\u001b[0m\n\u001b[0;32m    144\u001b[0m         \u001b[1;32mtry\u001b[0m\u001b[1;33m:\u001b[0m\u001b[1;33m\u001b[0m\u001b[1;33m\u001b[0m\u001b[0m\n\u001b[0;32m    145\u001b[0m             \u001b[0mmax_frames\u001b[0m \u001b[1;33m=\u001b[0m \u001b[0mOutputSettings\u001b[0m\u001b[1;33m.\u001b[0m\u001b[0moptions\u001b[0m\u001b[1;33m[\u001b[0m\u001b[1;34m'max_frames'\u001b[0m\u001b[1;33m]\u001b[0m\u001b[1;33m\u001b[0m\u001b[1;33m\u001b[0m\u001b[0m\n\u001b[1;32m--> 146\u001b[1;33m             \u001b[0mmimebundle\u001b[0m \u001b[1;33m=\u001b[0m \u001b[0mfn\u001b[0m\u001b[1;33m(\u001b[0m\u001b[0melement\u001b[0m\u001b[1;33m,\u001b[0m \u001b[0mmax_frames\u001b[0m\u001b[1;33m=\u001b[0m\u001b[0mmax_frames\u001b[0m\u001b[1;33m)\u001b[0m\u001b[1;33m\u001b[0m\u001b[1;33m\u001b[0m\u001b[0m\n\u001b[0m\u001b[0;32m    147\u001b[0m             \u001b[1;32mif\u001b[0m \u001b[0mmimebundle\u001b[0m \u001b[1;32mis\u001b[0m \u001b[1;32mNone\u001b[0m\u001b[1;33m:\u001b[0m\u001b[1;33m\u001b[0m\u001b[1;33m\u001b[0m\u001b[0m\n\u001b[0;32m    148\u001b[0m                 \u001b[1;32mreturn\u001b[0m \u001b[1;33m{\u001b[0m\u001b[1;33m}\u001b[0m\u001b[1;33m,\u001b[0m \u001b[1;33m{\u001b[0m\u001b[1;33m}\u001b[0m\u001b[1;33m\u001b[0m\u001b[1;33m\u001b[0m\u001b[0m\n",
      "\u001b[1;32m~\\anaconda3\\envs\\pyvizenv\\lib\\site-packages\\holoviews\\ipython\\display_hooks.py\u001b[0m in \u001b[0;36melement_display\u001b[1;34m(element, max_frames)\u001b[0m\n\u001b[0;32m    190\u001b[0m         \u001b[1;32mreturn\u001b[0m \u001b[1;32mNone\u001b[0m\u001b[1;33m\u001b[0m\u001b[1;33m\u001b[0m\u001b[0m\n\u001b[0;32m    191\u001b[0m \u001b[1;33m\u001b[0m\u001b[0m\n\u001b[1;32m--> 192\u001b[1;33m     \u001b[1;32mreturn\u001b[0m \u001b[0mrender\u001b[0m\u001b[1;33m(\u001b[0m\u001b[0melement\u001b[0m\u001b[1;33m)\u001b[0m\u001b[1;33m\u001b[0m\u001b[1;33m\u001b[0m\u001b[0m\n\u001b[0m\u001b[0;32m    193\u001b[0m \u001b[1;33m\u001b[0m\u001b[0m\n\u001b[0;32m    194\u001b[0m \u001b[1;33m\u001b[0m\u001b[0m\n",
      "\u001b[1;32m~\\anaconda3\\envs\\pyvizenv\\lib\\site-packages\\holoviews\\ipython\\display_hooks.py\u001b[0m in \u001b[0;36mrender\u001b[1;34m(obj, **kwargs)\u001b[0m\n\u001b[0;32m     66\u001b[0m         \u001b[0mrenderer\u001b[0m \u001b[1;33m=\u001b[0m \u001b[0mrenderer\u001b[0m\u001b[1;33m.\u001b[0m\u001b[0minstance\u001b[0m\u001b[1;33m(\u001b[0m\u001b[0mfig\u001b[0m\u001b[1;33m=\u001b[0m\u001b[1;34m'png'\u001b[0m\u001b[1;33m)\u001b[0m\u001b[1;33m\u001b[0m\u001b[1;33m\u001b[0m\u001b[0m\n\u001b[0;32m     67\u001b[0m \u001b[1;33m\u001b[0m\u001b[0m\n\u001b[1;32m---> 68\u001b[1;33m     \u001b[1;32mreturn\u001b[0m \u001b[0mrenderer\u001b[0m\u001b[1;33m.\u001b[0m\u001b[0mcomponents\u001b[0m\u001b[1;33m(\u001b[0m\u001b[0mobj\u001b[0m\u001b[1;33m,\u001b[0m \u001b[1;33m**\u001b[0m\u001b[0mkwargs\u001b[0m\u001b[1;33m)\u001b[0m\u001b[1;33m\u001b[0m\u001b[1;33m\u001b[0m\u001b[0m\n\u001b[0m\u001b[0;32m     69\u001b[0m \u001b[1;33m\u001b[0m\u001b[0m\n\u001b[0;32m     70\u001b[0m \u001b[1;33m\u001b[0m\u001b[0m\n",
      "\u001b[1;32m~\\anaconda3\\envs\\pyvizenv\\lib\\site-packages\\holoviews\\plotting\\renderer.py\u001b[0m in \u001b[0;36mcomponents\u001b[1;34m(self, obj, fmt, comm, **kwargs)\u001b[0m\n\u001b[0;32m    408\u001b[0m                 \u001b[0mdoc\u001b[0m \u001b[1;33m=\u001b[0m \u001b[0mDocument\u001b[0m\u001b[1;33m(\u001b[0m\u001b[1;33m)\u001b[0m\u001b[1;33m\u001b[0m\u001b[1;33m\u001b[0m\u001b[0m\n\u001b[0;32m    409\u001b[0m                 \u001b[1;32mwith\u001b[0m \u001b[0mconfig\u001b[0m\u001b[1;33m.\u001b[0m\u001b[0mset\u001b[0m\u001b[1;33m(\u001b[0m\u001b[0membed\u001b[0m\u001b[1;33m=\u001b[0m\u001b[0membed\u001b[0m\u001b[1;33m)\u001b[0m\u001b[1;33m:\u001b[0m\u001b[1;33m\u001b[0m\u001b[1;33m\u001b[0m\u001b[0m\n\u001b[1;32m--> 410\u001b[1;33m                     \u001b[0mmodel\u001b[0m \u001b[1;33m=\u001b[0m \u001b[0mplot\u001b[0m\u001b[1;33m.\u001b[0m\u001b[0mlayout\u001b[0m\u001b[1;33m.\u001b[0m\u001b[0m_render_model\u001b[0m\u001b[1;33m(\u001b[0m\u001b[0mdoc\u001b[0m\u001b[1;33m,\u001b[0m \u001b[0mcomm\u001b[0m\u001b[1;33m)\u001b[0m\u001b[1;33m\u001b[0m\u001b[1;33m\u001b[0m\u001b[0m\n\u001b[0m\u001b[0;32m    411\u001b[0m                 \u001b[1;32mif\u001b[0m \u001b[0membed\u001b[0m\u001b[1;33m:\u001b[0m\u001b[1;33m\u001b[0m\u001b[1;33m\u001b[0m\u001b[0m\n\u001b[0;32m    412\u001b[0m                     \u001b[1;32mreturn\u001b[0m \u001b[0mrender_model\u001b[0m\u001b[1;33m(\u001b[0m\u001b[0mmodel\u001b[0m\u001b[1;33m,\u001b[0m \u001b[0mcomm\u001b[0m\u001b[1;33m)\u001b[0m\u001b[1;33m\u001b[0m\u001b[1;33m\u001b[0m\u001b[0m\n",
      "\u001b[1;32m~\\anaconda3\\envs\\pyvizenv\\lib\\site-packages\\panel\\viewable.py\u001b[0m in \u001b[0;36m_render_model\u001b[1;34m(self, doc, comm)\u001b[0m\n\u001b[0;32m    425\u001b[0m         \u001b[1;32mif\u001b[0m \u001b[0mcomm\u001b[0m \u001b[1;32mis\u001b[0m \u001b[1;32mNone\u001b[0m\u001b[1;33m:\u001b[0m\u001b[1;33m\u001b[0m\u001b[1;33m\u001b[0m\u001b[0m\n\u001b[0;32m    426\u001b[0m             \u001b[0mcomm\u001b[0m \u001b[1;33m=\u001b[0m \u001b[0mstate\u001b[0m\u001b[1;33m.\u001b[0m\u001b[0m_comm_manager\u001b[0m\u001b[1;33m.\u001b[0m\u001b[0mget_server_comm\u001b[0m\u001b[1;33m(\u001b[0m\u001b[1;33m)\u001b[0m\u001b[1;33m\u001b[0m\u001b[1;33m\u001b[0m\u001b[0m\n\u001b[1;32m--> 427\u001b[1;33m         \u001b[0mmodel\u001b[0m \u001b[1;33m=\u001b[0m \u001b[0mself\u001b[0m\u001b[1;33m.\u001b[0m\u001b[0mget_root\u001b[0m\u001b[1;33m(\u001b[0m\u001b[0mdoc\u001b[0m\u001b[1;33m,\u001b[0m \u001b[0mcomm\u001b[0m\u001b[1;33m)\u001b[0m\u001b[1;33m\u001b[0m\u001b[1;33m\u001b[0m\u001b[0m\n\u001b[0m\u001b[0;32m    428\u001b[0m \u001b[1;33m\u001b[0m\u001b[0m\n\u001b[0;32m    429\u001b[0m         \u001b[1;32mif\u001b[0m \u001b[0mconfig\u001b[0m\u001b[1;33m.\u001b[0m\u001b[0membed\u001b[0m\u001b[1;33m:\u001b[0m\u001b[1;33m\u001b[0m\u001b[1;33m\u001b[0m\u001b[0m\n",
      "\u001b[1;32m~\\anaconda3\\envs\\pyvizenv\\lib\\site-packages\\panel\\viewable.py\u001b[0m in \u001b[0;36mget_root\u001b[1;34m(self, doc, comm, preprocess)\u001b[0m\n\u001b[0;32m    482\u001b[0m         \"\"\"\n\u001b[0;32m    483\u001b[0m         \u001b[0mdoc\u001b[0m \u001b[1;33m=\u001b[0m \u001b[0minit_doc\u001b[0m\u001b[1;33m(\u001b[0m\u001b[0mdoc\u001b[0m\u001b[1;33m)\u001b[0m\u001b[1;33m\u001b[0m\u001b[1;33m\u001b[0m\u001b[0m\n\u001b[1;32m--> 484\u001b[1;33m         \u001b[0mroot\u001b[0m \u001b[1;33m=\u001b[0m \u001b[0mself\u001b[0m\u001b[1;33m.\u001b[0m\u001b[0m_get_model\u001b[0m\u001b[1;33m(\u001b[0m\u001b[0mdoc\u001b[0m\u001b[1;33m,\u001b[0m \u001b[0mcomm\u001b[0m\u001b[1;33m=\u001b[0m\u001b[0mcomm\u001b[0m\u001b[1;33m)\u001b[0m\u001b[1;33m\u001b[0m\u001b[1;33m\u001b[0m\u001b[0m\n\u001b[0m\u001b[0;32m    485\u001b[0m         \u001b[1;32mif\u001b[0m \u001b[0mpreprocess\u001b[0m\u001b[1;33m:\u001b[0m\u001b[1;33m\u001b[0m\u001b[1;33m\u001b[0m\u001b[0m\n\u001b[0;32m    486\u001b[0m             \u001b[0mself\u001b[0m\u001b[1;33m.\u001b[0m\u001b[0m_preprocess\u001b[0m\u001b[1;33m(\u001b[0m\u001b[0mroot\u001b[0m\u001b[1;33m)\u001b[0m\u001b[1;33m\u001b[0m\u001b[1;33m\u001b[0m\u001b[0m\n",
      "\u001b[1;32m~\\anaconda3\\envs\\pyvizenv\\lib\\site-packages\\panel\\layout\\base.py\u001b[0m in \u001b[0;36m_get_model\u001b[1;34m(self, doc, root, parent, comm)\u001b[0m\n\u001b[0;32m    111\u001b[0m         \u001b[1;32mif\u001b[0m \u001b[0mroot\u001b[0m \u001b[1;32mis\u001b[0m \u001b[1;32mNone\u001b[0m\u001b[1;33m:\u001b[0m\u001b[1;33m\u001b[0m\u001b[1;33m\u001b[0m\u001b[0m\n\u001b[0;32m    112\u001b[0m             \u001b[0mroot\u001b[0m \u001b[1;33m=\u001b[0m \u001b[0mmodel\u001b[0m\u001b[1;33m\u001b[0m\u001b[1;33m\u001b[0m\u001b[0m\n\u001b[1;32m--> 113\u001b[1;33m         \u001b[0mobjects\u001b[0m \u001b[1;33m=\u001b[0m \u001b[0mself\u001b[0m\u001b[1;33m.\u001b[0m\u001b[0m_get_objects\u001b[0m\u001b[1;33m(\u001b[0m\u001b[0mmodel\u001b[0m\u001b[1;33m,\u001b[0m \u001b[1;33m[\u001b[0m\u001b[1;33m]\u001b[0m\u001b[1;33m,\u001b[0m \u001b[0mdoc\u001b[0m\u001b[1;33m,\u001b[0m \u001b[0mroot\u001b[0m\u001b[1;33m,\u001b[0m \u001b[0mcomm\u001b[0m\u001b[1;33m)\u001b[0m\u001b[1;33m\u001b[0m\u001b[1;33m\u001b[0m\u001b[0m\n\u001b[0m\u001b[0;32m    114\u001b[0m         \u001b[0mprops\u001b[0m \u001b[1;33m=\u001b[0m \u001b[0mdict\u001b[0m\u001b[1;33m(\u001b[0m\u001b[0mself\u001b[0m\u001b[1;33m.\u001b[0m\u001b[0m_init_params\u001b[0m\u001b[1;33m(\u001b[0m\u001b[1;33m)\u001b[0m\u001b[1;33m,\u001b[0m \u001b[0mobjects\u001b[0m\u001b[1;33m=\u001b[0m\u001b[0mobjects\u001b[0m\u001b[1;33m)\u001b[0m\u001b[1;33m\u001b[0m\u001b[1;33m\u001b[0m\u001b[0m\n\u001b[0;32m    115\u001b[0m         \u001b[0mmodel\u001b[0m\u001b[1;33m.\u001b[0m\u001b[0mupdate\u001b[0m\u001b[1;33m(\u001b[0m\u001b[1;33m**\u001b[0m\u001b[0mself\u001b[0m\u001b[1;33m.\u001b[0m\u001b[0m_process_param_change\u001b[0m\u001b[1;33m(\u001b[0m\u001b[0mprops\u001b[0m\u001b[1;33m)\u001b[0m\u001b[1;33m)\u001b[0m\u001b[1;33m\u001b[0m\u001b[1;33m\u001b[0m\u001b[0m\n",
      "\u001b[1;32m~\\anaconda3\\envs\\pyvizenv\\lib\\site-packages\\panel\\layout\\base.py\u001b[0m in \u001b[0;36m_get_objects\u001b[1;34m(self, model, old_objects, doc, root, comm)\u001b[0m\n\u001b[0;32m    101\u001b[0m             \u001b[1;32melse\u001b[0m\u001b[1;33m:\u001b[0m\u001b[1;33m\u001b[0m\u001b[1;33m\u001b[0m\u001b[0m\n\u001b[0;32m    102\u001b[0m                 \u001b[1;32mtry\u001b[0m\u001b[1;33m:\u001b[0m\u001b[1;33m\u001b[0m\u001b[1;33m\u001b[0m\u001b[0m\n\u001b[1;32m--> 103\u001b[1;33m                     \u001b[0mchild\u001b[0m \u001b[1;33m=\u001b[0m \u001b[0mpane\u001b[0m\u001b[1;33m.\u001b[0m\u001b[0m_get_model\u001b[0m\u001b[1;33m(\u001b[0m\u001b[0mdoc\u001b[0m\u001b[1;33m,\u001b[0m \u001b[0mroot\u001b[0m\u001b[1;33m,\u001b[0m \u001b[0mmodel\u001b[0m\u001b[1;33m,\u001b[0m \u001b[0mcomm\u001b[0m\u001b[1;33m)\u001b[0m\u001b[1;33m\u001b[0m\u001b[1;33m\u001b[0m\u001b[0m\n\u001b[0m\u001b[0;32m    104\u001b[0m                 \u001b[1;32mexcept\u001b[0m \u001b[0mRerenderError\u001b[0m\u001b[1;33m:\u001b[0m\u001b[1;33m\u001b[0m\u001b[1;33m\u001b[0m\u001b[0m\n\u001b[0;32m    105\u001b[0m                     \u001b[1;32mreturn\u001b[0m \u001b[0mself\u001b[0m\u001b[1;33m.\u001b[0m\u001b[0m_get_objects\u001b[0m\u001b[1;33m(\u001b[0m\u001b[0mmodel\u001b[0m\u001b[1;33m,\u001b[0m \u001b[0mcurrent_objects\u001b[0m\u001b[1;33m[\u001b[0m\u001b[1;33m:\u001b[0m\u001b[0mi\u001b[0m\u001b[1;33m]\u001b[0m\u001b[1;33m,\u001b[0m \u001b[0mdoc\u001b[0m\u001b[1;33m,\u001b[0m \u001b[0mroot\u001b[0m\u001b[1;33m,\u001b[0m \u001b[0mcomm\u001b[0m\u001b[1;33m)\u001b[0m\u001b[1;33m\u001b[0m\u001b[1;33m\u001b[0m\u001b[0m\n",
      "\u001b[1;32m~\\anaconda3\\envs\\pyvizenv\\lib\\site-packages\\panel\\pane\\holoviews.py\u001b[0m in \u001b[0;36m_get_model\u001b[1;34m(self, doc, root, parent, comm)\u001b[0m\n\u001b[0;32m    237\u001b[0m             \u001b[0mplot\u001b[0m \u001b[1;33m=\u001b[0m \u001b[0mself\u001b[0m\u001b[1;33m.\u001b[0m\u001b[0mobject\u001b[0m\u001b[1;33m\u001b[0m\u001b[1;33m\u001b[0m\u001b[0m\n\u001b[0;32m    238\u001b[0m         \u001b[1;32melse\u001b[0m\u001b[1;33m:\u001b[0m\u001b[1;33m\u001b[0m\u001b[1;33m\u001b[0m\u001b[0m\n\u001b[1;32m--> 239\u001b[1;33m             \u001b[0mplot\u001b[0m \u001b[1;33m=\u001b[0m \u001b[0mself\u001b[0m\u001b[1;33m.\u001b[0m\u001b[0m_render\u001b[0m\u001b[1;33m(\u001b[0m\u001b[0mdoc\u001b[0m\u001b[1;33m,\u001b[0m \u001b[0mcomm\u001b[0m\u001b[1;33m,\u001b[0m \u001b[0mroot\u001b[0m\u001b[1;33m)\u001b[0m\u001b[1;33m\u001b[0m\u001b[1;33m\u001b[0m\u001b[0m\n\u001b[0m\u001b[0;32m    240\u001b[0m \u001b[1;33m\u001b[0m\u001b[0m\n\u001b[0;32m    241\u001b[0m         \u001b[0mplot\u001b[0m\u001b[1;33m.\u001b[0m\u001b[0mpane\u001b[0m \u001b[1;33m=\u001b[0m \u001b[0mself\u001b[0m\u001b[1;33m\u001b[0m\u001b[1;33m\u001b[0m\u001b[0m\n",
      "\u001b[1;32m~\\anaconda3\\envs\\pyvizenv\\lib\\site-packages\\panel\\pane\\holoviews.py\u001b[0m in \u001b[0;36m_render\u001b[1;34m(self, doc, comm, root)\u001b[0m\n\u001b[0;32m    302\u001b[0m                 \u001b[0mkwargs\u001b[0m\u001b[1;33m[\u001b[0m\u001b[1;34m'comm'\u001b[0m\u001b[1;33m]\u001b[0m \u001b[1;33m=\u001b[0m \u001b[0mcomm\u001b[0m\u001b[1;33m\u001b[0m\u001b[1;33m\u001b[0m\u001b[0m\n\u001b[0;32m    303\u001b[0m \u001b[1;33m\u001b[0m\u001b[0m\n\u001b[1;32m--> 304\u001b[1;33m         \u001b[1;32mreturn\u001b[0m \u001b[0mrenderer\u001b[0m\u001b[1;33m.\u001b[0m\u001b[0mget_plot\u001b[0m\u001b[1;33m(\u001b[0m\u001b[0mself\u001b[0m\u001b[1;33m.\u001b[0m\u001b[0mobject\u001b[0m\u001b[1;33m,\u001b[0m \u001b[1;33m**\u001b[0m\u001b[0mkwargs\u001b[0m\u001b[1;33m)\u001b[0m\u001b[1;33m\u001b[0m\u001b[1;33m\u001b[0m\u001b[0m\n\u001b[0m\u001b[0;32m    305\u001b[0m \u001b[1;33m\u001b[0m\u001b[0m\n\u001b[0;32m    306\u001b[0m     \u001b[1;32mdef\u001b[0m \u001b[0m_cleanup\u001b[0m\u001b[1;33m(\u001b[0m\u001b[0mself\u001b[0m\u001b[1;33m,\u001b[0m \u001b[0mroot\u001b[0m\u001b[1;33m)\u001b[0m\u001b[1;33m:\u001b[0m\u001b[1;33m\u001b[0m\u001b[1;33m\u001b[0m\u001b[0m\n",
      "\u001b[1;32m~\\anaconda3\\envs\\pyvizenv\\lib\\site-packages\\holoviews\\plotting\\bokeh\\renderer.py\u001b[0m in \u001b[0;36mget_plot\u001b[1;34m(self_or_cls, obj, doc, renderer, **kwargs)\u001b[0m\n\u001b[0;32m     71\u001b[0m         \u001b[0mcombining\u001b[0m \u001b[0mthe\u001b[0m \u001b[0mbokeh\u001b[0m \u001b[0mmodel\u001b[0m \u001b[1;32mwith\u001b[0m \u001b[0manother\u001b[0m \u001b[0mplot\u001b[0m\u001b[1;33m.\u001b[0m\u001b[1;33m\u001b[0m\u001b[1;33m\u001b[0m\u001b[0m\n\u001b[0;32m     72\u001b[0m         \"\"\"\n\u001b[1;32m---> 73\u001b[1;33m         \u001b[0mplot\u001b[0m \u001b[1;33m=\u001b[0m \u001b[0msuper\u001b[0m\u001b[1;33m(\u001b[0m\u001b[0mBokehRenderer\u001b[0m\u001b[1;33m,\u001b[0m \u001b[0mself_or_cls\u001b[0m\u001b[1;33m)\u001b[0m\u001b[1;33m.\u001b[0m\u001b[0mget_plot\u001b[0m\u001b[1;33m(\u001b[0m\u001b[0mobj\u001b[0m\u001b[1;33m,\u001b[0m \u001b[0mdoc\u001b[0m\u001b[1;33m,\u001b[0m \u001b[0mrenderer\u001b[0m\u001b[1;33m,\u001b[0m \u001b[1;33m**\u001b[0m\u001b[0mkwargs\u001b[0m\u001b[1;33m)\u001b[0m\u001b[1;33m\u001b[0m\u001b[1;33m\u001b[0m\u001b[0m\n\u001b[0m\u001b[0;32m     74\u001b[0m         \u001b[1;32mif\u001b[0m \u001b[0mplot\u001b[0m\u001b[1;33m.\u001b[0m\u001b[0mdocument\u001b[0m \u001b[1;32mis\u001b[0m \u001b[1;32mNone\u001b[0m\u001b[1;33m:\u001b[0m\u001b[1;33m\u001b[0m\u001b[1;33m\u001b[0m\u001b[0m\n\u001b[0;32m     75\u001b[0m             \u001b[0mplot\u001b[0m\u001b[1;33m.\u001b[0m\u001b[0mdocument\u001b[0m \u001b[1;33m=\u001b[0m \u001b[0mDocument\u001b[0m\u001b[1;33m(\u001b[0m\u001b[1;33m)\u001b[0m \u001b[1;32mif\u001b[0m \u001b[0mself_or_cls\u001b[0m\u001b[1;33m.\u001b[0m\u001b[0mnotebook_context\u001b[0m \u001b[1;32melse\u001b[0m \u001b[0mcurdoc\u001b[0m\u001b[1;33m(\u001b[0m\u001b[1;33m)\u001b[0m\u001b[1;33m\u001b[0m\u001b[1;33m\u001b[0m\u001b[0m\n",
      "\u001b[1;32m~\\anaconda3\\envs\\pyvizenv\\lib\\site-packages\\holoviews\\plotting\\renderer.py\u001b[0m in \u001b[0;36mget_plot\u001b[1;34m(self_or_cls, obj, doc, renderer, comm, **kwargs)\u001b[0m\n\u001b[0;32m    237\u001b[0m                 \u001b[0mobj\u001b[0m \u001b[1;33m=\u001b[0m \u001b[0mLayout\u001b[0m\u001b[1;33m(\u001b[0m\u001b[0mobj\u001b[0m\u001b[1;33m)\u001b[0m\u001b[1;33m\u001b[0m\u001b[1;33m\u001b[0m\u001b[0m\n\u001b[0;32m    238\u001b[0m             plot = self_or_cls.plotting_class(obj)(obj, renderer=renderer,\n\u001b[1;32m--> 239\u001b[1;33m                                                    **plot_opts)\n\u001b[0m\u001b[0;32m    240\u001b[0m             \u001b[0mdefaults\u001b[0m \u001b[1;33m=\u001b[0m \u001b[1;33m[\u001b[0m\u001b[0mkd\u001b[0m\u001b[1;33m.\u001b[0m\u001b[0mdefault\u001b[0m \u001b[1;32mfor\u001b[0m \u001b[0mkd\u001b[0m \u001b[1;32min\u001b[0m \u001b[0mplot\u001b[0m\u001b[1;33m.\u001b[0m\u001b[0mdimensions\u001b[0m\u001b[1;33m]\u001b[0m\u001b[1;33m\u001b[0m\u001b[1;33m\u001b[0m\u001b[0m\n\u001b[0;32m    241\u001b[0m             init_key = tuple(v if d is None else d for v, d in\n",
      "\u001b[1;32m~\\anaconda3\\envs\\pyvizenv\\lib\\site-packages\\holoviews\\plotting\\bokeh\\element.py\u001b[0m in \u001b[0;36m__init__\u001b[1;34m(self, element, plot, **params)\u001b[0m\n\u001b[0;32m    214\u001b[0m     \u001b[1;32mdef\u001b[0m \u001b[0m__init__\u001b[0m\u001b[1;33m(\u001b[0m\u001b[0mself\u001b[0m\u001b[1;33m,\u001b[0m \u001b[0melement\u001b[0m\u001b[1;33m,\u001b[0m \u001b[0mplot\u001b[0m\u001b[1;33m=\u001b[0m\u001b[1;32mNone\u001b[0m\u001b[1;33m,\u001b[0m \u001b[1;33m**\u001b[0m\u001b[0mparams\u001b[0m\u001b[1;33m)\u001b[0m\u001b[1;33m:\u001b[0m\u001b[1;33m\u001b[0m\u001b[1;33m\u001b[0m\u001b[0m\n\u001b[0;32m    215\u001b[0m         \u001b[0mself\u001b[0m\u001b[1;33m.\u001b[0m\u001b[0mcurrent_ranges\u001b[0m \u001b[1;33m=\u001b[0m \u001b[1;32mNone\u001b[0m\u001b[1;33m\u001b[0m\u001b[1;33m\u001b[0m\u001b[0m\n\u001b[1;32m--> 216\u001b[1;33m         \u001b[0msuper\u001b[0m\u001b[1;33m(\u001b[0m\u001b[0mElementPlot\u001b[0m\u001b[1;33m,\u001b[0m \u001b[0mself\u001b[0m\u001b[1;33m)\u001b[0m\u001b[1;33m.\u001b[0m\u001b[0m__init__\u001b[0m\u001b[1;33m(\u001b[0m\u001b[0melement\u001b[0m\u001b[1;33m,\u001b[0m \u001b[1;33m**\u001b[0m\u001b[0mparams\u001b[0m\u001b[1;33m)\u001b[0m\u001b[1;33m\u001b[0m\u001b[1;33m\u001b[0m\u001b[0m\n\u001b[0m\u001b[0;32m    217\u001b[0m         \u001b[0mself\u001b[0m\u001b[1;33m.\u001b[0m\u001b[0mhandles\u001b[0m \u001b[1;33m=\u001b[0m \u001b[1;33m{\u001b[0m\u001b[1;33m}\u001b[0m \u001b[1;32mif\u001b[0m \u001b[0mplot\u001b[0m \u001b[1;32mis\u001b[0m \u001b[1;32mNone\u001b[0m \u001b[1;32melse\u001b[0m \u001b[0mself\u001b[0m\u001b[1;33m.\u001b[0m\u001b[0mhandles\u001b[0m\u001b[1;33m[\u001b[0m\u001b[1;34m'plot'\u001b[0m\u001b[1;33m]\u001b[0m\u001b[1;33m\u001b[0m\u001b[1;33m\u001b[0m\u001b[0m\n\u001b[0;32m    218\u001b[0m         \u001b[0mself\u001b[0m\u001b[1;33m.\u001b[0m\u001b[0mstatic\u001b[0m \u001b[1;33m=\u001b[0m \u001b[0mlen\u001b[0m\u001b[1;33m(\u001b[0m\u001b[0mself\u001b[0m\u001b[1;33m.\u001b[0m\u001b[0mhmap\u001b[0m\u001b[1;33m)\u001b[0m \u001b[1;33m==\u001b[0m \u001b[1;36m1\u001b[0m \u001b[1;32mand\u001b[0m \u001b[0mlen\u001b[0m\u001b[1;33m(\u001b[0m\u001b[0mself\u001b[0m\u001b[1;33m.\u001b[0m\u001b[0mkeys\u001b[0m\u001b[1;33m)\u001b[0m \u001b[1;33m==\u001b[0m \u001b[0mlen\u001b[0m\u001b[1;33m(\u001b[0m\u001b[0mself\u001b[0m\u001b[1;33m.\u001b[0m\u001b[0mhmap\u001b[0m\u001b[1;33m)\u001b[0m\u001b[1;33m\u001b[0m\u001b[1;33m\u001b[0m\u001b[0m\n",
      "\u001b[1;32m~\\anaconda3\\envs\\pyvizenv\\lib\\site-packages\\holoviews\\plotting\\plot.py\u001b[0m in \u001b[0;36m__init__\u001b[1;34m(self, element, keys, ranges, dimensions, batched, overlaid, cyclic_index, zorder, style, overlay_dims, stream_sources, streams, **params)\u001b[0m\n\u001b[0;32m   1229\u001b[0m         super(GenericElementPlot, self).__init__(keys=keys, dimensions=dimensions,\n\u001b[0;32m   1230\u001b[0m                                                  \u001b[0mdynamic\u001b[0m\u001b[1;33m=\u001b[0m\u001b[0mdynamic\u001b[0m\u001b[1;33m,\u001b[0m\u001b[1;33m\u001b[0m\u001b[1;33m\u001b[0m\u001b[0m\n\u001b[1;32m-> 1231\u001b[1;33m                                                  **dict(params, **plot_opts))\n\u001b[0m\u001b[0;32m   1232\u001b[0m         \u001b[0mself\u001b[0m\u001b[1;33m.\u001b[0m\u001b[0mstreams\u001b[0m \u001b[1;33m=\u001b[0m \u001b[0mget_nested_streams\u001b[0m\u001b[1;33m(\u001b[0m\u001b[0mself\u001b[0m\u001b[1;33m.\u001b[0m\u001b[0mhmap\u001b[0m\u001b[1;33m)\u001b[0m \u001b[1;32mif\u001b[0m \u001b[0mstreams\u001b[0m \u001b[1;32mis\u001b[0m \u001b[1;32mNone\u001b[0m \u001b[1;32melse\u001b[0m \u001b[0mstreams\u001b[0m\u001b[1;33m\u001b[0m\u001b[1;33m\u001b[0m\u001b[0m\n\u001b[0;32m   1233\u001b[0m \u001b[1;33m\u001b[0m\u001b[0m\n",
      "\u001b[1;32m~\\anaconda3\\envs\\pyvizenv\\lib\\site-packages\\holoviews\\plotting\\plot.py\u001b[0m in \u001b[0;36m__init__\u001b[1;34m(self, keys, dimensions, layout_dimensions, uniform, subplot, adjoined, layout_num, style, subplots, dynamic, **params)\u001b[0m\n\u001b[0;32m    432\u001b[0m         \u001b[0mself\u001b[0m\u001b[1;33m.\u001b[0m\u001b[0mranges\u001b[0m \u001b[1;33m=\u001b[0m \u001b[1;33m{\u001b[0m\u001b[1;33m}\u001b[0m\u001b[1;33m\u001b[0m\u001b[1;33m\u001b[0m\u001b[0m\n\u001b[0;32m    433\u001b[0m         \u001b[0mself\u001b[0m\u001b[1;33m.\u001b[0m\u001b[0m_updated\u001b[0m \u001b[1;33m=\u001b[0m \u001b[1;32mFalse\u001b[0m \u001b[1;31m# Whether the plot should be marked as updated\u001b[0m\u001b[1;33m\u001b[0m\u001b[1;33m\u001b[0m\u001b[0m\n\u001b[1;32m--> 434\u001b[1;33m         \u001b[0msuper\u001b[0m\u001b[1;33m(\u001b[0m\u001b[0mDimensionedPlot\u001b[0m\u001b[1;33m,\u001b[0m \u001b[0mself\u001b[0m\u001b[1;33m)\u001b[0m\u001b[1;33m.\u001b[0m\u001b[0m__init__\u001b[0m\u001b[1;33m(\u001b[0m\u001b[1;33m**\u001b[0m\u001b[0mparams\u001b[0m\u001b[1;33m)\u001b[0m\u001b[1;33m\u001b[0m\u001b[1;33m\u001b[0m\u001b[0m\n\u001b[0m\u001b[0;32m    435\u001b[0m \u001b[1;33m\u001b[0m\u001b[0m\n\u001b[0;32m    436\u001b[0m \u001b[1;33m\u001b[0m\u001b[0m\n",
      "\u001b[1;32m~\\anaconda3\\envs\\pyvizenv\\lib\\site-packages\\holoviews\\plotting\\plot.py\u001b[0m in \u001b[0;36m__init__\u001b[1;34m(self, renderer, root, **params)\u001b[0m\n\u001b[0;32m     64\u001b[0m         params = {k: v for k, v in params.items()\n\u001b[0;32m     65\u001b[0m                   if k in self.param}\n\u001b[1;32m---> 66\u001b[1;33m         \u001b[0msuper\u001b[0m\u001b[1;33m(\u001b[0m\u001b[0mPlot\u001b[0m\u001b[1;33m,\u001b[0m \u001b[0mself\u001b[0m\u001b[1;33m)\u001b[0m\u001b[1;33m.\u001b[0m\u001b[0m__init__\u001b[0m\u001b[1;33m(\u001b[0m\u001b[1;33m**\u001b[0m\u001b[0mparams\u001b[0m\u001b[1;33m)\u001b[0m\u001b[1;33m\u001b[0m\u001b[1;33m\u001b[0m\u001b[0m\n\u001b[0m\u001b[0;32m     67\u001b[0m         \u001b[0mself\u001b[0m\u001b[1;33m.\u001b[0m\u001b[0mrenderer\u001b[0m \u001b[1;33m=\u001b[0m \u001b[0mrenderer\u001b[0m \u001b[1;32mif\u001b[0m \u001b[0mrenderer\u001b[0m \u001b[1;32melse\u001b[0m \u001b[0mStore\u001b[0m\u001b[1;33m.\u001b[0m\u001b[0mrenderers\u001b[0m\u001b[1;33m[\u001b[0m\u001b[0mself\u001b[0m\u001b[1;33m.\u001b[0m\u001b[0mbackend\u001b[0m\u001b[1;33m]\u001b[0m\u001b[1;33m.\u001b[0m\u001b[0minstance\u001b[0m\u001b[1;33m(\u001b[0m\u001b[1;33m)\u001b[0m\u001b[1;33m\u001b[0m\u001b[1;33m\u001b[0m\u001b[0m\n\u001b[0;32m     68\u001b[0m         \u001b[0mself\u001b[0m\u001b[1;33m.\u001b[0m\u001b[0m_force\u001b[0m \u001b[1;33m=\u001b[0m \u001b[1;32mFalse\u001b[0m\u001b[1;33m\u001b[0m\u001b[1;33m\u001b[0m\u001b[0m\n",
      "\u001b[1;32m~\\anaconda3\\envs\\pyvizenv\\lib\\site-packages\\param\\parameterized.py\u001b[0m in \u001b[0;36m__init__\u001b[1;34m(self, **params)\u001b[0m\n\u001b[0;32m   2520\u001b[0m \u001b[1;33m\u001b[0m\u001b[0m\n\u001b[0;32m   2521\u001b[0m         \u001b[0mself\u001b[0m\u001b[1;33m.\u001b[0m\u001b[0mparam\u001b[0m\u001b[1;33m.\u001b[0m\u001b[0m_generate_name\u001b[0m\u001b[1;33m(\u001b[0m\u001b[1;33m)\u001b[0m\u001b[1;33m\u001b[0m\u001b[1;33m\u001b[0m\u001b[0m\n\u001b[1;32m-> 2522\u001b[1;33m         \u001b[0mself\u001b[0m\u001b[1;33m.\u001b[0m\u001b[0mparam\u001b[0m\u001b[1;33m.\u001b[0m\u001b[0m_setup_params\u001b[0m\u001b[1;33m(\u001b[0m\u001b[1;33m**\u001b[0m\u001b[0mparams\u001b[0m\u001b[1;33m)\u001b[0m\u001b[1;33m\u001b[0m\u001b[1;33m\u001b[0m\u001b[0m\n\u001b[0m\u001b[0;32m   2523\u001b[0m         \u001b[0mobject_count\u001b[0m \u001b[1;33m+=\u001b[0m \u001b[1;36m1\u001b[0m\u001b[1;33m\u001b[0m\u001b[1;33m\u001b[0m\u001b[0m\n\u001b[0;32m   2524\u001b[0m \u001b[1;33m\u001b[0m\u001b[0m\n",
      "\u001b[1;32m~\\anaconda3\\envs\\pyvizenv\\lib\\site-packages\\param\\parameterized.py\u001b[0m in \u001b[0;36moverride_initialization\u001b[1;34m(self_, *args, **kw)\u001b[0m\n\u001b[0;32m   1063\u001b[0m         \u001b[0moriginal_initialized\u001b[0m \u001b[1;33m=\u001b[0m \u001b[0mparameterized_instance\u001b[0m\u001b[1;33m.\u001b[0m\u001b[0minitialized\u001b[0m\u001b[1;33m\u001b[0m\u001b[1;33m\u001b[0m\u001b[0m\n\u001b[0;32m   1064\u001b[0m         \u001b[0mparameterized_instance\u001b[0m\u001b[1;33m.\u001b[0m\u001b[0minitialized\u001b[0m \u001b[1;33m=\u001b[0m \u001b[1;32mFalse\u001b[0m\u001b[1;33m\u001b[0m\u001b[1;33m\u001b[0m\u001b[0m\n\u001b[1;32m-> 1065\u001b[1;33m         \u001b[0mfn\u001b[0m\u001b[1;33m(\u001b[0m\u001b[0mparameterized_instance\u001b[0m\u001b[1;33m,\u001b[0m \u001b[1;33m*\u001b[0m\u001b[0margs\u001b[0m\u001b[1;33m,\u001b[0m \u001b[1;33m**\u001b[0m\u001b[0mkw\u001b[0m\u001b[1;33m)\u001b[0m\u001b[1;33m\u001b[0m\u001b[1;33m\u001b[0m\u001b[0m\n\u001b[0m\u001b[0;32m   1066\u001b[0m         \u001b[0mparameterized_instance\u001b[0m\u001b[1;33m.\u001b[0m\u001b[0minitialized\u001b[0m \u001b[1;33m=\u001b[0m \u001b[0moriginal_initialized\u001b[0m\u001b[1;33m\u001b[0m\u001b[1;33m\u001b[0m\u001b[0m\n\u001b[0;32m   1067\u001b[0m     \u001b[1;32mreturn\u001b[0m \u001b[0moverride_initialization\u001b[0m\u001b[1;33m\u001b[0m\u001b[1;33m\u001b[0m\u001b[0m\n",
      "\u001b[1;32m~\\anaconda3\\envs\\pyvizenv\\lib\\site-packages\\param\\parameterized.py\u001b[0m in \u001b[0;36m_setup_params\u001b[1;34m(self_, **params)\u001b[0m\n\u001b[0;32m   1311\u001b[0m                 \u001b[0mself\u001b[0m\u001b[1;33m.\u001b[0m\u001b[0mparam\u001b[0m\u001b[1;33m.\u001b[0m\u001b[0mwarning\u001b[0m\u001b[1;33m(\u001b[0m\u001b[1;34m\"Setting non-parameter attribute %s=%s using a mechanism intended only for parameters\"\u001b[0m\u001b[1;33m,\u001b[0m \u001b[0mname\u001b[0m\u001b[1;33m,\u001b[0m \u001b[0mval\u001b[0m\u001b[1;33m)\u001b[0m\u001b[1;33m\u001b[0m\u001b[1;33m\u001b[0m\u001b[0m\n\u001b[0;32m   1312\u001b[0m             \u001b[1;31m# i.e. if not desc it's setting an attribute in __dict__, not a Parameter\u001b[0m\u001b[1;33m\u001b[0m\u001b[1;33m\u001b[0m\u001b[1;33m\u001b[0m\u001b[0m\n\u001b[1;32m-> 1313\u001b[1;33m             \u001b[0msetattr\u001b[0m\u001b[1;33m(\u001b[0m\u001b[0mself\u001b[0m\u001b[1;33m,\u001b[0m \u001b[0mname\u001b[0m\u001b[1;33m,\u001b[0m \u001b[0mval\u001b[0m\u001b[1;33m)\u001b[0m\u001b[1;33m\u001b[0m\u001b[1;33m\u001b[0m\u001b[0m\n\u001b[0m\u001b[0;32m   1314\u001b[0m \u001b[1;33m\u001b[0m\u001b[0m\n\u001b[0;32m   1315\u001b[0m     \u001b[1;33m@\u001b[0m\u001b[0mclassmethod\u001b[0m\u001b[1;33m\u001b[0m\u001b[1;33m\u001b[0m\u001b[0m\n",
      "\u001b[1;32m~\\anaconda3\\envs\\pyvizenv\\lib\\site-packages\\param\\parameterized.py\u001b[0m in \u001b[0;36m_f\u001b[1;34m(self, obj, val)\u001b[0m\n\u001b[0;32m    316\u001b[0m             \u001b[0minstance_param\u001b[0m\u001b[1;33m.\u001b[0m\u001b[0m__set__\u001b[0m\u001b[1;33m(\u001b[0m\u001b[0mobj\u001b[0m\u001b[1;33m,\u001b[0m \u001b[0mval\u001b[0m\u001b[1;33m)\u001b[0m\u001b[1;33m\u001b[0m\u001b[1;33m\u001b[0m\u001b[0m\n\u001b[0;32m    317\u001b[0m             \u001b[1;32mreturn\u001b[0m\u001b[1;33m\u001b[0m\u001b[1;33m\u001b[0m\u001b[0m\n\u001b[1;32m--> 318\u001b[1;33m         \u001b[1;32mreturn\u001b[0m \u001b[0mf\u001b[0m\u001b[1;33m(\u001b[0m\u001b[0mself\u001b[0m\u001b[1;33m,\u001b[0m \u001b[0mobj\u001b[0m\u001b[1;33m,\u001b[0m \u001b[0mval\u001b[0m\u001b[1;33m)\u001b[0m\u001b[1;33m\u001b[0m\u001b[1;33m\u001b[0m\u001b[0m\n\u001b[0m\u001b[0;32m    319\u001b[0m     \u001b[1;32mreturn\u001b[0m \u001b[0m_f\u001b[0m\u001b[1;33m\u001b[0m\u001b[1;33m\u001b[0m\u001b[0m\n\u001b[0;32m    320\u001b[0m \u001b[1;33m\u001b[0m\u001b[0m\n",
      "\u001b[1;32m~\\anaconda3\\envs\\pyvizenv\\lib\\site-packages\\param\\parameterized.py\u001b[0m in \u001b[0;36m__set__\u001b[1;34m(self, obj, val)\u001b[0m\n\u001b[0;32m    890\u001b[0m             \u001b[0mval\u001b[0m \u001b[1;33m=\u001b[0m \u001b[0mself\u001b[0m\u001b[1;33m.\u001b[0m\u001b[0mset_hook\u001b[0m\u001b[1;33m(\u001b[0m\u001b[0mobj\u001b[0m\u001b[1;33m,\u001b[0m\u001b[0mval\u001b[0m\u001b[1;33m)\u001b[0m\u001b[1;33m\u001b[0m\u001b[1;33m\u001b[0m\u001b[0m\n\u001b[0;32m    891\u001b[0m \u001b[1;33m\u001b[0m\u001b[0m\n\u001b[1;32m--> 892\u001b[1;33m         \u001b[0mself\u001b[0m\u001b[1;33m.\u001b[0m\u001b[0m_validate\u001b[0m\u001b[1;33m(\u001b[0m\u001b[0mval\u001b[0m\u001b[1;33m)\u001b[0m\u001b[1;33m\u001b[0m\u001b[1;33m\u001b[0m\u001b[0m\n\u001b[0m\u001b[0;32m    893\u001b[0m \u001b[1;33m\u001b[0m\u001b[0m\n\u001b[0;32m    894\u001b[0m         \u001b[0m_old\u001b[0m \u001b[1;33m=\u001b[0m \u001b[0mNotImplemented\u001b[0m\u001b[1;33m\u001b[0m\u001b[1;33m\u001b[0m\u001b[0m\n",
      "\u001b[1;32m~\\anaconda3\\envs\\pyvizenv\\lib\\site-packages\\param\\parameterized.py\u001b[0m in \u001b[0;36m_validate\u001b[1;34m(self, val)\u001b[0m\n\u001b[0;32m   1023\u001b[0m \u001b[1;33m\u001b[0m\u001b[0m\n\u001b[0;32m   1024\u001b[0m         \u001b[1;32mif\u001b[0m \u001b[1;32mnot\u001b[0m \u001b[0misinstance\u001b[0m\u001b[1;33m(\u001b[0m\u001b[0mval\u001b[0m\u001b[1;33m,\u001b[0m \u001b[0mbasestring\u001b[0m\u001b[1;33m)\u001b[0m\u001b[1;33m:\u001b[0m\u001b[1;33m\u001b[0m\u001b[1;33m\u001b[0m\u001b[0m\n\u001b[1;32m-> 1025\u001b[1;33m             \u001b[1;32mraise\u001b[0m \u001b[0mValueError\u001b[0m\u001b[1;33m(\u001b[0m\u001b[1;34m\"String '%s' only takes a string value.\"\u001b[0m\u001b[1;33m%\u001b[0m\u001b[0mself\u001b[0m\u001b[1;33m.\u001b[0m\u001b[0mname\u001b[0m\u001b[1;33m)\u001b[0m\u001b[1;33m\u001b[0m\u001b[1;33m\u001b[0m\u001b[0m\n\u001b[0m\u001b[0;32m   1026\u001b[0m \u001b[1;33m\u001b[0m\u001b[0m\n\u001b[0;32m   1027\u001b[0m         \u001b[1;32mif\u001b[0m \u001b[0mself\u001b[0m\u001b[1;33m.\u001b[0m\u001b[0mregex\u001b[0m \u001b[1;32mis\u001b[0m \u001b[1;32mnot\u001b[0m \u001b[1;32mNone\u001b[0m \u001b[1;32mand\u001b[0m \u001b[0mre\u001b[0m\u001b[1;33m.\u001b[0m\u001b[0mmatch\u001b[0m\u001b[1;33m(\u001b[0m\u001b[0mself\u001b[0m\u001b[1;33m.\u001b[0m\u001b[0mregex\u001b[0m\u001b[1;33m,\u001b[0m \u001b[0mval\u001b[0m\u001b[1;33m)\u001b[0m \u001b[1;32mis\u001b[0m \u001b[1;32mNone\u001b[0m\u001b[1;33m:\u001b[0m\u001b[1;33m\u001b[0m\u001b[1;33m\u001b[0m\u001b[0m\n",
      "\u001b[1;31mValueError\u001b[0m: String 'ylabel' only takes a string value."
     ]
    },
    {
     "data": {
      "text/plain": [
       ":Bars   [crypto]   (Circ_coins)"
      ]
     },
     "execution_count": 28,
     "metadata": {},
     "output_type": "execute_result"
    }
   ],
   "source": [
    "import hvplot.pandas\r\n",
    "df_circ_coins.hvplot.bar()    #ylabel= { 'Circ_coins': 'Coins in circulation'}"
   ]
  },
  {
   "cell_type": "markdown",
   "metadata": {},
   "source": [
    "## We will be forming 3 DFs from the data received\n",
    "\n",
    "1. df_cryp_prices: will have the currency codes as the index, columns as the crypto names, and will store the current prices\n",
    "\n",
    "2. df_cryp_change: will have the currency codes as the index, columns as the crypto names, and will store the changes over 24Hours. There will also be a col for Average change\n",
    "\n",
    "3. df_cryp_vol: will have the currency codes as the index, columns as the crypto names, and will store the volume over 24Hours. There will also be a col for Average volume"
   ]
  },
  {
   "cell_type": "code",
   "execution_count": 19,
   "metadata": {},
   "outputs": [],
   "source": [
    "crypto_names = df_gecko_data.columns.to_list()"
   ]
  },
  {
   "cell_type": "markdown",
   "metadata": {},
   "source": [
    "## Forming empty dataframes here"
   ]
  },
  {
   "cell_type": "code",
   "execution_count": 20,
   "metadata": {},
   "outputs": [
    {
     "data": {
      "text/plain": [
       "Index(['Curr', 'litecoin_vol', 'bitcoin_vol', 'ethereum_vol', 'ripple_vol',\n",
       "       'Score_vol'],\n",
       "      dtype='object')"
      ]
     },
     "execution_count": 20,
     "metadata": {},
     "output_type": "execute_result"
    }
   ],
   "source": [
    "df_cryp_prices = pd.DataFrame(columns= (['Curr'] + crypto_names)).set_index('Curr')\n",
    "\n",
    "cols_change =['Curr']\n",
    "for a in crypto_names: cols_change += [f'{a}_chg']\n",
    "cols_change += ['Score_chg']\n",
    "df_cryp_change = pd.DataFrame(columns=cols_change)\n",
    "\n",
    "cols_vol =['Curr']\n",
    "for a in crypto_names:  cols_vol += [f'{a}_vol']\n",
    "cols_vol += ['Score_vol']\n",
    "df_cryp_vol = pd.DataFrame(columns= cols_vol)\n",
    "df_cryp_vol.columns"
   ]
  },
  {
   "cell_type": "markdown",
   "metadata": {},
   "source": [
    "## Populating the dataframes"
   ]
  },
  {
   "cell_type": "code",
   "execution_count": 21,
   "metadata": {},
   "outputs": [],
   "source": [
    "row_2 = []\n",
    "for row in df_gecko_data.index:\n",
    "    \n",
    "    row_data = df_gecko_data.loc[row]\n",
    "    \n",
    "    if len(row) == 3:\n",
    "        df_cryp_prices = df_cryp_prices.append(row_data)\n",
    "        \n",
    "    elif '_24H_CHANGE' in row:\n",
    "        row_2 = [row[0:3]]\n",
    "        row_2.extend(row_data)\n",
    "        avg = np.average(row_data)\n",
    "        row_2.extend([np.average(row_data)])\n",
    "        \n",
    "        df_cryp_change = df_cryp_change.append(pd.Series(row_2, index= df_cryp_change.columns), ignore_index=True)\n",
    "        \n",
    "    elif '_24H_VOL' in row:\n",
    "        row_2 = [row[0:3]]\n",
    "        row_2.extend(row_data)\n",
    "        avg = np.average(row_data)\n",
    "        row_2.extend([np.average(row_data)])\n",
    "        \n",
    "        df_cryp_vol = df_cryp_vol.append(pd.Series(row_2, index= df_cryp_vol.columns), ignore_index=True)"
   ]
  },
  {
   "cell_type": "code",
   "execution_count": 22,
   "metadata": {},
   "outputs": [
    {
     "name": "stdout",
     "output_type": "stream",
     "text": [
      "      litecoin     bitcoin   ethereum     ripple\n",
      "Curr                                            \n",
      "AED     479.18   120041.00    8004.16   2.300000\n",
      "ARS   12515.64  3135312.00  209058.00  60.030000\n",
      "AUD     175.72    44019.00    2935.15   0.842857\n",
      "BDT   11091.05  2778433.00  185262.00  53.200000\n",
      "BHD      49.18    12319.84     821.47   0.235893\n",
      "      litecoin_chg  bitcoin_chg  ethereum_chg  ripple_chg  Score_chg\n",
      "Curr                                                                \n",
      "AED      -7.677664    -5.685176     -8.218512   -6.207155  -6.947127\n",
      "ARS      -7.657796    -5.664879     -8.198760   -6.186970  -6.927101\n",
      "AUD      -6.602996    -4.587314     -7.150139   -5.115369  -5.863954\n",
      "BDT      -7.601074    -5.606933     -8.142370   -6.129345  -6.869930\n",
      "BHD      -7.691132    -5.698935     -8.231901   -6.220838  -6.960702\n",
      "      litecoin_vol   bitcoin_vol  ethereum_vol    ripple_vol     Score_vol\n",
      "Curr                                                                      \n",
      "AED   8.058348e+09  9.506692e+10  8.302614e+10  7.883031e+09  4.850861e+10\n",
      "ARS   2.104737e+11  2.483026e+12  2.168536e+12  2.058947e+11  1.266983e+12\n",
      "AUD   2.955025e+09  3.486138e+10  3.044598e+10  2.890736e+09  1.778828e+10\n",
      "BDT   1.865164e+11  2.200394e+12  1.921701e+12  1.824586e+11  1.122768e+12\n",
      "BHD   8.270321e+08  9.756764e+09  8.521013e+09  8.090393e+08  4.978462e+09\n"
     ]
    }
   ],
   "source": [
    "df_cryp_change.set_index('Curr', inplace= True)\r\n",
    "df_cryp_vol.set_index('Curr', inplace= True)\r\n",
    "print(df_cryp_prices.head())\r\n",
    "print(df_cryp_change.head())\r\n",
    "print(df_cryp_vol.head())"
   ]
  },
  {
   "cell_type": "code",
   "execution_count": 23,
   "metadata": {},
   "outputs": [],
   "source": [
    "df_crypto_complete = pd.concat([df_cryp_prices, df_cryp_change, df_cryp_vol], axis='columns', join='inner')"
   ]
  },
  {
   "cell_type": "code",
   "execution_count": 24,
   "metadata": {},
   "outputs": [
    {
     "name": "stdout",
     "output_type": "stream",
     "text": [
      "         bitcoin   ethereum     ripple  litecoin  bitcoin_chg  ethereum_chg  \\\n",
      "Curr                                                                          \n",
      "AED    119996.00    8007.21   2.300000    480.42    -5.819597     -8.297467   \n",
      "ARS   3134503.00  209163.00  60.030000  12549.50    -5.783740     -8.262553   \n",
      "AUD     43959.00    2933.34   0.841897    176.00    -4.753843     -7.259753   \n",
      "BDT   2777386.00  185333.00  53.190000  11119.72    -5.741465     -8.221391   \n",
      "BHD     12315.59     821.81   0.235867     49.31    -5.830338     -8.307926   \n",
      "\n",
      "      ripple_chg  litecoin_chg  Score_chg   bitcoin_vol  ethereum_vol  \\\n",
      "Curr                                                                    \n",
      "AED    -6.410008     -7.521551  -7.012156  9.505628e+10  8.287117e+10   \n",
      "ARS    -6.374376     -7.486342  -6.976753  2.483043e+12  2.164746e+12   \n",
      "AUD    -5.350936     -6.475057  -5.959897  3.482267e+10  3.035881e+10   \n",
      "BDT    -6.332366     -7.444831  -6.935013  2.200148e+12  1.918115e+12   \n",
      "BHD    -6.420682     -7.532098  -7.022761  9.755982e+09  8.505378e+09   \n",
      "\n",
      "        ripple_vol  litecoin_vol     Score_vol  \n",
      "Curr                                            \n",
      "AED   7.881954e+09  8.069917e+09  4.846983e+10  \n",
      "ARS   2.058910e+11  2.108010e+11  1.266120e+12  \n",
      "AUD   2.887454e+09  2.956312e+09  1.775631e+10  \n",
      "BDT   1.824337e+11  1.867842e+11  1.121870e+12  \n",
      "BHD   8.089544e+08  8.282458e+08  4.974640e+09  \n"
     ]
    }
   ],
   "source": [
    "print(df_crypto_complete.head())"
   ]
  },
  {
   "cell_type": "markdown",
   "metadata": {},
   "source": [
    "## Forming the dataframe which can be sent for plotting"
   ]
  },
  {
   "cell_type": "code",
   "execution_count": 25,
   "metadata": {},
   "outputs": [
    {
     "data": {
      "text/html": [
       "<div>\n",
       "<style scoped>\n",
       "    .dataframe tbody tr th:only-of-type {\n",
       "        vertical-align: middle;\n",
       "    }\n",
       "\n",
       "    .dataframe tbody tr th {\n",
       "        vertical-align: top;\n",
       "    }\n",
       "\n",
       "    .dataframe thead th {\n",
       "        text-align: right;\n",
       "    }\n",
       "</style>\n",
       "<table border=\"1\" class=\"dataframe\">\n",
       "  <thead>\n",
       "    <tr style=\"text-align: right;\">\n",
       "      <th></th>\n",
       "      <th>Curr</th>\n",
       "      <th>bitcoin</th>\n",
       "      <th>ethereum</th>\n",
       "      <th>ripple</th>\n",
       "      <th>litecoin</th>\n",
       "      <th>Score_chg</th>\n",
       "      <th>Score_vol</th>\n",
       "    </tr>\n",
       "  </thead>\n",
       "  <tbody>\n",
       "  </tbody>\n",
       "</table>\n",
       "</div>"
      ],
      "text/plain": [
       "Empty DataFrame\n",
       "Columns: [Curr, bitcoin, ethereum, ripple, litecoin, Score_chg, Score_vol]\n",
       "Index: []"
      ]
     },
     "execution_count": 25,
     "metadata": {},
     "output_type": "execute_result"
    }
   ],
   "source": [
    "col_names_plotting = ['Curr'] + crypto_names + ['Score_chg', 'Score_vol']\n",
    "df_crypto_print = pd.DataFrame(columns= col_names_plotting)\n",
    "df_crypto_print"
   ]
  },
  {
   "cell_type": "code",
   "execution_count": 26,
   "metadata": {},
   "outputs": [],
   "source": [
    "# Maybe we can use u'\\u2191' in the price text to display up-arrow and u'\\u2193' for down arrow\r\n",
    "\r\n",
    "for row in df_crypto_complete.index:\r\n",
    "    \r\n",
    "    row_print = [row]\r\n",
    "    \r\n",
    "    for name in crypto_names:\r\n",
    "        \r\n",
    "        col_name = name\r\n",
    "        \r\n",
    "        price_val = df_crypto_complete.loc[row][col_name]\r\n",
    "        \r\n",
    "        change_val = df_crypto_complete.loc[row][f'{col_name}_chg']\r\n",
    "        \r\n",
    "        vol_val = df_crypto_complete.loc[row][f'{col_name}_vol']\r\n",
    "        \r\n",
    "        price = \"Price:  {:,.2f}\".format(price_val) + \", Change: {:,.2f}\".format(change_val) + \", Volume: {:,.2f}\".format(vol_val)\r\n",
    "        \r\n",
    "        row_print += [price]\r\n",
    "        # print(type(vol_val))\r\n",
    "        \r\n",
    "        \r\n",
    "    row_print += [df_crypto_complete.loc[row]['Score_chg']] + [df_crypto_complete.loc[row]['Score_vol']] \r\n",
    "#     print(row_print)\r\n",
    "    df_crypto_print = df_crypto_print.append(pd.Series(row_print, index= df_crypto_print.columns), ignore_index=True)"
   ]
  },
  {
   "cell_type": "code",
   "execution_count": 27,
   "metadata": {},
   "outputs": [],
   "source": [
    "df_crypto_print.set_index('Curr', inplace= True)"
   ]
  },
  {
   "cell_type": "code",
   "execution_count": 28,
   "metadata": {},
   "outputs": [
    {
     "name": "stdout",
     "output_type": "stream",
     "text": [
      "                                                bitcoin  \\\n",
      "Curr                                                      \n",
      "AED   Price:  119,996.00, Change: -5.82, Volume: 95,...   \n",
      "ARS   Price:  3,134,503.00, Change: -5.78, Volume: 2...   \n",
      "AUD   Price:  43,959.00, Change: -4.75, Volume: 34,8...   \n",
      "BDT   Price:  2,777,386.00, Change: -5.74, Volume: 2...   \n",
      "BHD   Price:  12,315.59, Change: -5.83, Volume: 9,75...   \n",
      "\n",
      "                                               ethereum  \\\n",
      "Curr                                                      \n",
      "AED   Price:  8,007.21, Change: -8.30, Volume: 82,87...   \n",
      "ARS   Price:  209,163.00, Change: -8.26, Volume: 2,1...   \n",
      "AUD   Price:  2,933.34, Change: -7.26, Volume: 30,35...   \n",
      "BDT   Price:  185,333.00, Change: -8.22, Volume: 1,9...   \n",
      "BHD   Price:  821.81, Change: -8.31, Volume: 8,505,3...   \n",
      "\n",
      "                                                 ripple  \\\n",
      "Curr                                                      \n",
      "AED   Price:  2.30, Change: -6.41, Volume: 7,881,953...   \n",
      "ARS   Price:  60.03, Change: -6.37, Volume: 205,891,...   \n",
      "AUD   Price:  0.84, Change: -5.35, Volume: 2,887,454...   \n",
      "BDT   Price:  53.19, Change: -6.33, Volume: 182,433,...   \n",
      "BHD   Price:  0.24, Change: -6.42, Volume: 808,954,4...   \n",
      "\n",
      "                                               litecoin  Score_chg  \\\n",
      "Curr                                                                 \n",
      "AED   Price:  480.42, Change: -7.52, Volume: 8,069,9...  -7.012156   \n",
      "ARS   Price:  12,549.50, Change: -7.49, Volume: 210,...  -6.976753   \n",
      "AUD   Price:  176.00, Change: -6.48, Volume: 2,956,3...  -5.959897   \n",
      "BDT   Price:  11,119.72, Change: -7.44, Volume: 186,...  -6.935013   \n",
      "BHD   Price:  49.31, Change: -7.53, Volume: 828,245,...  -7.022761   \n",
      "\n",
      "         Score_vol  \n",
      "Curr                \n",
      "AED   4.846983e+10  \n",
      "ARS   1.266120e+12  \n",
      "AUD   1.775631e+10  \n",
      "BDT   1.121870e+12  \n",
      "BHD   4.974640e+09  \n"
     ]
    }
   ],
   "source": [
    "print(df_crypto_print.head())"
   ]
  },
  {
   "cell_type": "code",
   "execution_count": 29,
   "metadata": {},
   "outputs": [],
   "source": [
    "df_plot = df_country_data.merge(df_crypto_print, left_on='Curr_code', right_index=True, how='inner')"
   ]
  },
  {
   "cell_type": "code",
   "execution_count": 30,
   "metadata": {},
   "outputs": [
    {
     "data": {
      "text/html": [
       "<div>\n",
       "<style scoped>\n",
       "    .dataframe tbody tr th:only-of-type {\n",
       "        vertical-align: middle;\n",
       "    }\n",
       "\n",
       "    .dataframe tbody tr th {\n",
       "        vertical-align: top;\n",
       "    }\n",
       "\n",
       "    .dataframe thead th {\n",
       "        text-align: right;\n",
       "    }\n",
       "</style>\n",
       "<table border=\"1\" class=\"dataframe\">\n",
       "  <thead>\n",
       "    <tr style=\"text-align: right;\">\n",
       "      <th></th>\n",
       "      <th>CountryName</th>\n",
       "      <th>CapitalName</th>\n",
       "      <th>CapitalLatitude</th>\n",
       "      <th>CapitalLongitude</th>\n",
       "      <th>ContinentName</th>\n",
       "      <th>Curr_code</th>\n",
       "      <th>bitcoin</th>\n",
       "      <th>ethereum</th>\n",
       "      <th>ripple</th>\n",
       "      <th>litecoin</th>\n",
       "      <th>Score_chg</th>\n",
       "      <th>Score_vol</th>\n",
       "    </tr>\n",
       "  </thead>\n",
       "  <tbody>\n",
       "    <tr>\n",
       "      <th>GS</th>\n",
       "      <td>South Georgia and South Sandwich Islands</td>\n",
       "      <td>King Edward Point</td>\n",
       "      <td>-54.283333</td>\n",
       "      <td>-36.500000</td>\n",
       "      <td>Antarctica</td>\n",
       "      <td>GBP</td>\n",
       "      <td>Price:  23,709.00, Change: -5.60, Volume: 18,7...</td>\n",
       "      <td>Price:  1,582.09, Change: -8.08, Volume: 16,37...</td>\n",
       "      <td>Price:  0.45, Change: -6.19, Volume: 1,557,340...</td>\n",
       "      <td>Price:  94.92, Change: -7.31, Volume: 1,594,47...</td>\n",
       "      <td>-6.794592</td>\n",
       "      <td>9.576815e+09</td>\n",
       "    </tr>\n",
       "    <tr>\n",
       "      <th>GG</th>\n",
       "      <td>Guernsey</td>\n",
       "      <td>Saint Peter Port</td>\n",
       "      <td>49.450000</td>\n",
       "      <td>-2.533333</td>\n",
       "      <td>Europe</td>\n",
       "      <td>GBP</td>\n",
       "      <td>Price:  23,709.00, Change: -5.60, Volume: 18,7...</td>\n",
       "      <td>Price:  1,582.09, Change: -8.08, Volume: 16,37...</td>\n",
       "      <td>Price:  0.45, Change: -6.19, Volume: 1,557,340...</td>\n",
       "      <td>Price:  94.92, Change: -7.31, Volume: 1,594,47...</td>\n",
       "      <td>-6.794592</td>\n",
       "      <td>9.576815e+09</td>\n",
       "    </tr>\n",
       "    <tr>\n",
       "      <th>IM</th>\n",
       "      <td>Isle of Man</td>\n",
       "      <td>Douglas</td>\n",
       "      <td>54.150000</td>\n",
       "      <td>-4.483333</td>\n",
       "      <td>Europe</td>\n",
       "      <td>GBP</td>\n",
       "      <td>Price:  23,709.00, Change: -5.60, Volume: 18,7...</td>\n",
       "      <td>Price:  1,582.09, Change: -8.08, Volume: 16,37...</td>\n",
       "      <td>Price:  0.45, Change: -6.19, Volume: 1,557,340...</td>\n",
       "      <td>Price:  94.92, Change: -7.31, Volume: 1,594,47...</td>\n",
       "      <td>-6.794592</td>\n",
       "      <td>9.576815e+09</td>\n",
       "    </tr>\n",
       "    <tr>\n",
       "      <th>JE</th>\n",
       "      <td>Jersey</td>\n",
       "      <td>Saint Helier</td>\n",
       "      <td>49.183333</td>\n",
       "      <td>-2.100000</td>\n",
       "      <td>Europe</td>\n",
       "      <td>GBP</td>\n",
       "      <td>Price:  23,709.00, Change: -5.60, Volume: 18,7...</td>\n",
       "      <td>Price:  1,582.09, Change: -8.08, Volume: 16,37...</td>\n",
       "      <td>Price:  0.45, Change: -6.19, Volume: 1,557,340...</td>\n",
       "      <td>Price:  94.92, Change: -7.31, Volume: 1,594,47...</td>\n",
       "      <td>-6.794592</td>\n",
       "      <td>9.576815e+09</td>\n",
       "    </tr>\n",
       "    <tr>\n",
       "      <th>GB</th>\n",
       "      <td>United Kingdom</td>\n",
       "      <td>London</td>\n",
       "      <td>51.500000</td>\n",
       "      <td>-0.083333</td>\n",
       "      <td>Europe</td>\n",
       "      <td>GBP</td>\n",
       "      <td>Price:  23,709.00, Change: -5.60, Volume: 18,7...</td>\n",
       "      <td>Price:  1,582.09, Change: -8.08, Volume: 16,37...</td>\n",
       "      <td>Price:  0.45, Change: -6.19, Volume: 1,557,340...</td>\n",
       "      <td>Price:  94.92, Change: -7.31, Volume: 1,594,47...</td>\n",
       "      <td>-6.794592</td>\n",
       "      <td>9.576815e+09</td>\n",
       "    </tr>\n",
       "  </tbody>\n",
       "</table>\n",
       "</div>"
      ],
      "text/plain": [
       "                                 CountryName        CapitalName  \\\n",
       "GS  South Georgia and South Sandwich Islands  King Edward Point   \n",
       "GG                                  Guernsey   Saint Peter Port   \n",
       "IM                               Isle of Man            Douglas   \n",
       "JE                                    Jersey       Saint Helier   \n",
       "GB                            United Kingdom             London   \n",
       "\n",
       "    CapitalLatitude  CapitalLongitude ContinentName Curr_code  \\\n",
       "GS       -54.283333        -36.500000    Antarctica       GBP   \n",
       "GG        49.450000         -2.533333        Europe       GBP   \n",
       "IM        54.150000         -4.483333        Europe       GBP   \n",
       "JE        49.183333         -2.100000        Europe       GBP   \n",
       "GB        51.500000         -0.083333        Europe       GBP   \n",
       "\n",
       "                                              bitcoin  \\\n",
       "GS  Price:  23,709.00, Change: -5.60, Volume: 18,7...   \n",
       "GG  Price:  23,709.00, Change: -5.60, Volume: 18,7...   \n",
       "IM  Price:  23,709.00, Change: -5.60, Volume: 18,7...   \n",
       "JE  Price:  23,709.00, Change: -5.60, Volume: 18,7...   \n",
       "GB  Price:  23,709.00, Change: -5.60, Volume: 18,7...   \n",
       "\n",
       "                                             ethereum  \\\n",
       "GS  Price:  1,582.09, Change: -8.08, Volume: 16,37...   \n",
       "GG  Price:  1,582.09, Change: -8.08, Volume: 16,37...   \n",
       "IM  Price:  1,582.09, Change: -8.08, Volume: 16,37...   \n",
       "JE  Price:  1,582.09, Change: -8.08, Volume: 16,37...   \n",
       "GB  Price:  1,582.09, Change: -8.08, Volume: 16,37...   \n",
       "\n",
       "                                               ripple  \\\n",
       "GS  Price:  0.45, Change: -6.19, Volume: 1,557,340...   \n",
       "GG  Price:  0.45, Change: -6.19, Volume: 1,557,340...   \n",
       "IM  Price:  0.45, Change: -6.19, Volume: 1,557,340...   \n",
       "JE  Price:  0.45, Change: -6.19, Volume: 1,557,340...   \n",
       "GB  Price:  0.45, Change: -6.19, Volume: 1,557,340...   \n",
       "\n",
       "                                             litecoin  Score_chg     Score_vol  \n",
       "GS  Price:  94.92, Change: -7.31, Volume: 1,594,47...  -6.794592  9.576815e+09  \n",
       "GG  Price:  94.92, Change: -7.31, Volume: 1,594,47...  -6.794592  9.576815e+09  \n",
       "IM  Price:  94.92, Change: -7.31, Volume: 1,594,47...  -6.794592  9.576815e+09  \n",
       "JE  Price:  94.92, Change: -7.31, Volume: 1,594,47...  -6.794592  9.576815e+09  \n",
       "GB  Price:  94.92, Change: -7.31, Volume: 1,594,47...  -6.794592  9.576815e+09  "
      ]
     },
     "execution_count": 30,
     "metadata": {},
     "output_type": "execute_result"
    }
   ],
   "source": [
    "df_plot.head()"
   ]
  },
  {
   "cell_type": "code",
   "execution_count": 31,
   "metadata": {},
   "outputs": [
    {
     "data": {
      "application/vnd.plotly.v1+json": {
       "config": {
        "plotlyServerURL": "https://plot.ly"
       },
       "data": [
        {
         "customdata": [
          [
           "Antarctica",
           "South Georgia and South Sandwich Islands",
           -54.283333,
           -36.5,
           "GBP",
           "Price:  0.45, Change: -6.19, Volume: 1,557,340,078.28",
           "Price:  23,709.00, Change: -5.60, Volume: 18,781,505,503.96",
           "Price:  94.92, Change: -7.31, Volume: 1,594,478,411.41",
           "Price:  1,582.09, Change: -8.08, Volume: 16,373,934,089.15"
          ],
          [
           "Europe",
           "Guernsey",
           49.45,
           -2.5333330000000003,
           "GBP",
           "Price:  0.45, Change: -6.19, Volume: 1,557,340,078.28",
           "Price:  23,709.00, Change: -5.60, Volume: 18,781,505,503.96",
           "Price:  94.92, Change: -7.31, Volume: 1,594,478,411.41",
           "Price:  1,582.09, Change: -8.08, Volume: 16,373,934,089.15"
          ],
          [
           "Europe",
           "Isle of Man",
           54.15,
           -4.483333,
           "GBP",
           "Price:  0.45, Change: -6.19, Volume: 1,557,340,078.28",
           "Price:  23,709.00, Change: -5.60, Volume: 18,781,505,503.96",
           "Price:  94.92, Change: -7.31, Volume: 1,594,478,411.41",
           "Price:  1,582.09, Change: -8.08, Volume: 16,373,934,089.15"
          ],
          [
           "Europe",
           "Jersey",
           49.18333333,
           -2.1,
           "GBP",
           "Price:  0.45, Change: -6.19, Volume: 1,557,340,078.28",
           "Price:  23,709.00, Change: -5.60, Volume: 18,781,505,503.96",
           "Price:  94.92, Change: -7.31, Volume: 1,594,478,411.41",
           "Price:  1,582.09, Change: -8.08, Volume: 16,373,934,089.15"
          ],
          [
           "Europe",
           "United Kingdom",
           51.5,
           -0.083333,
           "GBP",
           "Price:  0.45, Change: -6.19, Volume: 1,557,340,078.28",
           "Price:  23,709.00, Change: -5.60, Volume: 18,781,505,503.96",
           "Price:  94.92, Change: -7.31, Volume: 1,594,478,411.41",
           "Price:  1,582.09, Change: -8.08, Volume: 16,373,934,089.15"
          ],
          [
           "Antarctica",
           "French Southern and Antarctic Lands",
           -49.35,
           70.216667,
           "EUR",
           "Price:  0.53, Change: -6.47, Volume: 1,812,956,478.16",
           "Price:  27,601.00, Change: -5.88, Volume: 21,864,236,686.57",
           "Price:  110.50, Change: -7.58, Volume: 1,856,190,568.50",
           "Price:  1,841.77, Change: -8.36, Volume: 19,061,494,848.75"
          ],
          [
           "Europe",
           "Aland Islands",
           60.11666700000001,
           19.9,
           "EUR",
           "Price:  0.53, Change: -6.47, Volume: 1,812,956,478.16",
           "Price:  27,601.00, Change: -5.88, Volume: 21,864,236,686.57",
           "Price:  110.50, Change: -7.58, Volume: 1,856,190,568.50",
           "Price:  1,841.77, Change: -8.36, Volume: 19,061,494,848.75"
          ],
          [
           "North America",
           "Saint Martin",
           18.0731,
           -63.0822,
           "EUR",
           "Price:  0.53, Change: -6.47, Volume: 1,812,956,478.16",
           "Price:  27,601.00, Change: -5.88, Volume: 21,864,236,686.57",
           "Price:  110.50, Change: -7.58, Volume: 1,856,190,568.50",
           "Price:  1,841.77, Change: -8.36, Volume: 19,061,494,848.75"
          ],
          [
           "Europe",
           "Andorra",
           42.5,
           1.516667,
           "EUR",
           "Price:  0.53, Change: -6.47, Volume: 1,812,956,478.16",
           "Price:  27,601.00, Change: -5.88, Volume: 21,864,236,686.57",
           "Price:  110.50, Change: -7.58, Volume: 1,856,190,568.50",
           "Price:  1,841.77, Change: -8.36, Volume: 19,061,494,848.75"
          ],
          [
           "Europe",
           "Austria",
           48.2,
           16.366667,
           "EUR",
           "Price:  0.53, Change: -6.47, Volume: 1,812,956,478.16",
           "Price:  27,601.00, Change: -5.88, Volume: 21,864,236,686.57",
           "Price:  110.50, Change: -7.58, Volume: 1,856,190,568.50",
           "Price:  1,841.77, Change: -8.36, Volume: 19,061,494,848.75"
          ],
          [
           "Europe",
           "Belgium",
           50.83333333,
           4.3333330000000005,
           "EUR",
           "Price:  0.53, Change: -6.47, Volume: 1,812,956,478.16",
           "Price:  27,601.00, Change: -5.88, Volume: 21,864,236,686.57",
           "Price:  110.50, Change: -7.58, Volume: 1,856,190,568.50",
           "Price:  1,841.77, Change: -8.36, Volume: 19,061,494,848.75"
          ],
          [
           "Europe",
           "Cyprus",
           35.16666667,
           33.366667,
           "EUR",
           "Price:  0.53, Change: -6.47, Volume: 1,812,956,478.16",
           "Price:  27,601.00, Change: -5.88, Volume: 21,864,236,686.57",
           "Price:  110.50, Change: -7.58, Volume: 1,856,190,568.50",
           "Price:  1,841.77, Change: -8.36, Volume: 19,061,494,848.75"
          ],
          [
           "Europe",
           "Estonia",
           59.43333333,
           24.716667,
           "EUR",
           "Price:  0.53, Change: -6.47, Volume: 1,812,956,478.16",
           "Price:  27,601.00, Change: -5.88, Volume: 21,864,236,686.57",
           "Price:  110.50, Change: -7.58, Volume: 1,856,190,568.50",
           "Price:  1,841.77, Change: -8.36, Volume: 19,061,494,848.75"
          ],
          [
           "Europe",
           "Finland",
           60.16666667,
           24.933332999999998,
           "EUR",
           "Price:  0.53, Change: -6.47, Volume: 1,812,956,478.16",
           "Price:  27,601.00, Change: -5.88, Volume: 21,864,236,686.57",
           "Price:  110.50, Change: -7.58, Volume: 1,856,190,568.50",
           "Price:  1,841.77, Change: -8.36, Volume: 19,061,494,848.75"
          ],
          [
           "Europe",
           "France",
           48.86666667,
           2.333333,
           "EUR",
           "Price:  0.53, Change: -6.47, Volume: 1,812,956,478.16",
           "Price:  27,601.00, Change: -5.88, Volume: 21,864,236,686.57",
           "Price:  110.50, Change: -7.58, Volume: 1,856,190,568.50",
           "Price:  1,841.77, Change: -8.36, Volume: 19,061,494,848.75"
          ],
          [
           "Europe",
           "Germany",
           52.51666667,
           13.4,
           "EUR",
           "Price:  0.53, Change: -6.47, Volume: 1,812,956,478.16",
           "Price:  27,601.00, Change: -5.88, Volume: 21,864,236,686.57",
           "Price:  110.50, Change: -7.58, Volume: 1,856,190,568.50",
           "Price:  1,841.77, Change: -8.36, Volume: 19,061,494,848.75"
          ],
          [
           "Europe",
           "Greece",
           37.98333333,
           23.733333,
           "EUR",
           "Price:  0.53, Change: -6.47, Volume: 1,812,956,478.16",
           "Price:  27,601.00, Change: -5.88, Volume: 21,864,236,686.57",
           "Price:  110.50, Change: -7.58, Volume: 1,856,190,568.50",
           "Price:  1,841.77, Change: -8.36, Volume: 19,061,494,848.75"
          ],
          [
           "Europe",
           "Vatican City",
           41.9,
           12.45,
           "EUR",
           "Price:  0.53, Change: -6.47, Volume: 1,812,956,478.16",
           "Price:  27,601.00, Change: -5.88, Volume: 21,864,236,686.57",
           "Price:  110.50, Change: -7.58, Volume: 1,856,190,568.50",
           "Price:  1,841.77, Change: -8.36, Volume: 19,061,494,848.75"
          ],
          [
           "Europe",
           "Ireland",
           53.31666667,
           -6.233333,
           "EUR",
           "Price:  0.53, Change: -6.47, Volume: 1,812,956,478.16",
           "Price:  27,601.00, Change: -5.88, Volume: 21,864,236,686.57",
           "Price:  110.50, Change: -7.58, Volume: 1,856,190,568.50",
           "Price:  1,841.77, Change: -8.36, Volume: 19,061,494,848.75"
          ],
          [
           "Europe",
           "Italy",
           41.9,
           12.483333,
           "EUR",
           "Price:  0.53, Change: -6.47, Volume: 1,812,956,478.16",
           "Price:  27,601.00, Change: -5.88, Volume: 21,864,236,686.57",
           "Price:  110.50, Change: -7.58, Volume: 1,856,190,568.50",
           "Price:  1,841.77, Change: -8.36, Volume: 19,061,494,848.75"
          ],
          [
           "Europe",
           "Latvia",
           56.95,
           24.1,
           "EUR",
           "Price:  0.53, Change: -6.47, Volume: 1,812,956,478.16",
           "Price:  27,601.00, Change: -5.88, Volume: 21,864,236,686.57",
           "Price:  110.50, Change: -7.58, Volume: 1,856,190,568.50",
           "Price:  1,841.77, Change: -8.36, Volume: 19,061,494,848.75"
          ],
          [
           "Europe",
           "Luxembourg",
           49.6,
           6.116667,
           "EUR",
           "Price:  0.53, Change: -6.47, Volume: 1,812,956,478.16",
           "Price:  27,601.00, Change: -5.88, Volume: 21,864,236,686.57",
           "Price:  110.50, Change: -7.58, Volume: 1,856,190,568.50",
           "Price:  1,841.77, Change: -8.36, Volume: 19,061,494,848.75"
          ],
          [
           "Europe",
           "Malta",
           35.88333333,
           14.5,
           "EUR",
           "Price:  0.53, Change: -6.47, Volume: 1,812,956,478.16",
           "Price:  27,601.00, Change: -5.88, Volume: 21,864,236,686.57",
           "Price:  110.50, Change: -7.58, Volume: 1,856,190,568.50",
           "Price:  1,841.77, Change: -8.36, Volume: 19,061,494,848.75"
          ],
          [
           "Europe",
           "Monaco",
           43.73333333,
           7.4166669999999995,
           "EUR",
           "Price:  0.53, Change: -6.47, Volume: 1,812,956,478.16",
           "Price:  27,601.00, Change: -5.88, Volume: 21,864,236,686.57",
           "Price:  110.50, Change: -7.58, Volume: 1,856,190,568.50",
           "Price:  1,841.77, Change: -8.36, Volume: 19,061,494,848.75"
          ],
          [
           "Europe",
           "Montenegro",
           42.43333333,
           19.266667,
           "EUR",
           "Price:  0.53, Change: -6.47, Volume: 1,812,956,478.16",
           "Price:  27,601.00, Change: -5.88, Volume: 21,864,236,686.57",
           "Price:  110.50, Change: -7.58, Volume: 1,856,190,568.50",
           "Price:  1,841.77, Change: -8.36, Volume: 19,061,494,848.75"
          ],
          [
           "Europe",
           "Netherlands",
           52.35,
           4.9166669999999995,
           "EUR",
           "Price:  0.53, Change: -6.47, Volume: 1,812,956,478.16",
           "Price:  27,601.00, Change: -5.88, Volume: 21,864,236,686.57",
           "Price:  110.50, Change: -7.58, Volume: 1,856,190,568.50",
           "Price:  1,841.77, Change: -8.36, Volume: 19,061,494,848.75"
          ],
          [
           "Europe",
           "Portugal",
           38.71666667,
           -9.133333,
           "EUR",
           "Price:  0.53, Change: -6.47, Volume: 1,812,956,478.16",
           "Price:  27,601.00, Change: -5.88, Volume: 21,864,236,686.57",
           "Price:  110.50, Change: -7.58, Volume: 1,856,190,568.50",
           "Price:  1,841.77, Change: -8.36, Volume: 19,061,494,848.75"
          ],
          [
           "North America",
           "Saint Barthelemy",
           17.88333333,
           -62.85,
           "EUR",
           "Price:  0.53, Change: -6.47, Volume: 1,812,956,478.16",
           "Price:  27,601.00, Change: -5.88, Volume: 21,864,236,686.57",
           "Price:  110.50, Change: -7.58, Volume: 1,856,190,568.50",
           "Price:  1,841.77, Change: -8.36, Volume: 19,061,494,848.75"
          ],
          [
           "Central America",
           "Saint Pierre and Miquelon",
           46.76666667,
           -56.183333,
           "EUR",
           "Price:  0.53, Change: -6.47, Volume: 1,812,956,478.16",
           "Price:  27,601.00, Change: -5.88, Volume: 21,864,236,686.57",
           "Price:  110.50, Change: -7.58, Volume: 1,856,190,568.50",
           "Price:  1,841.77, Change: -8.36, Volume: 19,061,494,848.75"
          ],
          [
           "Europe",
           "San Marino",
           43.93333333,
           12.416667,
           "EUR",
           "Price:  0.53, Change: -6.47, Volume: 1,812,956,478.16",
           "Price:  27,601.00, Change: -5.88, Volume: 21,864,236,686.57",
           "Price:  110.50, Change: -7.58, Volume: 1,856,190,568.50",
           "Price:  1,841.77, Change: -8.36, Volume: 19,061,494,848.75"
          ],
          [
           "Europe",
           "Slovakia",
           48.15,
           17.116667,
           "EUR",
           "Price:  0.53, Change: -6.47, Volume: 1,812,956,478.16",
           "Price:  27,601.00, Change: -5.88, Volume: 21,864,236,686.57",
           "Price:  110.50, Change: -7.58, Volume: 1,856,190,568.50",
           "Price:  1,841.77, Change: -8.36, Volume: 19,061,494,848.75"
          ],
          [
           "Europe",
           "Slovenia",
           46.05,
           14.516667000000002,
           "EUR",
           "Price:  0.53, Change: -6.47, Volume: 1,812,956,478.16",
           "Price:  27,601.00, Change: -5.88, Volume: 21,864,236,686.57",
           "Price:  110.50, Change: -7.58, Volume: 1,856,190,568.50",
           "Price:  1,841.77, Change: -8.36, Volume: 19,061,494,848.75"
          ],
          [
           "Europe",
           "Spain",
           40.4,
           -3.683333,
           "EUR",
           "Price:  0.53, Change: -6.47, Volume: 1,812,956,478.16",
           "Price:  27,601.00, Change: -5.88, Volume: 21,864,236,686.57",
           "Price:  110.50, Change: -7.58, Volume: 1,856,190,568.50",
           "Price:  1,841.77, Change: -8.36, Volume: 19,061,494,848.75"
          ],
          [
           "Asia",
           "Palestine",
           31.76666667,
           35.233333,
           "ILS",
           "Price:  2.05, Change: -6.30, Volume: 7,033,911,306.20",
           "Price:  107,085.00, Change: -5.71, Volume: 84,828,898,809.12",
           "Price:  428.73, Change: -7.41, Volume: 7,201,650,995.77",
           "Price:  7,145.69, Change: -8.19, Volume: 73,954,816,756.45"
          ],
          [
           "Asia",
           "Israel",
           31.76666667,
           35.233333,
           "ILS",
           "Price:  2.05, Change: -6.30, Volume: 7,033,911,306.20",
           "Price:  107,085.00, Change: -5.71, Volume: 84,828,898,809.12",
           "Price:  428.73, Change: -7.41, Volume: 7,201,650,995.77",
           "Price:  7,145.69, Change: -8.19, Volume: 73,954,816,756.45"
          ],
          [
           "Australia",
           "Nauru",
           -0.5477,
           166.920867,
           "AUD",
           "Price:  0.84, Change: -5.35, Volume: 2,887,454,372.38",
           "Price:  43,959.00, Change: -4.75, Volume: 34,822,670,361.89",
           "Price:  176.00, Change: -6.48, Volume: 2,956,312,320.54",
           "Price:  2,933.34, Change: -7.26, Volume: 30,358,807,455.21"
          ],
          [
           "Australia",
           "Australia",
           -35.26666667,
           149.133333,
           "AUD",
           "Price:  0.84, Change: -5.35, Volume: 2,887,454,372.38",
           "Price:  43,959.00, Change: -4.75, Volume: 34,822,670,361.89",
           "Price:  176.00, Change: -6.48, Volume: 2,956,312,320.54",
           "Price:  2,933.34, Change: -7.26, Volume: 30,358,807,455.21"
          ],
          [
           "Australia",
           "Christmas Island",
           -10.41666667,
           105.71666699999999,
           "AUD",
           "Price:  0.84, Change: -5.35, Volume: 2,887,454,372.38",
           "Price:  43,959.00, Change: -4.75, Volume: 34,822,670,361.89",
           "Price:  176.00, Change: -6.48, Volume: 2,956,312,320.54",
           "Price:  2,933.34, Change: -7.26, Volume: 30,358,807,455.21"
          ],
          [
           "Australia",
           "Cocos Islands",
           -12.16666667,
           96.833333,
           "AUD",
           "Price:  0.84, Change: -5.35, Volume: 2,887,454,372.38",
           "Price:  43,959.00, Change: -4.75, Volume: 34,822,670,361.89",
           "Price:  176.00, Change: -6.48, Volume: 2,956,312,320.54",
           "Price:  2,933.34, Change: -7.26, Volume: 30,358,807,455.21"
          ],
          [
           "Australia",
           "Kiribati",
           -0.8833333329999999,
           169.533333,
           "AUD",
           "Price:  0.84, Change: -5.35, Volume: 2,887,454,372.38",
           "Price:  43,959.00, Change: -4.75, Volume: 34,822,670,361.89",
           "Price:  176.00, Change: -6.48, Volume: 2,956,312,320.54",
           "Price:  2,933.34, Change: -7.26, Volume: 30,358,807,455.21"
          ],
          [
           "Australia",
           "Norfolk Island",
           -29.05,
           167.966667,
           "AUD",
           "Price:  0.84, Change: -5.35, Volume: 2,887,454,372.38",
           "Price:  43,959.00, Change: -4.75, Volume: 34,822,670,361.89",
           "Price:  176.00, Change: -6.48, Volume: 2,956,312,320.54",
           "Price:  2,933.34, Change: -7.26, Volume: 30,358,807,455.21"
          ],
          [
           "Australia",
           "Tuvalu",
           -8.516666667,
           179.216667,
           "AUD",
           "Price:  0.84, Change: -5.35, Volume: 2,887,454,372.38",
           "Price:  43,959.00, Change: -4.75, Volume: 34,822,670,361.89",
           "Price:  176.00, Change: -6.48, Volume: 2,956,312,320.54",
           "Price:  2,933.34, Change: -7.26, Volume: 30,358,807,455.21"
          ],
          [
           "Australia",
           "Tokelau",
           -9.166667,
           -171.833333,
           "NZD",
           "Price:  0.90, Change: -5.50, Volume: 3,081,459,058.93",
           "Price:  46,912.00, Change: -4.90, Volume: 37,162,364,908.39",
           "Price:  187.82, Change: -6.62, Volume: 3,154,943,492.19",
           "Price:  3,130.43, Change: -7.40, Volume: 32,398,580,267.09"
          ],
          [
           "Australia",
           "Cook Islands",
           -21.2,
           -159.76666699999998,
           "NZD",
           "Price:  0.90, Change: -5.50, Volume: 3,081,459,058.93",
           "Price:  46,912.00, Change: -4.90, Volume: 37,162,364,908.39",
           "Price:  187.82, Change: -6.62, Volume: 3,154,943,492.19",
           "Price:  3,130.43, Change: -7.40, Volume: 32,398,580,267.09"
          ],
          [
           "Australia",
           "New Zealand",
           -41.3,
           174.783333,
           "NZD",
           "Price:  0.90, Change: -5.50, Volume: 3,081,459,058.93",
           "Price:  46,912.00, Change: -4.90, Volume: 37,162,364,908.39",
           "Price:  187.82, Change: -6.62, Volume: 3,154,943,492.19",
           "Price:  3,130.43, Change: -7.40, Volume: 32,398,580,267.09"
          ],
          [
           "Australia",
           "Niue",
           -19.01666667,
           -169.916667,
           "NZD",
           "Price:  0.90, Change: -5.50, Volume: 3,081,459,058.93",
           "Price:  46,912.00, Change: -4.90, Volume: 37,162,364,908.39",
           "Price:  187.82, Change: -6.62, Volume: 3,154,943,492.19",
           "Price:  3,130.43, Change: -7.40, Volume: 32,398,580,267.09"
          ],
          [
           "Australia",
           "Pitcairn Islands",
           -25.06666667,
           -130.083333,
           "NZD",
           "Price:  0.90, Change: -5.50, Volume: 3,081,459,058.93",
           "Price:  46,912.00, Change: -4.90, Volume: 37,162,364,908.39",
           "Price:  187.82, Change: -6.62, Volume: 3,154,943,492.19",
           "Price:  3,130.43, Change: -7.40, Volume: 32,398,580,267.09"
          ],
          [
           "Australia",
           "American Samoa",
           -14.26666667,
           -170.7,
           "USD",
           "Price:  0.63, Change: -6.41, Volume: 2,145,927,112.67",
           "Price:  32,670.00, Change: -5.82, Volume: 25,879,859,152.04",
           "Price:  130.80, Change: -7.52, Volume: 2,197,101,648.72",
           "Price:  2,180.03, Change: -8.30, Volume: 22,562,361,036.64"
          ],
          [
           "North America",
           "British Virgin Islands",
           18.41666667,
           -64.616667,
           "USD",
           "Price:  0.63, Change: -6.41, Volume: 2,145,927,112.67",
           "Price:  32,670.00, Change: -5.82, Volume: 25,879,859,152.04",
           "Price:  130.80, Change: -7.52, Volume: 2,197,101,648.72",
           "Price:  2,180.03, Change: -8.30, Volume: 22,562,361,036.64"
          ],
          [
           "South America",
           "Ecuador",
           -0.21666666699999998,
           -78.5,
           "USD",
           "Price:  0.63, Change: -6.41, Volume: 2,145,927,112.67",
           "Price:  32,670.00, Change: -5.82, Volume: 25,879,859,152.04",
           "Price:  130.80, Change: -7.52, Volume: 2,197,101,648.72",
           "Price:  2,180.03, Change: -8.30, Volume: 22,562,361,036.64"
          ],
          [
           "Central America",
           "El Salvador",
           13.7,
           -89.2,
           "USD",
           "Price:  0.63, Change: -6.41, Volume: 2,145,927,112.67",
           "Price:  32,670.00, Change: -5.82, Volume: 25,879,859,152.04",
           "Price:  130.80, Change: -7.52, Volume: 2,197,101,648.72",
           "Price:  2,180.03, Change: -8.30, Volume: 22,562,361,036.64"
          ],
          [
           "Australia",
           "Guam",
           13.46666667,
           144.73333300000002,
           "USD",
           "Price:  0.63, Change: -6.41, Volume: 2,145,927,112.67",
           "Price:  32,670.00, Change: -5.82, Volume: 25,879,859,152.04",
           "Price:  130.80, Change: -7.52, Volume: 2,197,101,648.72",
           "Price:  2,180.03, Change: -8.30, Volume: 22,562,361,036.64"
          ],
          [
           "Australia",
           "Marshall Islands",
           7.1,
           171.383333,
           "USD",
           "Price:  0.63, Change: -6.41, Volume: 2,145,927,112.67",
           "Price:  32,670.00, Change: -5.82, Volume: 25,879,859,152.04",
           "Price:  130.80, Change: -7.52, Volume: 2,197,101,648.72",
           "Price:  2,180.03, Change: -8.30, Volume: 22,562,361,036.64"
          ],
          [
           "Australia",
           "Federated States of Micronesia",
           6.916666667,
           158.15,
           "USD",
           "Price:  0.63, Change: -6.41, Volume: 2,145,927,112.67",
           "Price:  32,670.00, Change: -5.82, Volume: 25,879,859,152.04",
           "Price:  130.80, Change: -7.52, Volume: 2,197,101,648.72",
           "Price:  2,180.03, Change: -8.30, Volume: 22,562,361,036.64"
          ],
          [
           "Australia",
           "Northern Mariana Islands",
           15.2,
           145.75,
           "USD",
           "Price:  0.63, Change: -6.41, Volume: 2,145,927,112.67",
           "Price:  32,670.00, Change: -5.82, Volume: 25,879,859,152.04",
           "Price:  130.80, Change: -7.52, Volume: 2,197,101,648.72",
           "Price:  2,180.03, Change: -8.30, Volume: 22,562,361,036.64"
          ],
          [
           "Australia",
           "Palau",
           7.483333332999999,
           134.633333,
           "USD",
           "Price:  0.63, Change: -6.41, Volume: 2,145,927,112.67",
           "Price:  32,670.00, Change: -5.82, Volume: 25,879,859,152.04",
           "Price:  130.80, Change: -7.52, Volume: 2,197,101,648.72",
           "Price:  2,180.03, Change: -8.30, Volume: 22,562,361,036.64"
          ],
          [
           "North America",
           "Puerto Rico",
           18.46666667,
           -66.116667,
           "USD",
           "Price:  0.63, Change: -6.41, Volume: 2,145,927,112.67",
           "Price:  32,670.00, Change: -5.82, Volume: 25,879,859,152.04",
           "Price:  130.80, Change: -7.52, Volume: 2,197,101,648.72",
           "Price:  2,180.03, Change: -8.30, Volume: 22,562,361,036.64"
          ],
          [
           "Asia",
           "Timor-Leste",
           -8.583333332999999,
           125.6,
           "USD",
           "Price:  0.63, Change: -6.41, Volume: 2,145,927,112.67",
           "Price:  32,670.00, Change: -5.82, Volume: 25,879,859,152.04",
           "Price:  130.80, Change: -7.52, Volume: 2,197,101,648.72",
           "Price:  2,180.03, Change: -8.30, Volume: 22,562,361,036.64"
          ],
          [
           "North America",
           "Turks and Caicos Islands",
           21.46666667,
           -71.133333,
           "USD",
           "Price:  0.63, Change: -6.41, Volume: 2,145,927,112.67",
           "Price:  32,670.00, Change: -5.82, Volume: 25,879,859,152.04",
           "Price:  130.80, Change: -7.52, Volume: 2,197,101,648.72",
           "Price:  2,180.03, Change: -8.30, Volume: 22,562,361,036.64"
          ],
          [
           "Central America",
           "United States",
           38.883333,
           -77,
           "USD",
           "Price:  0.63, Change: -6.41, Volume: 2,145,927,112.67",
           "Price:  32,670.00, Change: -5.82, Volume: 25,879,859,152.04",
           "Price:  130.80, Change: -7.52, Volume: 2,197,101,648.72",
           "Price:  2,180.03, Change: -8.30, Volume: 22,562,361,036.64"
          ],
          [
           "North America",
           "US Virgin Islands",
           18.35,
           -64.93333299999999,
           "USD",
           "Price:  0.63, Change: -6.41, Volume: 2,145,927,112.67",
           "Price:  32,670.00, Change: -5.82, Volume: 25,879,859,152.04",
           "Price:  130.80, Change: -7.52, Volume: 2,197,101,648.72",
           "Price:  2,180.03, Change: -8.30, Volume: 22,562,361,036.64"
          ],
          [
           "Australia",
           "US Minor Outlying Islands",
           38.883333,
           -77,
           "USD",
           "Price:  0.63, Change: -6.41, Volume: 2,145,927,112.67",
           "Price:  32,670.00, Change: -5.82, Volume: 25,879,859,152.04",
           "Price:  130.80, Change: -7.52, Volume: 2,197,101,648.72",
           "Price:  2,180.03, Change: -8.30, Volume: 22,562,361,036.64"
          ],
          [
           "Africa",
           "British Indian Ocean Territory",
           -7.3,
           72.4,
           "USD",
           "Price:  0.63, Change: -6.41, Volume: 2,145,927,112.67",
           "Price:  32,670.00, Change: -5.82, Volume: 25,879,859,152.04",
           "Price:  130.80, Change: -7.52, Volume: 2,197,101,648.72",
           "Price:  2,180.03, Change: -8.30, Volume: 22,562,361,036.64"
          ],
          [
           "South America",
           "Argentina",
           -34.58333333,
           -58.666667000000004,
           "ARS",
           "Price:  60.03, Change: -6.37, Volume: 205,891,009,013.97",
           "Price:  3,134,503.00, Change: -5.78, Volume: 2,483,043,474,540.36",
           "Price:  12,549.50, Change: -7.49, Volume: 210,800,950,642.92",
           "Price:  209,163.00, Change: -8.26, Volume: 2,164,746,068,095.74"
          ],
          [
           "Asia",
           "Bahrain",
           26.23333333,
           50.566666999999995,
           "BHD",
           "Price:  0.24, Change: -6.42, Volume: 808,954,435.52",
           "Price:  12,315.59, Change: -5.83, Volume: 9,755,982,264.26",
           "Price:  49.31, Change: -7.53, Volume: 828,245,802.72",
           "Price:  821.81, Change: -8.31, Volume: 8,505,378,364.70"
          ],
          [
           "Asia",
           "Bangladesh",
           23.71666667,
           90.4,
           "BDT",
           "Price:  53.19, Change: -6.33, Volume: 182,433,652,277.11",
           "Price:  2,777,386.00, Change: -5.74, Volume: 2,200,147,990,884.34",
           "Price:  11,119.72, Change: -7.44, Volume: 186,784,199,627.99",
           "Price:  185,333.00, Change: -8.22, Volume: 1,918,114,507,993.97"
          ],
          [
           "North America",
           "Bermuda",
           32.28333333,
           -64.783333,
           "BMD",
           "Price:  0.63, Change: -6.41, Volume: 2,145,927,112.67",
           "Price:  32,670.00, Change: -5.82, Volume: 25,879,859,152.04",
           "Price:  130.80, Change: -7.52, Volume: 2,197,101,648.72",
           "Price:  2,180.03, Change: -8.30, Volume: 22,562,361,036.64"
          ],
          [
           "South America",
           "Brazil",
           -15.78333333,
           -47.916667,
           "BRL",
           "Price:  3.27, Change: -5.78, Volume: 11,227,703,100.27",
           "Price:  170,932.00, Change: -5.18, Volume: 135,405,985,189.53",
           "Price:  684.35, Change: -6.90, Volume: 11,495,453,339.16",
           "Price:  11,406.13, Change: -7.68, Volume: 118,048,506,617.44"
          ],
          [
           "Asia",
           "Myanmar",
           16.8,
           96.15,
           "MMK",
           "Price:  1,032.31, Change: -6.33, Volume: 3,540,507,089,427.08",
           "Price:  53,900,990.00, Change: -5.74, Volume: 42,698,479,487,121.13",
           "Price:  215,801.00, Change: -7.44, Volume: 3,624,938,572,031.50",
           "Price:  3,596,772.00, Change: -8.22, Volume: 37,225,029,094,797.55"
          ],
          [
           "Central America",
           "Canada",
           45.41666667,
           -75.7,
           "CAD",
           "Price:  0.79, Change: -5.39, Volume: 2,697,975,446.11",
           "Price:  41,074.00, Change: -4.79, Volume: 32,537,556,438.34",
           "Price:  164.45, Change: -6.51, Volume: 2,762,314,836.26",
           "Price:  2,740.85, Change: -7.30, Volume: 28,366,618,662.76"
          ],
          [
           "South America",
           "Chile",
           -33.45,
           -70.666667,
           "CLP",
           "Price:  468.70, Change: -6.26, Volume: 1,607,514,208,255.58",
           "Price:  24,472,937.00, Change: -5.67, Volume: 19,386,605,001,139.49",
           "Price:  97,981.00, Change: -7.38, Volume: 1,645,849,058,174.68",
           "Price:  1,633,061.00, Change: -8.16, Volume: 16,901,466,841,095.29"
          ],
          [
           "Asia",
           "China",
           39.91666667,
           116.38333300000001,
           "CNY",
           "Price:  4.06, Change: -6.13, Volume: 13,911,830,878.72",
           "Price:  211,795.00, Change: -5.54, Volume: 167,776,538,896.76",
           "Price:  847.96, Change: -7.25, Volume: 14,243,590,278.48",
           "Price:  14,132.91, Change: -8.03, Volume: 146,269,530,364.43"
          ],
          [
           "Europe",
           "Czech Republic",
           50.08333333,
           14.466667000000001,
           "CZK",
           "Price:  13.65, Change: -5.83, Volume: 46,800,524,400.21",
           "Price:  712,495.00, Change: -5.24, Volume: 564,413,848,246.84",
           "Price:  2,852.59, Change: -6.95, Volume: 47,916,589,856.92",
           "Price:  47,544.00, Change: -7.73, Volume: 492,062,531,848.06"
          ],
          [
           "Europe",
           "Denmark",
           55.66666667,
           12.583333,
           "DKK",
           "Price:  3.93, Change: -6.47, Volume: 13,481,364,337.70",
           "Price:  205,241.00, Change: -5.88, Volume: 162,585,116,790.44",
           "Price:  821.72, Change: -7.58, Volume: 13,802,858,279.06",
           "Price:  13,695.61, Change: -8.36, Volume: 141,743,588,427.56"
          ],
          [
           "Europe",
           "Faroe Islands",
           62,
           -6.766667,
           "DKK",
           "Price:  3.93, Change: -6.47, Volume: 13,481,364,337.70",
           "Price:  205,241.00, Change: -5.88, Volume: 162,585,116,790.44",
           "Price:  821.72, Change: -7.58, Volume: 13,802,858,279.06",
           "Price:  13,695.61, Change: -8.36, Volume: 141,743,588,427.56"
          ],
          [
           "Central America",
           "Greenland",
           64.18333333,
           -51.75,
           "DKK",
           "Price:  3.93, Change: -6.47, Volume: 13,481,364,337.70",
           "Price:  205,241.00, Change: -5.88, Volume: 162,585,116,790.44",
           "Price:  821.72, Change: -7.58, Volume: 13,802,858,279.06",
           "Price:  13,695.61, Change: -8.36, Volume: 141,743,588,427.56"
          ],
          [
           "Europe",
           "Hungary",
           47.5,
           19.083333,
           "HUF",
           "Price:  189.27, Change: -5.58, Volume: 649,141,363,596.43",
           "Price:  9,882,585.00, Change: -4.98, Volume: 7,828,638,242,396.32",
           "Price:  39,567.00, Change: -6.70, Volume: 664,621,622,882.45",
           "Price:  659,457.00, Change: -7.48, Volume: 6,825,097,517,436.13"
          ],
          [
           "Asia",
           "India",
           28.6,
           77.2,
           "INR",
           "Price:  46.76, Change: -6.24, Volume: 160,389,912,150.16",
           "Price:  2,441,790.00, Change: -5.65, Volume: 1,934,300,709,165.58",
           "Price:  9,776.11, Change: -7.36, Volume: 164,214,776,141.55",
           "Price:  162,939.00, Change: -8.14, Volume: 1,686,345,767,850.93"
          ],
          [
           "Asia",
           "Indonesia",
           -6.166666667,
           106.816667,
           "IDR",
           "Price:  9,099.46, Change: -6.06, Volume: 31,208,420,950,607.85",
           "Price:  475,119,737.00, Change: -5.47, Volume: 376,373,239,235,796.69",
           "Price:  1,902,220.00, Change: -7.18, Volume: 31,952,657,068,217.02",
           "Price:  31,704,379.00, Change: -7.96, Volume: 328,126,550,391,135.88"
          ],
          [
           "Asia",
           "Japan",
           35.68333333,
           139.75,
           "JPY",
           "Price:  68.78, Change: -7.13, Volume: 235,892,468,485.41",
           "Price:  3,591,248.00, Change: -6.54, Volume: 2,844,860,770,613.69",
           "Price:  14,378.15, Change: -8.23, Volume: 241,517,863,477.25",
           "Price:  239,641.00, Change: -9.00, Volume: 2,480,182,578,601.77"
          ],
          [
           "Asia",
           "South Korea",
           37.55,
           126.983333,
           "KRW",
           "Price:  718.74, Change: -5.42, Volume: 2,465,064,719,036.35",
           "Price:  37,528,361.00, Change: -4.82, Volume: 29,728,655,438,798.14",
           "Price:  150,251.00, Change: -6.54, Volume: 2,523,849,820,629.74",
           "Price:  2,504,239.00, Change: -7.32, Volume: 25,917,786,229,185.61"
          ],
          [
           "Asia",
           "Kuwait",
           29.36666667,
           47.966667,
           "KWD",
           "Price:  0.19, Change: -6.39, Volume: 646,256,679.62",
           "Price:  9,838.67, Change: -5.79, Volume: 7,793,848,982.93",
           "Price:  39.39, Change: -7.50, Volume: 661,668,147.02",
           "Price:  656.53, Change: -8.27, Volume: 6,794,767,837.99"
          ],
          [
           "Europe",
           "Liechtenstein",
           47.13333333,
           9.516667,
           "CHF",
           "Price:  0.57, Change: -6.98, Volume: 1,968,375,249.29",
           "Price:  29,967.00, Change: -6.39, Volume: 23,738,585,485.66",
           "Price:  119.98, Change: -8.08, Volume: 2,015,315,655.41",
           "Price:  1,999.66, Change: -8.85, Volume: 20,695,573,846.83"
          ],
          [
           "Europe",
           "Switzerland",
           46.91666667,
           7.466667,
           "CHF",
           "Price:  0.57, Change: -6.98, Volume: 1,968,375,249.29",
           "Price:  29,967.00, Change: -6.39, Volume: 23,738,585,485.66",
           "Price:  119.98, Change: -8.08, Volume: 2,015,315,655.41",
           "Price:  1,999.66, Change: -8.85, Volume: 20,695,573,846.83"
          ],
          [
           "Asia",
           "Malaysia",
           3.166666667,
           101.7,
           "MYR",
           "Price:  2.62, Change: -5.97, Volume: 8,973,194,221.63",
           "Price:  136,609.00, Change: -5.38, Volume: 108,216,631,044.26",
           "Price:  546.94, Change: -7.09, Volume: 9,187,180,544.12",
           "Price:  9,115.79, Change: -7.87, Volume: 94,344,512,674.71"
          ],
          [
           "Central America",
           "Mexico",
           19.43333333,
           -99.133333,
           "MXN",
           "Price:  12.58, Change: -5.86, Volume: 43,140,304,507.14",
           "Price:  656,772.00, Change: -5.27, Volume: 520,271,633,565.43",
           "Price:  2,629.49, Change: -6.98, Volume: 44,169,083,655.87",
           "Price:  43,826.00, Change: -7.76, Volume: 453,578,837,684.67"
          ],
          [
           "Africa",
           "Nigeria",
           9.083333332999999,
           7.533333,
           "NGN",
           "Price:  258.27, Change: -6.06, Volume: 885,774,334,296.55",
           "Price:  13,485,106.00, Change: -5.47, Volume: 10,682,429,462,187.52",
           "Price:  53,990.00, Change: -7.18, Volume: 906,897,647,541.97",
           "Price:  899,851.00, Change: -7.96, Volume: 9,313,065,765,093.46"
          ],
          [
           "Europe",
           "Norway",
           59.91666667,
           10.75,
           "NOK",
           "Price:  5.49, Change: -5.47, Volume: 18,813,257,159.69",
           "Price:  286,415.00, Change: -4.88, Volume: 226,887,689,991.57",
           "Price:  1,146.71, Change: -6.60, Volume: 19,261,902,270.26",
           "Price:  19,112.23, Change: -7.38, Volume: 197,803,316,713.77"
          ],
          [
           "Europe",
           "Svalbard",
           78.21666667,
           15.633332999999999,
           "NOK",
           "Price:  5.49, Change: -5.47, Volume: 18,813,257,159.69",
           "Price:  286,415.00, Change: -4.88, Volume: 226,887,689,991.57",
           "Price:  1,146.71, Change: -6.60, Volume: 19,261,902,270.26",
           "Price:  19,112.23, Change: -7.38, Volume: 197,803,316,713.77"
          ],
          [
           "Asia",
           "Pakistan",
           33.68333333,
           73.05,
           "PKR",
           "Price:  99.81, Change: -6.30, Volume: 342,328,061,273.24",
           "Price:  5,211,632.00, Change: -5.71, Volume: 4,128,472,937,052.28",
           "Price:  20,866.00, Change: -7.42, Volume: 350,491,656,210.45",
           "Price:  347,768.00, Change: -8.19, Volume: 3,599,250,536,432.09"
          ],
          [
           "Asia",
           "Philippines",
           14.6,
           120.96666699999999,
           "PHP",
           "Price:  31.24, Change: -5.86, Volume: 107,136,484,063.58",
           "Price:  1,631,055.00, Change: -5.26, Volume: 1,292,064,908,095.17",
           "Price:  6,530.20, Change: -6.97, Volume: 109,691,398,363.15",
           "Price:  108,839.00, Change: -7.75, Volume: 1,126,437,155,934.72"
          ],
          [
           "Europe",
           "Poland",
           52.25,
           21,
           "PLN",
           "Price:  2.40, Change: -6.04, Volume: 8,229,372,965.83",
           "Price:  125,285.00, Change: -5.45, Volume: 99,246,154,264.98",
           "Price:  501.60, Change: -7.16, Volume: 8,425,621,170.64",
           "Price:  8,360.15, Change: -7.94, Volume: 86,523,947,092.19"
          ],
          [
           "Europe",
           "Russia",
           55.75,
           37.6,
           "RUB",
           "Price:  46.98, Change: -5.27, Volume: 161,131,872,887.14",
           "Price:  2,453,086.00, Change: -4.67, Volume: 1,943,248,748,106.97",
           "Price:  9,821.33, Change: -6.39, Volume: 164,974,430,627.90",
           "Price:  163,693.00, Change: -7.18, Volume: 1,694,146,771,866.42"
          ],
          [
           "Asia",
           "Saudi Arabia",
           24.65,
           46.7,
           "SAR",
           "Price:  2.35, Change: -6.41, Volume: 8,048,883,328.24",
           "Price:  122,537.00, Change: -5.82, Volume: 97,069,451,071.42",
           "Price:  490.60, Change: -7.52, Volume: 8,240,827,345.17",
           "Price:  8,176.79, Change: -8.30, Volume: 84,626,272,030.12"
          ],
          [
           "Asia",
           "Singapore",
           1.283333333,
           103.85,
           "SGD",
           "Price:  0.85, Change: -6.07, Volume: 2,901,508,049.04",
           "Price:  44,173.00, Change: -5.48, Volume: 34,992,157,559.47",
           "Price:  176.85, Change: -7.19, Volume: 2,970,701,139.23",
           "Price:  2,947.62, Change: -7.96, Volume: 30,506,568,357.64"
          ],
          [
           "Africa",
           "South Africa",
           -25.7,
           28.216666999999998,
           "ZAR",
           "Price:  9.00, Change: -6.13, Volume: 30,853,474,788.56",
           "Price:  469,716.00, Change: -5.54, Volume: 372,092,592,131.69",
           "Price:  1,880.59, Change: -7.24, Volume: 31,589,246,403.78",
           "Price:  31,344.00, Change: -8.02, Volume: 324,394,632,652.87"
          ],
          [
           "Asia",
           "Sri Lanka",
           6.916666667,
           79.833333,
           "LKR",
           "Price:  124.81, Change: -6.42, Volume: 428,044,355,834.70",
           "Price:  6,516,585.00, Change: -5.83, Volume: 5,162,210,577,621.93",
           "Price:  26,090.00, Change: -7.53, Volume: 438,252,051,701.63",
           "Price:  434,847.00, Change: -8.31, Volume: 4,500,474,987,719.63"
          ],
          [
           "Europe",
           "Sweden",
           59.33333333,
           18.05,
           "SEK",
           "Price:  5.39, Change: -6.35, Volume: 18,470,786,505.85",
           "Price:  281,201.00, Change: -5.76, Volume: 222,757,497,389.64",
           "Price:  1,125.83, Change: -7.46, Volume: 18,911,264,621.04",
           "Price:  18,764.32, Change: -8.24, Volume: 194,202,566,953.57"
          ],
          [
           "Asia",
           "Taiwan",
           25.03333333,
           121.516667,
           "TWD",
           "Price:  17.53, Change: -6.34, Volume: 60,106,343,316.39",
           "Price:  915,064.00, Change: -5.75, Volume: 724,881,889,039.21",
           "Price:  3,663.61, Change: -7.45, Volume: 61,539,716,432.71",
           "Price:  61,062.00, Change: -8.23, Volume: 631,960,428,893.38"
          ],
          [
           "Asia",
           "Thailand",
           13.75,
           100.516667,
           "THB",
           "Price:  20.31, Change: -5.86, Volume: 69,652,716,815.74",
           "Price:  1,060,399.00, Change: -5.26, Volume: 840,011,056,342.83",
           "Price:  4,245.48, Change: -6.98, Volume: 71,313,745,024.30",
           "Price:  70,760.00, Change: -7.76, Volume: 732,331,370,763.34"
          ],
          [
           "Europe",
           "Turkey",
           39.93333333,
           32.866667,
           "TRY",
           "Price:  5.44, Change: -6.27, Volume: 18,655,585,165.08",
           "Price:  284,014.00, Change: -5.68, Volume: 224,986,167,340.37",
           "Price:  1,137.10, Change: -7.39, Volume: 19,100,470,226.62",
           "Price:  18,952.06, Change: -8.16, Volume: 196,145,547,236.61"
          ],
          [
           "Europe",
           "Ukraine",
           50.43333333,
           30.516666999999998,
           "UAH",
           "Price:  17.10, Change: -6.33, Volume: 58,662,012,051.71",
           "Price:  893,076.00, Change: -5.74, Volume: 707,463,268,677.91",
           "Price:  3,575.58, Change: -7.45, Volume: 60,060,941,788.33",
           "Price:  59,594.00, Change: -8.22, Volume: 616,774,673,861.14"
          ],
          [
           "Asia",
           "United Arab Emirates",
           24.46666667,
           54.36666700000001,
           "AED",
           "Price:  2.30, Change: -6.41, Volume: 7,881,953,804.07",
           "Price:  119,996.00, Change: -5.82, Volume: 95,056,282,707.84",
           "Price:  480.42, Change: -7.52, Volume: 8,069,917,005.02",
           "Price:  8,007.21, Change: -8.30, Volume: 82,871,168,527.44"
          ],
          [
           "South America",
           "Venezuela",
           10.48333333,
           -66.866667,
           "VEF",
           "Price:  0.06, Change: -6.41, Volume: 214,871,681.79",
           "Price:  3,271.23, Change: -5.82, Volume: 2,591,350,296.89",
           "Price:  13.10, Change: -7.52, Volume: 219,995,788.09",
           "Price:  218.29, Change: -8.30, Volume: 2,259,169,210.60"
          ],
          [
           "Asia",
           "Vietnam",
           21.03333333,
           105.85,
           "VND",
           "Price:  14,383.46, Change: -6.58, Volume: 49,330,993,129,990.35",
           "Price:  751,019,365.00, Change: -5.99, Volume: 594,931,275,390,005.62",
           "Price:  3,006,830.00, Change: -7.69, Volume: 50,507,403,396,404.46",
           "Price:  50,114,951.00, Change: -8.47, Volume: 518,667,978,387,329.56"
          ]
         ],
         "hovertemplate": "<b>%{hovertext}</b><br><br>Curr_code=%{customdata[4]}<br>ripple=%{customdata[5]}<br>bitcoin=%{customdata[6]}<br>litecoin=%{customdata[7]}<br>ethereum=%{customdata[8]}<br>Score_chg=%{marker.color}<extra></extra>",
         "hovertext": [
          "South Georgia and South Sandwich Islands",
          "Guernsey",
          "Isle of Man",
          "Jersey",
          "United Kingdom",
          "French Southern and Antarctic Lands",
          "Aland Islands",
          "Saint Martin",
          "Andorra",
          "Austria",
          "Belgium",
          "Cyprus",
          "Estonia",
          "Finland",
          "France",
          "Germany",
          "Greece",
          "Vatican City",
          "Ireland",
          "Italy",
          "Latvia",
          "Luxembourg",
          "Malta",
          "Monaco",
          "Montenegro",
          "Netherlands",
          "Portugal",
          "Saint Barthelemy",
          "Saint Pierre and Miquelon",
          "San Marino",
          "Slovakia",
          "Slovenia",
          "Spain",
          "Palestine",
          "Israel",
          "Nauru",
          "Australia",
          "Christmas Island",
          "Cocos Islands",
          "Kiribati",
          "Norfolk Island",
          "Tuvalu",
          "Tokelau",
          "Cook Islands",
          "New Zealand",
          "Niue",
          "Pitcairn Islands",
          "American Samoa",
          "British Virgin Islands",
          "Ecuador",
          "El Salvador",
          "Guam",
          "Marshall Islands",
          "Federated States of Micronesia",
          "Northern Mariana Islands",
          "Palau",
          "Puerto Rico",
          "Timor-Leste",
          "Turks and Caicos Islands",
          "United States",
          "US Virgin Islands",
          "US Minor Outlying Islands",
          "British Indian Ocean Territory",
          "Argentina",
          "Bahrain",
          "Bangladesh",
          "Bermuda",
          "Brazil",
          "Myanmar",
          "Canada",
          "Chile",
          "China",
          "Czech Republic",
          "Denmark",
          "Faroe Islands",
          "Greenland",
          "Hungary",
          "India",
          "Indonesia",
          "Japan",
          "South Korea",
          "Kuwait",
          "Liechtenstein",
          "Switzerland",
          "Malaysia",
          "Mexico",
          "Nigeria",
          "Norway",
          "Svalbard",
          "Pakistan",
          "Philippines",
          "Poland",
          "Russia",
          "Saudi Arabia",
          "Singapore",
          "South Africa",
          "Sri Lanka",
          "Sweden",
          "Taiwan",
          "Thailand",
          "Turkey",
          "Ukraine",
          "United Arab Emirates",
          "Venezuela",
          "Vietnam"
         ],
         "lat": [
          -54.283333,
          49.45,
          54.15,
          49.18333333,
          51.5,
          -49.35,
          60.11666700000001,
          18.0731,
          42.5,
          48.2,
          50.83333333,
          35.16666667,
          59.43333333,
          60.16666667,
          48.86666667,
          52.51666667,
          37.98333333,
          41.9,
          53.31666667,
          41.9,
          56.95,
          49.6,
          35.88333333,
          43.73333333,
          42.43333333,
          52.35,
          38.71666667,
          17.88333333,
          46.76666667,
          43.93333333,
          48.15,
          46.05,
          40.4,
          31.76666667,
          31.76666667,
          -0.5477,
          -35.26666667,
          -10.41666667,
          -12.16666667,
          -0.8833333329999999,
          -29.05,
          -8.516666667,
          -9.166667,
          -21.2,
          -41.3,
          -19.01666667,
          -25.06666667,
          -14.26666667,
          18.41666667,
          -0.21666666699999998,
          13.7,
          13.46666667,
          7.1,
          6.916666667,
          15.2,
          7.483333332999999,
          18.46666667,
          -8.583333332999999,
          21.46666667,
          38.883333,
          18.35,
          38.883333,
          -7.3,
          -34.58333333,
          26.23333333,
          23.71666667,
          32.28333333,
          -15.78333333,
          16.8,
          45.41666667,
          -33.45,
          39.91666667,
          50.08333333,
          55.66666667,
          62,
          64.18333333,
          47.5,
          28.6,
          -6.166666667,
          35.68333333,
          37.55,
          29.36666667,
          47.13333333,
          46.91666667,
          3.166666667,
          19.43333333,
          9.083333332999999,
          59.91666667,
          78.21666667,
          33.68333333,
          14.6,
          52.25,
          55.75,
          24.65,
          1.283333333,
          -25.7,
          6.916666667,
          59.33333333,
          25.03333333,
          13.75,
          39.93333333,
          50.43333333,
          24.46666667,
          10.48333333,
          21.03333333
         ],
         "legendgroup": "",
         "lon": [
          -36.5,
          -2.5333330000000003,
          -4.483333,
          -2.1,
          -0.083333,
          70.216667,
          19.9,
          -63.0822,
          1.516667,
          16.366667,
          4.3333330000000005,
          33.366667,
          24.716667,
          24.933332999999998,
          2.333333,
          13.4,
          23.733333,
          12.45,
          -6.233333,
          12.483333,
          24.1,
          6.116667,
          14.5,
          7.4166669999999995,
          19.266667,
          4.9166669999999995,
          -9.133333,
          -62.85,
          -56.183333,
          12.416667,
          17.116667,
          14.516667000000002,
          -3.683333,
          35.233333,
          35.233333,
          166.920867,
          149.133333,
          105.71666699999999,
          96.833333,
          169.533333,
          167.966667,
          179.216667,
          -171.833333,
          -159.76666699999998,
          174.783333,
          -169.916667,
          -130.083333,
          -170.7,
          -64.616667,
          -78.5,
          -89.2,
          144.73333300000002,
          171.383333,
          158.15,
          145.75,
          134.633333,
          -66.116667,
          125.6,
          -71.133333,
          -77,
          -64.93333299999999,
          -77,
          72.4,
          -58.666667000000004,
          50.566666999999995,
          90.4,
          -64.783333,
          -47.916667,
          96.15,
          -75.7,
          -70.666667,
          116.38333300000001,
          14.466667000000001,
          12.583333,
          -6.766667,
          -51.75,
          19.083333,
          77.2,
          106.816667,
          139.75,
          126.983333,
          47.966667,
          9.516667,
          7.466667,
          101.7,
          -99.133333,
          7.533333,
          10.75,
          15.633332999999999,
          73.05,
          120.96666699999999,
          21,
          37.6,
          46.7,
          103.85,
          28.216666999999998,
          79.833333,
          18.05,
          121.516667,
          100.516667,
          32.866667,
          30.516666999999998,
          54.36666700000001,
          -66.866667,
          105.85
         ],
         "marker": {
          "color": [
           -6.794592209044272,
           -6.794592209044272,
           -6.794592209044272,
           -6.794592209044272,
           -6.794592209044272,
           -7.072762622266418,
           -7.072762622266418,
           -7.072762622266418,
           -7.072762622266418,
           -7.072762622266418,
           -7.072762622266418,
           -7.072762622266418,
           -7.072762622266418,
           -7.072762622266418,
           -7.072762622266418,
           -7.072762622266418,
           -7.072762622266418,
           -7.072762622266418,
           -7.072762622266418,
           -7.072762622266418,
           -7.072762622266418,
           -7.072762622266418,
           -7.072762622266418,
           -7.072762622266418,
           -7.072762622266418,
           -7.072762622266418,
           -7.072762622266418,
           -7.072762622266418,
           -7.072762622266418,
           -7.072762622266418,
           -7.072762622266418,
           -7.072762622266418,
           -7.072762622266418,
           -6.9047685830812,
           -6.9047685830812,
           -5.959896968761064,
           -5.959896968761064,
           -5.959896968761064,
           -5.959896968761064,
           -5.959896968761064,
           -5.959896968761064,
           -5.959896968761064,
           -6.104163621843247,
           -6.104163621843247,
           -6.104163621843247,
           -6.104163621843247,
           -6.104163621843247,
           -7.0121557023492525,
           -7.0121557023492525,
           -7.0121557023492525,
           -7.0121557023492525,
           -7.0121557023492525,
           -7.0121557023492525,
           -7.0121557023492525,
           -7.0121557023492525,
           -7.0121557023492525,
           -7.0121557023492525,
           -7.0121557023492525,
           -7.0121557023492525,
           -7.0121557023492525,
           -7.0121557023492525,
           -7.0121557023492525,
           -7.0121557023492525,
           -6.976752676188847,
           -7.0227613209711715,
           -6.935013071914178,
           -7.0121557023492525,
           -6.384143320782026,
           -6.934842553317817,
           -5.9983844957175805,
           -6.867956211059086,
           -6.7359413652798725,
           -6.437364770593039,
           -7.0712059814778705,
           -7.0712059814778705,
           -7.0712059814778705,
           -6.182559072744763,
           -6.847824158057123,
           -6.665321376023758,
           -7.727193910086399,
           -6.023667564854645,
           -6.9874474816608565,
           -7.577415426091864,
           -7.577415426091864,
           -6.5764846394457885,
           -6.467191990348385,
           -6.6684681076199865,
           -6.082727190187686,
           -6.082727190187686,
           -6.905782604039418,
           -6.461327574577254,
           -6.647448612456437,
           -5.8767191128382485,
           -7.0118829933473235,
           -6.6739427888556815,
           -6.731260113012917,
           -7.024967323089822,
           -6.953251322445965,
           -6.942389486138735,
           -6.462894183826297,
           -6.87734801875793,
           -6.936585455275322,
           -7.012155702349291,
           -7.012155702349361,
           -7.183202592168131
          ],
          "coloraxis": "coloraxis"
         },
         "mode": "markers",
         "name": "",
         "showlegend": false,
         "subplot": "mapbox",
         "type": "scattermapbox"
        }
       ],
       "layout": {
        "coloraxis": {
         "colorbar": {
          "title": {
           "text": "Score_chg"
          }
         },
         "colorscale": [
          [
           0,
           "#0d0887"
          ],
          [
           0.1111111111111111,
           "#46039f"
          ],
          [
           0.2222222222222222,
           "#7201a8"
          ],
          [
           0.3333333333333333,
           "#9c179e"
          ],
          [
           0.4444444444444444,
           "#bd3786"
          ],
          [
           0.5555555555555556,
           "#d8576b"
          ],
          [
           0.6666666666666666,
           "#ed7953"
          ],
          [
           0.7777777777777778,
           "#fb9f3a"
          ],
          [
           0.8888888888888888,
           "#fdca26"
          ],
          [
           1,
           "#f0f921"
          ]
         ]
        },
        "height": 1000,
        "legend": {
         "tracegroupgap": 0
        },
        "mapbox": {
         "accesstoken": "pk.eyJ1Ijoic2lkdHVuZyIsImEiOiJja3B0MjdlYW8wazJ0MnZvMWV6NTBrb3k4In0.kXo9vTPDgpSihixZv6ykFA",
         "center": {
          "lat": 24.09674983793334,
          "lon": 23.421638133333314
         },
         "domain": {
          "x": [
           0,
           1
          ],
          "y": [
           0,
           1
          ]
         },
         "style": "basic",
         "zoom": 2
        },
        "margin": {
         "t": 60
        },
        "template": {
         "data": {
          "bar": [
           {
            "error_x": {
             "color": "#2a3f5f"
            },
            "error_y": {
             "color": "#2a3f5f"
            },
            "marker": {
             "line": {
              "color": "#E5ECF6",
              "width": 0.5
             },
             "pattern": {
              "fillmode": "overlay",
              "size": 10,
              "solidity": 0.2
             }
            },
            "type": "bar"
           }
          ],
          "barpolar": [
           {
            "marker": {
             "line": {
              "color": "#E5ECF6",
              "width": 0.5
             },
             "pattern": {
              "fillmode": "overlay",
              "size": 10,
              "solidity": 0.2
             }
            },
            "type": "barpolar"
           }
          ],
          "carpet": [
           {
            "aaxis": {
             "endlinecolor": "#2a3f5f",
             "gridcolor": "white",
             "linecolor": "white",
             "minorgridcolor": "white",
             "startlinecolor": "#2a3f5f"
            },
            "baxis": {
             "endlinecolor": "#2a3f5f",
             "gridcolor": "white",
             "linecolor": "white",
             "minorgridcolor": "white",
             "startlinecolor": "#2a3f5f"
            },
            "type": "carpet"
           }
          ],
          "choropleth": [
           {
            "colorbar": {
             "outlinewidth": 0,
             "ticks": ""
            },
            "type": "choropleth"
           }
          ],
          "contour": [
           {
            "colorbar": {
             "outlinewidth": 0,
             "ticks": ""
            },
            "colorscale": [
             [
              0,
              "#0d0887"
             ],
             [
              0.1111111111111111,
              "#46039f"
             ],
             [
              0.2222222222222222,
              "#7201a8"
             ],
             [
              0.3333333333333333,
              "#9c179e"
             ],
             [
              0.4444444444444444,
              "#bd3786"
             ],
             [
              0.5555555555555556,
              "#d8576b"
             ],
             [
              0.6666666666666666,
              "#ed7953"
             ],
             [
              0.7777777777777778,
              "#fb9f3a"
             ],
             [
              0.8888888888888888,
              "#fdca26"
             ],
             [
              1,
              "#f0f921"
             ]
            ],
            "type": "contour"
           }
          ],
          "contourcarpet": [
           {
            "colorbar": {
             "outlinewidth": 0,
             "ticks": ""
            },
            "type": "contourcarpet"
           }
          ],
          "heatmap": [
           {
            "colorbar": {
             "outlinewidth": 0,
             "ticks": ""
            },
            "colorscale": [
             [
              0,
              "#0d0887"
             ],
             [
              0.1111111111111111,
              "#46039f"
             ],
             [
              0.2222222222222222,
              "#7201a8"
             ],
             [
              0.3333333333333333,
              "#9c179e"
             ],
             [
              0.4444444444444444,
              "#bd3786"
             ],
             [
              0.5555555555555556,
              "#d8576b"
             ],
             [
              0.6666666666666666,
              "#ed7953"
             ],
             [
              0.7777777777777778,
              "#fb9f3a"
             ],
             [
              0.8888888888888888,
              "#fdca26"
             ],
             [
              1,
              "#f0f921"
             ]
            ],
            "type": "heatmap"
           }
          ],
          "heatmapgl": [
           {
            "colorbar": {
             "outlinewidth": 0,
             "ticks": ""
            },
            "colorscale": [
             [
              0,
              "#0d0887"
             ],
             [
              0.1111111111111111,
              "#46039f"
             ],
             [
              0.2222222222222222,
              "#7201a8"
             ],
             [
              0.3333333333333333,
              "#9c179e"
             ],
             [
              0.4444444444444444,
              "#bd3786"
             ],
             [
              0.5555555555555556,
              "#d8576b"
             ],
             [
              0.6666666666666666,
              "#ed7953"
             ],
             [
              0.7777777777777778,
              "#fb9f3a"
             ],
             [
              0.8888888888888888,
              "#fdca26"
             ],
             [
              1,
              "#f0f921"
             ]
            ],
            "type": "heatmapgl"
           }
          ],
          "histogram": [
           {
            "marker": {
             "pattern": {
              "fillmode": "overlay",
              "size": 10,
              "solidity": 0.2
             }
            },
            "type": "histogram"
           }
          ],
          "histogram2d": [
           {
            "colorbar": {
             "outlinewidth": 0,
             "ticks": ""
            },
            "colorscale": [
             [
              0,
              "#0d0887"
             ],
             [
              0.1111111111111111,
              "#46039f"
             ],
             [
              0.2222222222222222,
              "#7201a8"
             ],
             [
              0.3333333333333333,
              "#9c179e"
             ],
             [
              0.4444444444444444,
              "#bd3786"
             ],
             [
              0.5555555555555556,
              "#d8576b"
             ],
             [
              0.6666666666666666,
              "#ed7953"
             ],
             [
              0.7777777777777778,
              "#fb9f3a"
             ],
             [
              0.8888888888888888,
              "#fdca26"
             ],
             [
              1,
              "#f0f921"
             ]
            ],
            "type": "histogram2d"
           }
          ],
          "histogram2dcontour": [
           {
            "colorbar": {
             "outlinewidth": 0,
             "ticks": ""
            },
            "colorscale": [
             [
              0,
              "#0d0887"
             ],
             [
              0.1111111111111111,
              "#46039f"
             ],
             [
              0.2222222222222222,
              "#7201a8"
             ],
             [
              0.3333333333333333,
              "#9c179e"
             ],
             [
              0.4444444444444444,
              "#bd3786"
             ],
             [
              0.5555555555555556,
              "#d8576b"
             ],
             [
              0.6666666666666666,
              "#ed7953"
             ],
             [
              0.7777777777777778,
              "#fb9f3a"
             ],
             [
              0.8888888888888888,
              "#fdca26"
             ],
             [
              1,
              "#f0f921"
             ]
            ],
            "type": "histogram2dcontour"
           }
          ],
          "mesh3d": [
           {
            "colorbar": {
             "outlinewidth": 0,
             "ticks": ""
            },
            "type": "mesh3d"
           }
          ],
          "parcoords": [
           {
            "line": {
             "colorbar": {
              "outlinewidth": 0,
              "ticks": ""
             }
            },
            "type": "parcoords"
           }
          ],
          "pie": [
           {
            "automargin": true,
            "type": "pie"
           }
          ],
          "scatter": [
           {
            "marker": {
             "colorbar": {
              "outlinewidth": 0,
              "ticks": ""
             }
            },
            "type": "scatter"
           }
          ],
          "scatter3d": [
           {
            "line": {
             "colorbar": {
              "outlinewidth": 0,
              "ticks": ""
             }
            },
            "marker": {
             "colorbar": {
              "outlinewidth": 0,
              "ticks": ""
             }
            },
            "type": "scatter3d"
           }
          ],
          "scattercarpet": [
           {
            "marker": {
             "colorbar": {
              "outlinewidth": 0,
              "ticks": ""
             }
            },
            "type": "scattercarpet"
           }
          ],
          "scattergeo": [
           {
            "marker": {
             "colorbar": {
              "outlinewidth": 0,
              "ticks": ""
             }
            },
            "type": "scattergeo"
           }
          ],
          "scattergl": [
           {
            "marker": {
             "colorbar": {
              "outlinewidth": 0,
              "ticks": ""
             }
            },
            "type": "scattergl"
           }
          ],
          "scattermapbox": [
           {
            "marker": {
             "colorbar": {
              "outlinewidth": 0,
              "ticks": ""
             }
            },
            "type": "scattermapbox"
           }
          ],
          "scatterpolar": [
           {
            "marker": {
             "colorbar": {
              "outlinewidth": 0,
              "ticks": ""
             }
            },
            "type": "scatterpolar"
           }
          ],
          "scatterpolargl": [
           {
            "marker": {
             "colorbar": {
              "outlinewidth": 0,
              "ticks": ""
             }
            },
            "type": "scatterpolargl"
           }
          ],
          "scatterternary": [
           {
            "marker": {
             "colorbar": {
              "outlinewidth": 0,
              "ticks": ""
             }
            },
            "type": "scatterternary"
           }
          ],
          "surface": [
           {
            "colorbar": {
             "outlinewidth": 0,
             "ticks": ""
            },
            "colorscale": [
             [
              0,
              "#0d0887"
             ],
             [
              0.1111111111111111,
              "#46039f"
             ],
             [
              0.2222222222222222,
              "#7201a8"
             ],
             [
              0.3333333333333333,
              "#9c179e"
             ],
             [
              0.4444444444444444,
              "#bd3786"
             ],
             [
              0.5555555555555556,
              "#d8576b"
             ],
             [
              0.6666666666666666,
              "#ed7953"
             ],
             [
              0.7777777777777778,
              "#fb9f3a"
             ],
             [
              0.8888888888888888,
              "#fdca26"
             ],
             [
              1,
              "#f0f921"
             ]
            ],
            "type": "surface"
           }
          ],
          "table": [
           {
            "cells": {
             "fill": {
              "color": "#EBF0F8"
             },
             "line": {
              "color": "white"
             }
            },
            "header": {
             "fill": {
              "color": "#C8D4E3"
             },
             "line": {
              "color": "white"
             }
            },
            "type": "table"
           }
          ]
         },
         "layout": {
          "annotationdefaults": {
           "arrowcolor": "#2a3f5f",
           "arrowhead": 0,
           "arrowwidth": 1
          },
          "autotypenumbers": "strict",
          "coloraxis": {
           "colorbar": {
            "outlinewidth": 0,
            "ticks": ""
           }
          },
          "colorscale": {
           "diverging": [
            [
             0,
             "#8e0152"
            ],
            [
             0.1,
             "#c51b7d"
            ],
            [
             0.2,
             "#de77ae"
            ],
            [
             0.3,
             "#f1b6da"
            ],
            [
             0.4,
             "#fde0ef"
            ],
            [
             0.5,
             "#f7f7f7"
            ],
            [
             0.6,
             "#e6f5d0"
            ],
            [
             0.7,
             "#b8e186"
            ],
            [
             0.8,
             "#7fbc41"
            ],
            [
             0.9,
             "#4d9221"
            ],
            [
             1,
             "#276419"
            ]
           ],
           "sequential": [
            [
             0,
             "#0d0887"
            ],
            [
             0.1111111111111111,
             "#46039f"
            ],
            [
             0.2222222222222222,
             "#7201a8"
            ],
            [
             0.3333333333333333,
             "#9c179e"
            ],
            [
             0.4444444444444444,
             "#bd3786"
            ],
            [
             0.5555555555555556,
             "#d8576b"
            ],
            [
             0.6666666666666666,
             "#ed7953"
            ],
            [
             0.7777777777777778,
             "#fb9f3a"
            ],
            [
             0.8888888888888888,
             "#fdca26"
            ],
            [
             1,
             "#f0f921"
            ]
           ],
           "sequentialminus": [
            [
             0,
             "#0d0887"
            ],
            [
             0.1111111111111111,
             "#46039f"
            ],
            [
             0.2222222222222222,
             "#7201a8"
            ],
            [
             0.3333333333333333,
             "#9c179e"
            ],
            [
             0.4444444444444444,
             "#bd3786"
            ],
            [
             0.5555555555555556,
             "#d8576b"
            ],
            [
             0.6666666666666666,
             "#ed7953"
            ],
            [
             0.7777777777777778,
             "#fb9f3a"
            ],
            [
             0.8888888888888888,
             "#fdca26"
            ],
            [
             1,
             "#f0f921"
            ]
           ]
          },
          "colorway": [
           "#636efa",
           "#EF553B",
           "#00cc96",
           "#ab63fa",
           "#FFA15A",
           "#19d3f3",
           "#FF6692",
           "#B6E880",
           "#FF97FF",
           "#FECB52"
          ],
          "font": {
           "color": "#2a3f5f"
          },
          "geo": {
           "bgcolor": "white",
           "lakecolor": "white",
           "landcolor": "#E5ECF6",
           "showlakes": true,
           "showland": true,
           "subunitcolor": "white"
          },
          "hoverlabel": {
           "align": "left"
          },
          "hovermode": "closest",
          "mapbox": {
           "style": "light"
          },
          "paper_bgcolor": "white",
          "plot_bgcolor": "#E5ECF6",
          "polar": {
           "angularaxis": {
            "gridcolor": "white",
            "linecolor": "white",
            "ticks": ""
           },
           "bgcolor": "#E5ECF6",
           "radialaxis": {
            "gridcolor": "white",
            "linecolor": "white",
            "ticks": ""
           }
          },
          "scene": {
           "xaxis": {
            "backgroundcolor": "#E5ECF6",
            "gridcolor": "white",
            "gridwidth": 2,
            "linecolor": "white",
            "showbackground": true,
            "ticks": "",
            "zerolinecolor": "white"
           },
           "yaxis": {
            "backgroundcolor": "#E5ECF6",
            "gridcolor": "white",
            "gridwidth": 2,
            "linecolor": "white",
            "showbackground": true,
            "ticks": "",
            "zerolinecolor": "white"
           },
           "zaxis": {
            "backgroundcolor": "#E5ECF6",
            "gridcolor": "white",
            "gridwidth": 2,
            "linecolor": "white",
            "showbackground": true,
            "ticks": "",
            "zerolinecolor": "white"
           }
          },
          "shapedefaults": {
           "line": {
            "color": "#2a3f5f"
           }
          },
          "ternary": {
           "aaxis": {
            "gridcolor": "white",
            "linecolor": "white",
            "ticks": ""
           },
           "baxis": {
            "gridcolor": "white",
            "linecolor": "white",
            "ticks": ""
           },
           "bgcolor": "#E5ECF6",
           "caxis": {
            "gridcolor": "white",
            "linecolor": "white",
            "ticks": ""
           }
          },
          "title": {
           "x": 0.05
          },
          "xaxis": {
           "automargin": true,
           "gridcolor": "white",
           "linecolor": "white",
           "ticks": "",
           "title": {
            "standoff": 15
           },
           "zerolinecolor": "white",
           "zerolinewidth": 2
          },
          "yaxis": {
           "automargin": true,
           "gridcolor": "white",
           "linecolor": "white",
           "ticks": "",
           "title": {
            "standoff": 15
           },
           "zerolinecolor": "white",
           "zerolinewidth": 2
          }
         }
        }
       }
      }
     },
     "metadata": {},
     "output_type": "display_data"
    }
   ],
   "source": [
    "hover_data = {'ContinentName': False, 'CountryName':False, 'CapitalLatitude':False, 'CapitalLongitude':False, 'Curr_code':True,\r\n",
    "              'ripple': True, 'bitcoin': True, 'litecoin':True, 'ethereum': True}\r\n",
    "\r\n",
    "map1 = px.scatter_mapbox(\r\n",
    "    df_plot,\r\n",
    "    lat=\"CapitalLatitude\",\r\n",
    "    lon=\"CapitalLongitude\",\r\n",
    "    color=\"Score_chg\",\r\n",
    "    hover_name='CountryName',\r\n",
    "    hover_data= hover_data, #['CapitalName', 'Curr_code' ],\r\n",
    "    zoom = 2,\r\n",
    "    mapbox_style='basic',\r\n",
    "    height=1000\r\n",
    ")\r\n",
    "map1.show()"
   ]
  },
  {
   "cell_type": "markdown",
   "metadata": {},
   "source": [
    "## Plotting the amount of coins in circulation"
   ]
  },
  {
   "cell_type": "code",
   "execution_count": 53,
   "metadata": {},
   "outputs": [],
   "source": [
    "# Get the data for USD\r\n",
    "df_circ_coins = pd.DataFrame(columns=['crypto', 'Circ_coins'], index=None)\r\n",
    "for curr in cryp_curr_list:\r\n",
    "    circ_coins = df_gecko_data.loc['USD_MARKET_CAP', curr] / df_gecko_data.loc['USD', curr]\r\n",
    "    df_circ_coins = df_circ_coins.append(pd.Series([\r\n",
    "        curr,\r\n",
    "        (circ_coins / 1000000)\r\n",
    "    ], index= df_circ_coins.columns), ignore_index= True)\r\n",
    "# df_circ_coins.set_index('crypto', inplace=True)"
   ]
  },
  {
   "cell_type": "code",
   "execution_count": 54,
   "metadata": {},
   "outputs": [
    {
     "data": {
      "text/html": [
       "<div>\n",
       "<style scoped>\n",
       "    .dataframe tbody tr th:only-of-type {\n",
       "        vertical-align: middle;\n",
       "    }\n",
       "\n",
       "    .dataframe tbody tr th {\n",
       "        vertical-align: top;\n",
       "    }\n",
       "\n",
       "    .dataframe thead th {\n",
       "        text-align: right;\n",
       "    }\n",
       "</style>\n",
       "<table border=\"1\" class=\"dataframe\">\n",
       "  <thead>\n",
       "    <tr style=\"text-align: right;\">\n",
       "      <th></th>\n",
       "      <th>crypto</th>\n",
       "      <th>Circ_coins</th>\n",
       "    </tr>\n",
       "  </thead>\n",
       "  <tbody>\n",
       "    <tr>\n",
       "      <th>0</th>\n",
       "      <td>bitcoin</td>\n",
       "      <td>18.767763</td>\n",
       "    </tr>\n",
       "    <tr>\n",
       "      <th>1</th>\n",
       "      <td>litecoin</td>\n",
       "      <td>66.782101</td>\n",
       "    </tr>\n",
       "    <tr>\n",
       "      <th>2</th>\n",
       "      <td>ripple</td>\n",
       "      <td>46200.486020</td>\n",
       "    </tr>\n",
       "    <tr>\n",
       "      <th>3</th>\n",
       "      <td>ethereum</td>\n",
       "      <td>116.762908</td>\n",
       "    </tr>\n",
       "  </tbody>\n",
       "</table>\n",
       "</div>"
      ],
      "text/plain": [
       "     crypto    Circ_coins\n",
       "0   bitcoin     18.767763\n",
       "1  litecoin     66.782101\n",
       "2    ripple  46200.486020\n",
       "3  ethereum    116.762908"
      ]
     },
     "execution_count": 54,
     "metadata": {},
     "output_type": "execute_result"
    }
   ],
   "source": [
    "df_circ_coins"
   ]
  },
  {
   "cell_type": "code",
   "execution_count": 45,
   "metadata": {},
   "outputs": [],
   "source": [
    "import hvplot.pandas\r\n"
   ]
  },
  {
   "cell_type": "code",
   "execution_count": 55,
   "metadata": {},
   "outputs": [
    {
     "data": {},
     "metadata": {},
     "output_type": "display_data"
    },
    {
     "data": {
      "application/vnd.holoviews_exec.v0+json": "",
      "text/html": [
       "<div id='1970'>\n",
       "\n",
       "\n",
       "\n",
       "\n",
       "\n",
       "  <div class=\"bk-root\" id=\"473bf088-2b4b-4b19-a5db-14b45fd43242\" data-root-id=\"1970\"></div>\n",
       "</div>\n",
       "<script type=\"application/javascript\">(function(root) {\n",
       "  function embed_document(root) {\n",
       "    var docs_json = {\"745f8519-abfd-4d4e-bf5a-41616a3db849\":{\"defs\":[],\"roots\":{\"references\":[{\"attributes\":{\"axis\":{\"id\":\"1984\"},\"grid_line_color\":null,\"ticker\":null},\"id\":\"1986\",\"type\":\"Grid\"},{\"attributes\":{},\"id\":\"1988\",\"type\":\"BasicTicker\"},{\"attributes\":{\"axis_label\":\"crypto\",\"formatter\":{\"id\":\"2014\"},\"major_label_orientation\":1.5707963267948966,\"major_label_policy\":{\"id\":\"2015\"},\"ticker\":{\"id\":\"1985\"}},\"id\":\"1984\",\"type\":\"CategoricalAxis\"},{\"attributes\":{\"callback\":null,\"renderers\":[{\"id\":\"2010\"}],\"tags\":[\"hv_created\"],\"tooltips\":[[\"crypto\",\"@{crypto}\"],[\"Circ_coins\",\"@{Circ_coins}\"]]},\"id\":\"1974\",\"type\":\"HoverTool\"},{\"attributes\":{\"bottom\":{\"value\":0},\"fill_alpha\":{\"value\":1.0},\"fill_color\":{\"value\":\"#30a2da\"},\"hatch_alpha\":{\"value\":1.0},\"hatch_color\":{\"value\":\"black\"},\"hatch_scale\":{\"value\":12.0},\"hatch_weight\":{\"value\":1.0},\"line_alpha\":{\"value\":1.0},\"line_cap\":{\"value\":\"butt\"},\"line_color\":{\"value\":\"black\"},\"line_dash\":{\"value\":[]},\"line_dash_offset\":{\"value\":0},\"line_join\":{\"value\":\"bevel\"},\"line_width\":{\"value\":1},\"top\":{\"field\":\"Circ_coins\"},\"width\":{\"value\":0.8},\"x\":{\"field\":\"crypto\"}},\"id\":\"2012\",\"type\":\"VBar\"},{\"attributes\":{},\"id\":\"1982\",\"type\":\"LinearScale\"},{\"attributes\":{},\"id\":\"2018\",\"type\":\"AllLabels\"},{\"attributes\":{\"factors\":[\"bitcoin\",\"litecoin\",\"ripple\",\"ethereum\"],\"tags\":[[[\"crypto\",\"crypto\",null]]]},\"id\":\"1972\",\"type\":\"FactorRange\"},{\"attributes\":{\"children\":[{\"id\":\"1971\"},{\"id\":\"1975\"},{\"id\":\"2039\"}],\"margin\":[0,0,0,0],\"name\":\"Row02820\",\"tags\":[\"embedded\"]},\"id\":\"1970\",\"type\":\"Row\"},{\"attributes\":{},\"id\":\"2017\",\"type\":\"BasicTickFormatter\"},{\"attributes\":{},\"id\":\"2014\",\"type\":\"CategoricalTickFormatter\"},{\"attributes\":{\"end\":50818.657845536276,\"reset_end\":50818.657845536276,\"reset_start\":0.0,\"tags\":[[[\"Circ_coins\",\"Circ_coins\",null]]]},\"id\":\"1973\",\"type\":\"Range1d\"},{\"attributes\":{},\"id\":\"1985\",\"type\":\"CategoricalTicker\"},{\"attributes\":{\"axis\":{\"id\":\"1987\"},\"dimension\":1,\"grid_line_color\":null,\"ticker\":null},\"id\":\"1990\",\"type\":\"Grid\"},{\"attributes\":{\"axis_label\":\"Circ_coins\",\"formatter\":{\"id\":\"2017\"},\"major_label_policy\":{\"id\":\"2018\"},\"ticker\":{\"id\":\"1988\"}},\"id\":\"1987\",\"type\":\"LinearAxis\"},{\"attributes\":{\"margin\":[5,5,5,5],\"name\":\"HSpacer02824\",\"sizing_mode\":\"stretch_width\"},\"id\":\"1971\",\"type\":\"Spacer\"},{\"attributes\":{\"active_multi\":null,\"tools\":[{\"id\":\"1974\"},{\"id\":\"1991\"},{\"id\":\"1992\"},{\"id\":\"1993\"},{\"id\":\"1994\"},{\"id\":\"1995\"}]},\"id\":\"1997\",\"type\":\"Toolbar\"},{\"attributes\":{\"bottom_units\":\"screen\",\"fill_alpha\":0.5,\"fill_color\":\"lightgrey\",\"left_units\":\"screen\",\"level\":\"overlay\",\"line_alpha\":1.0,\"line_color\":\"black\",\"line_dash\":[4,4],\"line_width\":2,\"right_units\":\"screen\",\"syncable\":false,\"top_units\":\"screen\"},\"id\":\"1996\",\"type\":\"BoxAnnotation\"},{\"attributes\":{},\"id\":\"2027\",\"type\":\"UnionRenderers\"},{\"attributes\":{},\"id\":\"2005\",\"type\":\"Selection\"},{\"attributes\":{\"data\":{\"Circ_coins\":{\"__ndarray__\":\"UjWjFYzEMkDoeGrwDbJQQFNpeY0Pj+ZAFibtfNMwXUA=\",\"dtype\":\"float64\",\"order\":\"little\",\"shape\":[4]},\"crypto\":[\"bitcoin\",\"litecoin\",\"ripple\",\"ethereum\"]},\"selected\":{\"id\":\"2005\"},\"selection_policy\":{\"id\":\"2027\"}},\"id\":\"2004\",\"type\":\"ColumnDataSource\"},{\"attributes\":{\"fill_alpha\":{\"value\":0.1},\"fill_color\":{\"value\":\"#30a2da\"},\"line_alpha\":{\"value\":0.1},\"top\":{\"field\":\"Circ_coins\"},\"width\":{\"value\":0.8},\"x\":{\"field\":\"crypto\"}},\"id\":\"2008\",\"type\":\"VBar\"},{\"attributes\":{},\"id\":\"1980\",\"type\":\"CategoricalScale\"},{\"attributes\":{\"source\":{\"id\":\"2004\"}},\"id\":\"2011\",\"type\":\"CDSView\"},{\"attributes\":{\"fill_color\":{\"value\":\"#30a2da\"},\"top\":{\"field\":\"Circ_coins\"},\"width\":{\"value\":0.8},\"x\":{\"field\":\"crypto\"}},\"id\":\"2007\",\"type\":\"VBar\"},{\"attributes\":{\"fill_alpha\":{\"value\":0.2},\"fill_color\":{\"value\":\"#30a2da\"},\"line_alpha\":{\"value\":0.2},\"top\":{\"field\":\"Circ_coins\"},\"width\":{\"value\":0.8},\"x\":{\"field\":\"crypto\"}},\"id\":\"2009\",\"type\":\"VBar\"},{\"attributes\":{\"data_source\":{\"id\":\"2004\"},\"glyph\":{\"id\":\"2007\"},\"hover_glyph\":null,\"muted_glyph\":{\"id\":\"2009\"},\"nonselection_glyph\":{\"id\":\"2008\"},\"selection_glyph\":{\"id\":\"2012\"},\"view\":{\"id\":\"2011\"}},\"id\":\"2010\",\"type\":\"GlyphRenderer\"},{\"attributes\":{},\"id\":\"2015\",\"type\":\"AllLabels\"},{\"attributes\":{\"below\":[{\"id\":\"1984\"}],\"center\":[{\"id\":\"1986\"},{\"id\":\"1990\"}],\"height\":300,\"left\":[{\"id\":\"1987\"}],\"margin\":[5,5,5,5],\"min_border_bottom\":10,\"min_border_left\":10,\"min_border_right\":10,\"min_border_top\":10,\"renderers\":[{\"id\":\"2010\"}],\"sizing_mode\":\"fixed\",\"title\":{\"id\":\"1976\"},\"toolbar\":{\"id\":\"1997\"},\"width\":700,\"x_range\":{\"id\":\"1972\"},\"x_scale\":{\"id\":\"1980\"},\"y_range\":{\"id\":\"1973\"},\"y_scale\":{\"id\":\"1982\"}},\"id\":\"1975\",\"subtype\":\"Figure\",\"type\":\"Plot\"},{\"attributes\":{\"margin\":[5,5,5,5],\"name\":\"HSpacer02825\",\"sizing_mode\":\"stretch_width\"},\"id\":\"2039\",\"type\":\"Spacer\"},{\"attributes\":{},\"id\":\"1991\",\"type\":\"SaveTool\"},{\"attributes\":{},\"id\":\"1992\",\"type\":\"PanTool\"},{\"attributes\":{},\"id\":\"1995\",\"type\":\"ResetTool\"},{\"attributes\":{},\"id\":\"1993\",\"type\":\"WheelZoomTool\"},{\"attributes\":{\"text_color\":\"black\",\"text_font_size\":\"12pt\"},\"id\":\"1976\",\"type\":\"Title\"},{\"attributes\":{\"overlay\":{\"id\":\"1996\"}},\"id\":\"1994\",\"type\":\"BoxZoomTool\"}],\"root_ids\":[\"1970\"]},\"title\":\"Bokeh Application\",\"version\":\"2.3.2\"}};\n",
       "    var render_items = [{\"docid\":\"745f8519-abfd-4d4e-bf5a-41616a3db849\",\"root_ids\":[\"1970\"],\"roots\":{\"1970\":\"473bf088-2b4b-4b19-a5db-14b45fd43242\"}}];\n",
       "    root.Bokeh.embed.embed_items_notebook(docs_json, render_items);\n",
       "  }\n",
       "  if (root.Bokeh !== undefined && root.Bokeh.Panel !== undefined && root['Plotly'] !== undefined ) {\n",
       "    embed_document(root);\n",
       "  } else {\n",
       "    var attempts = 0;\n",
       "    var timer = setInterval(function(root) {\n",
       "      if (root.Bokeh !== undefined && root.Bokeh.Panel !== undefined && root['Plotly'] !== undefined) {\n",
       "        clearInterval(timer);\n",
       "        embed_document(root);\n",
       "      } else if (document.readyState == \"complete\") {\n",
       "        attempts++;\n",
       "        if (attempts > 100) {\n",
       "          clearInterval(timer);\n",
       "          console.log(\"Bokeh: ERROR: Unable to run BokehJS code because BokehJS library is missing\");\n",
       "        }\n",
       "      }\n",
       "    }, 10, root)\n",
       "  }\n",
       "})(window);</script>"
      ],
      "text/plain": [
       ":Bars   [crypto]   (Circ_coins)"
      ]
     },
     "execution_count": 55,
     "metadata": {
      "application/vnd.holoviews_exec.v0+json": {
       "id": "1970"
      }
     },
     "output_type": "execute_result"
    }
   ],
   "source": [
    "df_circ_coins.hvplot.bar(x= 'crypto', y= 'Circ_coins', rot= 90)"
   ]
  },
  {
   "cell_type": "code",
   "execution_count": null,
   "metadata": {},
   "outputs": [],
   "source": []
  }
 ],
 "metadata": {
  "interpreter": {
   "hash": "b1e821121f0c08743987dc62d8d21526602e0b8c1004a3750493d43aff4e0d27"
  },
  "kernelspec": {
   "display_name": "Python 3.7.10 64-bit ('pyvizenv': conda)",
   "name": "python3"
  },
  "language_info": {
   "codemirror_mode": {
    "name": "ipython",
    "version": 3
   },
   "file_extension": ".py",
   "mimetype": "text/x-python",
   "name": "python",
   "nbconvert_exporter": "python",
   "pygments_lexer": "ipython3",
   "version": "3.7.10"
  }
 },
 "nbformat": 4,
 "nbformat_minor": 5
}