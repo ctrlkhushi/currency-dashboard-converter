{
 "cells": [
  {
   "cell_type": "code",
   "execution_count": 19,
   "metadata": {},
   "outputs": [],
   "source": [
    "import pandas as pd\r\n",
    "import requests\r\n",
    "import numpy as np\r\n",
    "from datetime import datetime\r\n",
    "from pycoingecko import CoinGeckoAPI"
   ]
  },
  {
   "cell_type": "code",
   "execution_count": 20,
   "metadata": {},
   "outputs": [],
   "source": [
    "gecko = CoinGeckoAPI()"
   ]
  },
  {
   "cell_type": "code",
   "execution_count": 21,
   "metadata": {},
   "outputs": [],
   "source": [
    "data = gecko.get_coin_market_chart_by_id('bitcoin', vs_currency='aud', days= 60)"
   ]
  },
  {
   "cell_type": "code",
   "execution_count": null,
   "metadata": {},
   "outputs": [],
   "source": [
    "df_data = pd.DataFrame(columns=['date', 'close'], index=None)\r\n",
    "\r\n",
    "for i in data['prices']:\r\n",
    "\r\n",
    "    df_data = df_data.append(pd.Series([\r\n",
    "        i[0],\r\n",
    "        i[1]\r\n",
    "    ], index=df_data.columns), ignore_index= True)\r\n",
    "\r\n",
    "df_data"
   ]
  },
  {
   "cell_type": "code",
   "execution_count": null,
   "metadata": {},
   "outputs": [],
   "source": [
    "# Converting from the unix timestamp \r\n",
    "df_data['date'] = pd.to_datetime( df_data['date'], unit='ms', origin='unix' ) \r\n",
    "df_data"
   ]
  },
  {
   "cell_type": "code",
   "execution_count": null,
   "metadata": {},
   "outputs": [],
   "source": []
  }
 ],
 "metadata": {
  "interpreter": {
   "hash": "b1e821121f0c08743987dc62d8d21526602e0b8c1004a3750493d43aff4e0d27"
  },
  "kernelspec": {
   "display_name": "Python 3.7.10 64-bit ('pyvizenv': conda)",
   "name": "python3"
  },
  "language_info": {
   "codemirror_mode": {
    "name": "ipython",
    "version": 3
   },
   "file_extension": ".py",
   "mimetype": "text/x-python",
   "name": "python",
   "nbconvert_exporter": "python",
   "pygments_lexer": "ipython3",
   "version": "3.7.10"
  },
  "orig_nbformat": 4
 },
 "nbformat": 4,
 "nbformat_minor": 2
}